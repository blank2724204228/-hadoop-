{
 "cells": [
  {
   "cell_type": "code",
   "id": "f0da1a0a",
   "metadata": {
    "ExecuteTime": {
     "end_time": "2025-04-29T02:15:56.939024Z",
     "start_time": "2025-04-29T02:15:56.360057Z"
    }
   },
   "source": [
    "import mysql.connector\n",
    "from mysql.connector import Error\n",
    "import pandas as pd\n",
    "from pyecharts.charts import Map,Line,Bar,Scatter,Pie\n",
    "from pyecharts import options as opts\n",
    "\n",
    "def create_connection():\n",
    "    \"\"\"创建并返回数据库连接对象\"\"\"\n",
    "    try:\n",
    "        connection = mysql.connector.connect(\n",
    "            host='localhost',\n",
    "            user='root',\n",
    "            password='123456',\n",
    "            database='pm'\n",
    "        )\n",
    "        return connection\n",
    "    except Error as e:\n",
    "        print(\"连接错误:\", e)"
   ],
   "outputs": [],
   "execution_count": 1
  },
  {
   "cell_type": "code",
   "id": "e5251a22",
   "metadata": {
    "ExecuteTime": {
     "end_time": "2025-04-29T02:16:02.669183Z",
     "start_time": "2025-04-29T02:16:01.506292Z"
    }
   },
   "source": [
    "from pyecharts.commons.utils import JsCode\n",
    "def a1():\n",
    "    \"\"\"从数据库中获取年度全国均值数据并创建折线图可视化\"\"\"\n",
    "    conn = create_connection()\n",
    "    query = \"SELECT record_year, average_value FROM annual_national_average;\"  # 查询全国每年的平均PM2.5值\n",
    "    df = pd.read_sql(query, conn)\n",
    "    conn.close()  # 关闭数据库连接\n",
    "    if df is not None and not df.empty:\n",
    "        # 将字符串类型的平均值转换为浮点数\n",
    "        df['average_value'] = pd.to_numeric(df['average_value'], errors='coerce')\n",
    "        \n",
    "        # 创建折线图\n",
    "        line_chart = Line()\n",
    "        line_chart.add_xaxis(df['record_year'].tolist())\n",
    "        line_chart.add_yaxis(\"PM2.5年度全国均值\", df['average_value'].tolist(), is_smooth=True,label_opts=opts.LabelOpts(is_show=False)\n",
    "                            ,markpoint_opts=opts.MarkPointOpts(\n",
    "                                 data=[\n",
    "                                     opts.MarkPointItem(type_='max', name='最大值'),\n",
    "                                     opts.MarkPointItem(type_='min', name='最小值'),\n",
    "                                     opts.MarkLineItem(type_='average', name='平均值')\n",
    "                                 ],\n",
    "                                 symbol_size=60,  # 调整标记大小\n",
    "                                 label_opts=opts.LabelOpts(position='inside', color='#fff',is_show=True,\n",
    "                        formatter=JsCode(\"function(params){return params.value.toFixed(2);}\")  # 使用JavaScript代码格式化显示为两位小数\n",
    "                                                          )  # 调整标记标签的位置和颜色\n",
    "                             ))\n",
    "        line_chart.set_global_opts(\n",
    "            title_opts=opts.TitleOpts(title=\"PM2.5年度全国均值\"),\n",
    "            visualmap_opts=opts.VisualMapOpts(max_=max(df['average_value'].tolist())),  # 假设PM2.5的最大值为300，可根据实际数据调整\n",
    "            tooltip_opts=opts.TooltipOpts(is_show=True),\n",
    "            xaxis_opts=opts.AxisOpts(type_=\"category\", boundary_gap=False)\n",
    "        )\n",
    "        \n",
    "        line_chart.render(\"../文件/page/film/单页可视化/PM2.5年度全国均值.html\")\n",
    "        return line_chart\n",
    "\n",
    "# 调用函数\n",
    "a1()"
   ],
   "outputs": [
    {
     "name": "stderr",
     "output_type": "stream",
     "text": [
      "C:\\Users\\王方正\\AppData\\Local\\Temp\\ipykernel_8616\\288926722.py:6: UserWarning: pandas only supports SQLAlchemy connectable (engine/connection) or database string URI or sqlite3 DBAPI2 connection. Other DBAPI2 objects are not tested. Please consider using SQLAlchemy.\n",
      "  df = pd.read_sql(query, conn)\n"
     ]
    },
    {
     "ename": "FileNotFoundError",
     "evalue": "[Errno 2] No such file or directory: '../文件/page/film/单页可视化/PM2.5年度全国均值.html'",
     "output_type": "error",
     "traceback": [
      "\u001B[1;31m---------------------------------------------------------------------------\u001B[0m",
      "\u001B[1;31mFileNotFoundError\u001B[0m                         Traceback (most recent call last)",
      "\u001B[1;32m~\\AppData\\Local\\Temp\\ipykernel_8616\\288926722.py\u001B[0m in \u001B[0;36m<module>\u001B[1;34m\u001B[0m\n\u001B[0;32m     36\u001B[0m \u001B[1;33m\u001B[0m\u001B[0m\n\u001B[0;32m     37\u001B[0m \u001B[1;31m# 调用函数\u001B[0m\u001B[1;33m\u001B[0m\u001B[1;33m\u001B[0m\u001B[0m\n\u001B[1;32m---> 38\u001B[1;33m \u001B[0ma1\u001B[0m\u001B[1;33m(\u001B[0m\u001B[1;33m)\u001B[0m\u001B[1;33m\u001B[0m\u001B[1;33m\u001B[0m\u001B[0m\n\u001B[0m",
      "\u001B[1;32m~\\AppData\\Local\\Temp\\ipykernel_8616\\288926722.py\u001B[0m in \u001B[0;36ma1\u001B[1;34m()\u001B[0m\n\u001B[0;32m     32\u001B[0m         )\n\u001B[0;32m     33\u001B[0m \u001B[1;33m\u001B[0m\u001B[0m\n\u001B[1;32m---> 34\u001B[1;33m         \u001B[0mline_chart\u001B[0m\u001B[1;33m.\u001B[0m\u001B[0mrender\u001B[0m\u001B[1;33m(\u001B[0m\u001B[1;34m\"../文件/page/film/单页可视化/PM2.5年度全国均值.html\"\u001B[0m\u001B[1;33m)\u001B[0m\u001B[1;33m\u001B[0m\u001B[1;33m\u001B[0m\u001B[0m\n\u001B[0m\u001B[0;32m     35\u001B[0m         \u001B[1;32mreturn\u001B[0m \u001B[0mline_chart\u001B[0m\u001B[1;33m\u001B[0m\u001B[1;33m\u001B[0m\u001B[0m\n\u001B[0;32m     36\u001B[0m \u001B[1;33m\u001B[0m\u001B[0m\n",
      "\u001B[1;32m~\\AppData\\Roaming\\Python\\Python39\\site-packages\\pyecharts\\charts\\base.py\u001B[0m in \u001B[0;36mrender\u001B[1;34m(self, path, template_name, env, **kwargs)\u001B[0m\n\u001B[0;32m     95\u001B[0m     ) -> str:\n\u001B[0;32m     96\u001B[0m         \u001B[0mself\u001B[0m\u001B[1;33m.\u001B[0m\u001B[0m_prepare_render\u001B[0m\u001B[1;33m(\u001B[0m\u001B[1;33m)\u001B[0m\u001B[1;33m\u001B[0m\u001B[1;33m\u001B[0m\u001B[0m\n\u001B[1;32m---> 97\u001B[1;33m         \u001B[1;32mreturn\u001B[0m \u001B[0mengine\u001B[0m\u001B[1;33m.\u001B[0m\u001B[0mrender\u001B[0m\u001B[1;33m(\u001B[0m\u001B[0mself\u001B[0m\u001B[1;33m,\u001B[0m \u001B[0mpath\u001B[0m\u001B[1;33m,\u001B[0m \u001B[0mtemplate_name\u001B[0m\u001B[1;33m,\u001B[0m \u001B[0menv\u001B[0m\u001B[1;33m,\u001B[0m \u001B[1;33m**\u001B[0m\u001B[0mkwargs\u001B[0m\u001B[1;33m)\u001B[0m\u001B[1;33m\u001B[0m\u001B[1;33m\u001B[0m\u001B[0m\n\u001B[0m\u001B[0;32m     98\u001B[0m \u001B[1;33m\u001B[0m\u001B[0m\n\u001B[0;32m     99\u001B[0m     def render_embed(\n",
      "\u001B[1;32m~\\AppData\\Roaming\\Python\\Python39\\site-packages\\pyecharts\\render\\engine.py\u001B[0m in \u001B[0;36mrender\u001B[1;34m(chart, path, template_name, env, **kwargs)\u001B[0m\n\u001B[0;32m     90\u001B[0m     \u001B[0mchart\u001B[0m\u001B[1;33m,\u001B[0m \u001B[0mpath\u001B[0m\u001B[1;33m:\u001B[0m \u001B[0mstr\u001B[0m\u001B[1;33m,\u001B[0m \u001B[0mtemplate_name\u001B[0m\u001B[1;33m:\u001B[0m \u001B[0mstr\u001B[0m\u001B[1;33m,\u001B[0m \u001B[0menv\u001B[0m\u001B[1;33m:\u001B[0m \u001B[0mOptional\u001B[0m\u001B[1;33m[\u001B[0m\u001B[0mEnvironment\u001B[0m\u001B[1;33m]\u001B[0m\u001B[1;33m,\u001B[0m \u001B[1;33m**\u001B[0m\u001B[0mkwargs\u001B[0m\u001B[1;33m\u001B[0m\u001B[1;33m\u001B[0m\u001B[0m\n\u001B[0;32m     91\u001B[0m ) -> str:\n\u001B[1;32m---> 92\u001B[1;33m     RenderEngine(env).render_chart_to_file(\n\u001B[0m\u001B[0;32m     93\u001B[0m         \u001B[0mtemplate_name\u001B[0m\u001B[1;33m=\u001B[0m\u001B[0mtemplate_name\u001B[0m\u001B[1;33m,\u001B[0m \u001B[0mchart\u001B[0m\u001B[1;33m=\u001B[0m\u001B[0mchart\u001B[0m\u001B[1;33m,\u001B[0m \u001B[0mpath\u001B[0m\u001B[1;33m=\u001B[0m\u001B[0mpath\u001B[0m\u001B[1;33m,\u001B[0m \u001B[1;33m**\u001B[0m\u001B[0mkwargs\u001B[0m\u001B[1;33m\u001B[0m\u001B[1;33m\u001B[0m\u001B[0m\n\u001B[0;32m     94\u001B[0m     )\n",
      "\u001B[1;32m~\\AppData\\Roaming\\Python\\Python39\\site-packages\\pyecharts\\render\\engine.py\u001B[0m in \u001B[0;36mrender_chart_to_file\u001B[1;34m(self, template_name, chart, path, **kwargs)\u001B[0m\n\u001B[0;32m     74\u001B[0m             \u001B[0mtpl\u001B[0m\u001B[1;33m.\u001B[0m\u001B[0mrender\u001B[0m\u001B[1;33m(\u001B[0m\u001B[0mchart\u001B[0m\u001B[1;33m=\u001B[0m\u001B[0mself\u001B[0m\u001B[1;33m.\u001B[0m\u001B[0mgenerate_js_link\u001B[0m\u001B[1;33m(\u001B[0m\u001B[0mchart\u001B[0m\u001B[1;33m)\u001B[0m\u001B[1;33m,\u001B[0m \u001B[1;33m**\u001B[0m\u001B[0mkwargs\u001B[0m\u001B[1;33m)\u001B[0m\u001B[1;33m\u001B[0m\u001B[1;33m\u001B[0m\u001B[0m\n\u001B[0;32m     75\u001B[0m         )\n\u001B[1;32m---> 76\u001B[1;33m         \u001B[0mwrite_utf8_html_file\u001B[0m\u001B[1;33m(\u001B[0m\u001B[0mpath\u001B[0m\u001B[1;33m,\u001B[0m \u001B[0mhtml\u001B[0m\u001B[1;33m)\u001B[0m\u001B[1;33m\u001B[0m\u001B[1;33m\u001B[0m\u001B[0m\n\u001B[0m\u001B[0;32m     77\u001B[0m \u001B[1;33m\u001B[0m\u001B[0m\n\u001B[0;32m     78\u001B[0m     \u001B[1;32mdef\u001B[0m \u001B[0mrender_chart_to_template\u001B[0m\u001B[1;33m(\u001B[0m\u001B[0mself\u001B[0m\u001B[1;33m,\u001B[0m \u001B[0mtemplate_name\u001B[0m\u001B[1;33m:\u001B[0m \u001B[0mstr\u001B[0m\u001B[1;33m,\u001B[0m \u001B[0mchart\u001B[0m\u001B[1;33m:\u001B[0m \u001B[0mAny\u001B[0m\u001B[1;33m,\u001B[0m \u001B[1;33m**\u001B[0m\u001B[0mkwargs\u001B[0m\u001B[1;33m)\u001B[0m \u001B[1;33m->\u001B[0m \u001B[0mstr\u001B[0m\u001B[1;33m:\u001B[0m\u001B[1;33m\u001B[0m\u001B[1;33m\u001B[0m\u001B[0m\n",
      "\u001B[1;32m~\\AppData\\Roaming\\Python\\Python39\\site-packages\\pyecharts\\render\\engine.py\u001B[0m in \u001B[0;36mwrite_utf8_html_file\u001B[1;34m(file_name, html_content)\u001B[0m\n\u001B[0;32m     16\u001B[0m \u001B[1;33m\u001B[0m\u001B[0m\n\u001B[0;32m     17\u001B[0m \u001B[1;32mdef\u001B[0m \u001B[0mwrite_utf8_html_file\u001B[0m\u001B[1;33m(\u001B[0m\u001B[0mfile_name\u001B[0m\u001B[1;33m:\u001B[0m \u001B[0mstr\u001B[0m\u001B[1;33m,\u001B[0m \u001B[0mhtml_content\u001B[0m\u001B[1;33m:\u001B[0m \u001B[0mstr\u001B[0m\u001B[1;33m)\u001B[0m\u001B[1;33m:\u001B[0m\u001B[1;33m\u001B[0m\u001B[1;33m\u001B[0m\u001B[0m\n\u001B[1;32m---> 18\u001B[1;33m     with open(file=file_name,\n\u001B[0m\u001B[0;32m     19\u001B[0m               \u001B[0mmode\u001B[0m\u001B[1;33m=\u001B[0m\u001B[1;34m\"w+\"\u001B[0m\u001B[1;33m,\u001B[0m\u001B[1;33m\u001B[0m\u001B[1;33m\u001B[0m\u001B[0m\n\u001B[0;32m     20\u001B[0m               \u001B[0mencoding\u001B[0m\u001B[1;33m=\u001B[0m\u001B[1;34m\"utf-8\"\u001B[0m\u001B[1;33m,\u001B[0m\u001B[1;33m\u001B[0m\u001B[1;33m\u001B[0m\u001B[0m\n",
      "\u001B[1;31mFileNotFoundError\u001B[0m: [Errno 2] No such file or directory: '../文件/page/film/单页可视化/PM2.5年度全国均值.html'"
     ]
    }
   ],
   "execution_count": 2
  },
  {
   "cell_type": "code",
   "execution_count": 39,
   "id": "883bf896",
   "metadata": {},
   "outputs": [
    {
     "data": {
      "text/plain": [
       "<pyecharts.charts.basic_charts.bar.Bar at 0x21b67b53cc8>"
      ]
     },
     "execution_count": 39,
     "metadata": {},
     "output_type": "execute_result"
    }
   ],
   "source": [
    "def a2():\n",
    "    \"\"\"从数据库中获取年度全国总和数据并创建柱状图可视化\"\"\"\n",
    "    conn = create_connection()\n",
    "    query = \"SELECT record_year, total_sum FROM annual_national_sum;\"  # 查询全国每年的PM2.5总和值\n",
    "    df = pd.read_sql(query, conn)\n",
    "    conn.close()  # 关闭数据库连接\n",
    "    if df is not None and not df.empty:\n",
    "        # 将字符串类型的总和值转换为浮点数\n",
    "        df['total_sum'] = pd.to_numeric(df['total_sum'], errors='coerce')\n",
    "        \n",
    "        # 创建柱状图\n",
    "        bar_chart = Bar()\n",
    "        bar_chart.add_xaxis(df['record_year'].tolist())\n",
    "        bar_chart.add_yaxis(\"PM2.5年度全国总和\", df['total_sum'].tolist())\n",
    "        bar_chart.set_global_opts(\n",
    "            title_opts=opts.TitleOpts(title=\"PM2.5年度全国总和\"),\n",
    "            visualmap_opts=opts.VisualMapOpts(max_=max(df['total_sum'].tolist()),pos_right='right',is_show=False),  # 根据实际数据调整最大值\n",
    "            tooltip_opts=opts.TooltipOpts(is_show=True),\n",
    "            xaxis_opts=opts.AxisOpts(type_=\"category\", axislabel_opts=opts.LabelOpts(rotate=-15))\n",
    "        )\n",
    "        bar_chart.set_series_opts(\n",
    "            label_opts=opts.LabelOpts(is_show=False, position='top', formatter=JsCode(\"function(x){return Number(x.value).toFixed(2);}\"))\n",
    "        )\n",
    "        \n",
    "        bar_chart.render(\"../文件/page/film/单页可视化/PM2.5年度全国总和.html\")\n",
    "        return bar_chart\n",
    "\n",
    "# 调用函数\n",
    "a2()"
   ]
  },
  {
   "cell_type": "code",
   "execution_count": 63,
   "id": "c985c29c",
   "metadata": {},
   "outputs": [
    {
     "data": {
      "text/plain": [
       "<pyecharts.charts.basic_charts.line.Line at 0x21b678b2d88>"
      ]
     },
     "execution_count": 63,
     "metadata": {},
     "output_type": "execute_result"
    }
   ],
   "source": [
    "def a3():\n",
    "    \"\"\"从数据库中获取年度全国最大值数据并创建折线图可视化\"\"\"\n",
    "    df = pd.read_sql(\"SELECT record_year, max_value FROM annual_national_max;\", conn)\n",
    "    line_chart = Line(init_opts=opts.InitOpts(theme='light'))\n",
    "    line_chart.add_xaxis(df['record_year'].tolist())\n",
    "    line_chart.add_yaxis(\"PM2.5年度全国最大值\", df['max_value'].apply(pd.to_numeric, errors='coerce').tolist(),is_smooth=True,label_opts=opts.LabelOpts(is_show=False)\n",
    "                            ,markpoint_opts=opts.MarkPointOpts(\n",
    "                                 data=[\n",
    "                                     opts.MarkPointItem(type_='max', name='最大值'),\n",
    "                                     opts.MarkPointItem(type_='min', name='最小值'),\n",
    "                                     opts.MarkLineItem(type_='average', name='平均值')\n",
    "                                 ],\n",
    "                                 symbol_size=60,  # 调整标记大小\n",
    "                                 label_opts=opts.LabelOpts(position='inside', color='#fff',is_show=True,\n",
    "                        formatter=JsCode(\"function(params){return params.value.toFixed(2);}\")  # 使用JavaScript代码格式化显示为两位小数\n",
    "                                                          )  # 调整标记标签的位置和颜色\n",
    "                             ))\n",
    "    line_chart.set_global_opts(\n",
    "        title_opts=opts.TitleOpts(title=\"PM2.5年度全国最大值\"),\n",
    "        xaxis_opts=opts.AxisOpts(type_='category'),\n",
    "        yaxis_opts=opts.AxisOpts(type_='value')\n",
    "    )\n",
    "    line_chart.render(\"../文件/page/film/单页可视化/PM2.5年度全国最大值.html\")\n",
    "    return line_chart\n",
    "a3()"
   ]
  },
  {
   "cell_type": "code",
   "execution_count": 64,
   "id": "6ad06baa",
   "metadata": {},
   "outputs": [
    {
     "data": {
      "text/plain": [
       "<pyecharts.charts.basic_charts.line.Line at 0x21b665c82c8>"
      ]
     },
     "execution_count": 64,
     "metadata": {},
     "output_type": "execute_result"
    }
   ],
   "source": [
    "def a4():\n",
    "    \"\"\"从数据库中获取年度全国最小值数据并创建折线图可视化\"\"\"\n",
    "    df = pd.read_sql(\"SELECT record_year, min_value FROM annual_national_min;\", conn)\n",
    "    line_chart = Line(init_opts=opts.InitOpts(theme='dark'))\n",
    "    line_chart.add_xaxis(df['record_year'].tolist())\n",
    "    line_chart.add_yaxis(\"PM2.5年度全国最小值\", df['min_value'].apply(pd.to_numeric, errors='coerce').tolist(),is_smooth=True,label_opts=opts.LabelOpts(is_show=False)\n",
    "                            ,markpoint_opts=opts.MarkPointOpts(\n",
    "                                 data=[\n",
    "                                     opts.MarkPointItem(type_='max', name='最大值'),\n",
    "                                     opts.MarkPointItem(type_='min', name='最小值'),\n",
    "                                     opts.MarkLineItem(type_='average', name='平均值')\n",
    "                                 ],\n",
    "                                 symbol_size=60,  # 调整标记大小\n",
    "                                 label_opts=opts.LabelOpts(position='inside', color='#fff',is_show=True,\n",
    "                        formatter=JsCode(\"function(params){return params.value.toFixed(2);}\")  # 使用JavaScript代码格式化显示为两位小数\n",
    "                                                          )  # 调整标记标签的位置和颜色\n",
    "                             ))\n",
    "    line_chart.set_global_opts(\n",
    "        title_opts=opts.TitleOpts(title=\"PM2.5年度全国最小值\"),\n",
    "        tooltip_opts=opts.TooltipOpts(trigger='axis'),\n",
    "        xaxis_opts=opts.AxisOpts(type_='category'),\n",
    "        yaxis_opts=opts.AxisOpts(type_='value')\n",
    "    )\n",
    "    line_chart.render(\"../文件/page/film/单页可视化/PM2.5年度全国最小值.html\")\n",
    "    return line_chart\n",
    "a4()"
   ]
  },
  {
   "cell_type": "code",
   "execution_count": 56,
   "id": "46382ff0",
   "metadata": {},
   "outputs": [
    {
     "data": {
      "text/plain": [
       "<pyecharts.charts.basic_charts.bar.Bar at 0x21b67862a08>"
      ]
     },
     "execution_count": 56,
     "metadata": {},
     "output_type": "execute_result"
    }
   ],
   "source": [
    "def a5():\n",
    "    \"\"\"从数据库中获取年度全国标准差数据并创建柱状图可视化\"\"\"\n",
    "    df = pd.read_sql(\"SELECT record_year, std_dev_value FROM annual_national_std_dev;\", conn)\n",
    "    bar_chart = Bar()\n",
    "    bar_chart.add_xaxis(df['record_year'].tolist())\n",
    "    bar_chart.add_yaxis(\"PM2.5年度全国标准差\", df['std_dev_value'].apply(pd.to_numeric, errors='coerce').tolist(),\n",
    "                        label_opts=opts.LabelOpts(is_show=True, formatter=JsCode(\"function(x){return Number(x.value).toFixed(2); }\")))\n",
    "    bar_chart.set_global_opts(\n",
    "        title_opts=opts.TitleOpts(title=\"PM2.5年度全国标准差\"),\n",
    "#         tooltip_opts=opts.TooltipOpts(trigger='axis', formatter=JsCode(\"function(params){return params.seriesName + '<br/>' + params.name + ': ' + params.value.toFixed(2); }\")),\n",
    "        xaxis_opts=opts.AxisOpts(type_='category'),\n",
    "        yaxis_opts=opts.AxisOpts(type_='value')\n",
    "    )\n",
    "    bar_chart.render(\"../文件/page/film/单页可视化/PM2.5年度全国标准差.html\")\n",
    "    return bar_chart\n",
    "a5()"
   ]
  },
  {
   "cell_type": "code",
   "execution_count": 77,
   "id": "f6c88151",
   "metadata": {},
   "outputs": [
    {
     "data": {
      "text/plain": [
       "<pyecharts.charts.basic_charts.line.Line at 0x21b6863be48>"
      ]
     },
     "execution_count": 77,
     "metadata": {},
     "output_type": "execute_result"
    }
   ],
   "source": [
    "def a6():\n",
    "    df = pd.read_sql(\"SELECT record_year, average_value FROM jiangxi_annual_average;\", conn)\n",
    "    line_chart = Line(init_opts=opts.InitOpts(theme='roma'))\n",
    "    line_chart.add_xaxis(df['record_year'].tolist())\n",
    "    line_chart.add_yaxis(\"江西省年度平均值\", df['average_value'].apply(pd.to_numeric, errors='coerce').round(2).tolist(),\n",
    "    label_opts=opts.LabelOpts(is_show=True)\n",
    "                        )\n",
    "    line_chart.set_global_opts(\n",
    "        title_opts=opts.TitleOpts(title=\"江西省年度平均值\"),\n",
    "        tooltip_opts=opts.TooltipOpts(trigger='axis'),\n",
    "        xaxis_opts=opts.AxisOpts(type_='category'),\n",
    "        yaxis_opts=opts.AxisOpts(type_='value')\n",
    "    )\n",
    "    line_chart.render(\"../文件/page/film/单页可视化/江西省年度平均值.html\")\n",
    "    return line_chart\n",
    "a6()"
   ]
  },
  {
   "cell_type": "code",
   "execution_count": 78,
   "id": "bc926389",
   "metadata": {},
   "outputs": [
    {
     "data": {
      "text/plain": [
       "<pyecharts.charts.basic_charts.line.Line at 0x21b6615ee08>"
      ]
     },
     "execution_count": 78,
     "metadata": {},
     "output_type": "execute_result"
    }
   ],
   "source": [
    "def a7():\n",
    "    df = pd.read_sql(\"SELECT record_year, max_value FROM jiangxi_annual_max;\", conn)\n",
    "    line_chart = Line(init_opts=opts.InitOpts(theme='wonderland'))\n",
    "    line_chart.add_xaxis(df['record_year'].tolist())\n",
    "    line_chart.add_yaxis(\"江西省年度最大值\", df['max_value'].apply(pd.to_numeric, errors='coerce').round(2).tolist())\n",
    "    line_chart.set_global_opts(\n",
    "        title_opts=opts.TitleOpts(title=\"江西省年度最大值\"),\n",
    "        tooltip_opts=opts.TooltipOpts(trigger='axis'),\n",
    "        xaxis_opts=opts.AxisOpts(type_='category'),\n",
    "        yaxis_opts=opts.AxisOpts(type_='value')\n",
    "    )\n",
    "    line_chart.render(\"../文件/page/film/单页可视化/江西省年度最大值.html\")\n",
    "    return line_chart\n",
    "a7()"
   ]
  },
  {
   "cell_type": "code",
   "execution_count": 79,
   "id": "dea0c3e4",
   "metadata": {},
   "outputs": [
    {
     "data": {
      "text/plain": [
       "<pyecharts.charts.basic_charts.line.Line at 0x21b664cd948>"
      ]
     },
     "execution_count": 79,
     "metadata": {},
     "output_type": "execute_result"
    }
   ],
   "source": [
    "def a8():\n",
    "    df = pd.read_sql(\"SELECT record_year, min_value FROM jiangxi_annual_min;\", conn)\n",
    "    line_chart = Line(init_opts=opts.InitOpts(theme='vintage'))\n",
    "    line_chart.add_xaxis(df['record_year'].tolist())\n",
    "    line_chart.add_yaxis(\"江西省年度最小值\", df['min_value'].apply(pd.to_numeric, errors='coerce').round(2).tolist())\n",
    "    line_chart.set_global_opts(\n",
    "        title_opts=opts.TitleOpts(title=\"江西省年度最小值\"),\n",
    "        tooltip_opts=opts.TooltipOpts(trigger='axis'),\n",
    "        xaxis_opts=opts.AxisOpts(type_='category'),\n",
    "        yaxis_opts=opts.AxisOpts(type_='value')\n",
    "    )\n",
    "    line_chart.render(\"../文件/page/film/单页可视化/江西省年度最小值.html\")\n",
    "    return line_chart\n",
    "a8()"
   ]
  },
  {
   "cell_type": "code",
   "execution_count": 85,
   "id": "5d7011d1",
   "metadata": {},
   "outputs": [
    {
     "data": {
      "text/plain": [
       "<pyecharts.charts.basic_charts.bar.Bar at 0x21b68dce948>"
      ]
     },
     "execution_count": 85,
     "metadata": {},
     "output_type": "execute_result"
    }
   ],
   "source": [
    "def a9():\n",
    "    df = pd.read_sql(\"SELECT record_year, total_sum FROM jiangxi_annual_sum;\", conn)\n",
    "    bar_chart = Bar(init_opts=opts.InitOpts(theme='macarons'))\n",
    "    bar_chart.add_xaxis(df['record_year'].tolist())\n",
    "    bar_chart.add_yaxis(\"江西省年度总和\", df['total_sum'].apply(pd.to_numeric, errors='coerce').round(2).tolist(),\n",
    "                       label_opts=opts.LabelOpts(is_show=False))\n",
    "    # 添加标记线\n",
    "    bar_chart.set_series_opts(\n",
    "        markline_opts=opts.MarkLineOpts(\n",
    "            data=[\n",
    "                opts.MarkLineItem(type_='average', name='平均值'),\n",
    "                opts.MarkLineItem(type_='max', name='最大值'),\n",
    "                opts.MarkLineItem(type_='min', name='最小值')\n",
    "            ],\n",
    "            label_opts=opts.LabelOpts(\n",
    "                position='end',  # 标记线数值显示在末端\n",
    "                formatter=JsCode(\"function(params){return params.value.toFixed(2);}\")  # 格式化为两位小数\n",
    "            )\n",
    "        )\n",
    "    )\n",
    "    bar_chart.set_global_opts(\n",
    "        title_opts=opts.TitleOpts(title=\"江西省年度总和\"),\n",
    "        tooltip_opts=opts.TooltipOpts(trigger='axis'),\n",
    "        xaxis_opts=opts.AxisOpts(type_='category'),\n",
    "        yaxis_opts=opts.AxisOpts(type_='value')\n",
    "    )\n",
    "    bar_chart.render(\"../文件/page/film/单页可视化/江西省年度总和.html\")\n",
    "    return bar_chart\n",
    "a9()"
   ]
  },
  {
   "cell_type": "code",
   "execution_count": 89,
   "id": "289c59a7",
   "metadata": {},
   "outputs": [
    {
     "data": {
      "text/plain": [
       "<pyecharts.charts.basic_charts.bar.Bar at 0x21b68f9be48>"
      ]
     },
     "execution_count": 89,
     "metadata": {},
     "output_type": "execute_result"
    }
   ],
   "source": [
    "def a10():\n",
    "    df = pd.read_sql(\"SELECT record_year, std_dev_value FROM jiangxi_annual_std_dev;\", conn)\n",
    "    bar_chart = Bar(init_opts=opts.InitOpts(theme='chalk'))\n",
    "    bar_chart.add_xaxis(df['record_year'].tolist())\n",
    "    bar_chart.add_yaxis(\"江西省年度标准差\", df['std_dev_value'].apply(pd.to_numeric, errors='coerce').round(2).tolist(),\n",
    "                        label_opts=opts.LabelOpts(is_show=False))\n",
    "        # 添加标记线\n",
    "    bar_chart.set_series_opts(\n",
    "        markline_opts=opts.MarkLineOpts(\n",
    "            data=[\n",
    "                opts.MarkLineItem(type_='average', name='平均值'),\n",
    "                opts.MarkLineItem(type_='max', name='最大值'),\n",
    "                opts.MarkLineItem(type_='min', name='最小值')\n",
    "            ],\n",
    "            label_opts=opts.LabelOpts(is_show=True,\n",
    "                position='end',  # 标记线数值显示在末端\n",
    "                formatter=JsCode(\"function(params){return params.value.toFixed(3);}\")  # 格式化为两位小数\n",
    "            )\n",
    "        )\n",
    "    )\n",
    "    bar_chart.set_global_opts(\n",
    "        title_opts=opts.TitleOpts(title=\"江西省年度标准差\"),\n",
    "        tooltip_opts=opts.TooltipOpts(trigger='axis'),\n",
    "        xaxis_opts=opts.AxisOpts(type_='category'),\n",
    "        yaxis_opts=opts.AxisOpts(type_='value')\n",
    "    )\n",
    "    bar_chart.render(\"../文件/page/film/单页可视化/江西省年度标准差.html\")\n",
    "    return bar_chart\n",
    "a10()"
   ]
  },
  {
   "cell_type": "code",
   "execution_count": 92,
   "id": "8dc98ebb",
   "metadata": {},
   "outputs": [
    {
     "data": {
      "text/plain": [
       "<pyecharts.charts.basic_charts.map.Map at 0x21b6905e988>"
      ]
     },
     "execution_count": 92,
     "metadata": {},
     "output_type": "execute_result"
    }
   ],
   "source": [
    "def a11():\n",
    "    df = pd.read_sql(\"SELECT city_name, average_value FROM jiangxi_city_average;\", conn)\n",
    "    map_chart = Map()\n",
    "    map_chart.add(\"江西省各市平均值\", [list(z) for z in zip(df['city_name'], df['average_value'].apply(pd.to_numeric, errors='coerce'))], \"江西\")\n",
    "    map_chart.set_global_opts(\n",
    "        title_opts=opts.TitleOpts(title=\"江西省各市平均值\"),\n",
    "        visualmap_opts=opts.VisualMapOpts(max_=df['average_value'].max())\n",
    "    )\n",
    "    map_chart.render(\"../文件/page/film/单页可视化/江西省各市平均值地图.html\")\n",
    "    return map_chart\n",
    "a11()"
   ]
  },
  {
   "cell_type": "code",
   "execution_count": 93,
   "id": "f66ca80a",
   "metadata": {},
   "outputs": [
    {
     "data": {
      "text/plain": [
       "<pyecharts.charts.basic_charts.map.Map at 0x21b687bd448>"
      ]
     },
     "execution_count": 93,
     "metadata": {},
     "output_type": "execute_result"
    }
   ],
   "source": [
    "def a12():\n",
    "    df = pd.read_sql(\"SELECT city_name, total_sum FROM jiangxi_city_sum;\", conn)\n",
    "    map_chart = Map()\n",
    "    map_chart.add(\"江西省各市总和\", [list(z) for z in zip(df['city_name'], df['total_sum'].apply(pd.to_numeric, errors='coerce'))], \"江西\")\n",
    "    map_chart.set_global_opts(\n",
    "        title_opts=opts.TitleOpts(title=\"江西省各市总和\"),\n",
    "        visualmap_opts=opts.VisualMapOpts(max_=df['total_sum'].max())\n",
    "    )\n",
    "    map_chart.render(\"../文件/page/film/单页可视化/江西省各市总和地图.html\")\n",
    "    return map_chart\n",
    "a12()"
   ]
  },
  {
   "cell_type": "code",
   "execution_count": 94,
   "id": "0b215548",
   "metadata": {},
   "outputs": [
    {
     "data": {
      "text/plain": [
       "<pyecharts.charts.basic_charts.map.Map at 0x21b687e1ec8>"
      ]
     },
     "execution_count": 94,
     "metadata": {},
     "output_type": "execute_result"
    }
   ],
   "source": [
    "def a13():\n",
    "    df = pd.read_sql(\"SELECT city_name, max_value FROM jiangxi_city_max;\", conn)\n",
    "    map_chart = Map()\n",
    "    map_chart.add(\"江西省各市最大值\", [list(z) for z in zip(df['city_name'], df['max_value'].apply(pd.to_numeric, errors='coerce'))], \"江西\")\n",
    "    map_chart.set_global_opts(\n",
    "        title_opts=opts.TitleOpts(title=\"江西省各市最大值\"),\n",
    "        visualmap_opts=opts.VisualMapOpts(max_=df['max_value'].max())\n",
    "    )\n",
    "    map_chart.render(\"../文件/page/film/单页可视化/江西省各市最大值地图.html\")\n",
    "    return map_chart\n",
    "a13()"
   ]
  },
  {
   "cell_type": "code",
   "execution_count": 95,
   "id": "35a3252a",
   "metadata": {},
   "outputs": [
    {
     "data": {
      "text/plain": [
       "<pyecharts.charts.basic_charts.map.Map at 0x21b687f7048>"
      ]
     },
     "execution_count": 95,
     "metadata": {},
     "output_type": "execute_result"
    }
   ],
   "source": [
    "def a14():\n",
    "    df = pd.read_sql(\"SELECT city_name, min_value FROM jiangxi_city_min;\", conn)\n",
    "    map_chart = Map()\n",
    "    map_chart.add(\"江西省各市最小值\", [list(z) for z in zip(df['city_name'], df['min_value'].apply(pd.to_numeric, errors='coerce'))], \"江西\")\n",
    "    map_chart.set_global_opts(\n",
    "        title_opts=opts.TitleOpts(title=\"江西省各市最小值\"),\n",
    "        visualmap_opts=opts.VisualMapOpts(max_=df['min_value'].max())\n",
    "    )\n",
    "    map_chart.render(\"../文件/page/film/单页可视化/江西省各市最小值地图.html\")\n",
    "    return map_chart\n",
    "a14()"
   ]
  },
  {
   "cell_type": "code",
   "execution_count": 96,
   "id": "a80062e9",
   "metadata": {},
   "outputs": [
    {
     "data": {
      "text/plain": [
       "<pyecharts.charts.basic_charts.map.Map at 0x21b68eb3f08>"
      ]
     },
     "execution_count": 96,
     "metadata": {},
     "output_type": "execute_result"
    }
   ],
   "source": [
    "def a15():\n",
    "    df = pd.read_sql(\"SELECT city_name, std_dev_value FROM jiangxi_city_std_dev;\", conn)\n",
    "    map_chart = Map()\n",
    "    map_chart.add(\"江西省各市标准差\", [list(z) for z in zip(df['city_name'], df['std_dev_value'].apply(pd.to_numeric, errors='coerce'))], \"江西\")\n",
    "    map_chart.set_global_opts(\n",
    "        title_opts=opts.TitleOpts(title=\"江西省各市标准差\"),\n",
    "        visualmap_opts=opts.VisualMapOpts(max_=df['std_dev_value'].max())\n",
    "    )\n",
    "    map_chart.render(\"../文件/page/film/单页可视化/江西省各市标准差地图.html\")\n",
    "    return map_chart\n",
    "a15()"
   ]
  },
  {
   "cell_type": "code",
   "execution_count": 102,
   "id": "6671907b",
   "metadata": {},
   "outputs": [
    {
     "data": {
      "text/plain": [
       "<pyecharts.charts.basic_charts.line.Line at 0x21b68993f08>"
      ]
     },
     "execution_count": 102,
     "metadata": {},
     "output_type": "execute_result"
    }
   ],
   "source": [
    "def a16():\n",
    "    df = pd.read_sql(\"SELECT record_year, average_value FROM nanchang_annual_average;\", conn)\n",
    "    line_chart = Line(init_opts=opts.InitOpts(theme='light'))\n",
    "    line_chart.add_xaxis(df['record_year'].tolist())\n",
    "    line_chart.add_yaxis(\"年度均值\", df['average_value'].apply(pd.to_numeric, errors='coerce').round(2).tolist())\n",
    "    line_chart.set_global_opts(\n",
    "        title_opts=opts.TitleOpts(title=\"南昌市年度均值\"),\n",
    "        xaxis_opts=opts.AxisOpts(type_='category'),\n",
    "        yaxis_opts=opts.AxisOpts(type_='value')\n",
    "    )\n",
    "    line_chart.render(\"../文件/page/film/单页可视化/南昌市年度均值.html\")\n",
    "    return line_chart\n",
    "a16()"
   ]
  },
  {
   "cell_type": "code",
   "execution_count": 108,
   "id": "804d34b1",
   "metadata": {},
   "outputs": [
    {
     "data": {
      "text/plain": [
       "<pyecharts.charts.basic_charts.bar.Bar at 0x21b68c21c88>"
      ]
     },
     "execution_count": 108,
     "metadata": {},
     "output_type": "execute_result"
    }
   ],
   "source": [
    "def a17():\n",
    "    df = pd.read_sql(\"SELECT record_year, total_sum FROM nanchang_annual_sum;\", conn)\n",
    "    bar_chart = Bar(init_opts=opts.InitOpts(theme='macarons'))\n",
    "    bar_chart.add_xaxis(df['record_year'].tolist())\n",
    "    bar_chart.add_yaxis(\"年度总和\", df['total_sum'].apply(pd.to_numeric, errors='coerce').tolist(),\n",
    "                        label_opts=opts.LabelOpts(is_show=False))\n",
    "    # 添加标记线\n",
    "    bar_chart.set_series_opts(\n",
    "        markline_opts=opts.MarkLineOpts(\n",
    "            data=[\n",
    "                opts.MarkLineItem(type_='average', name='平均值'),\n",
    "                opts.MarkLineItem(type_='max', name='最大值'),\n",
    "                opts.MarkLineItem(type_='min', name='最小值')\n",
    "            ],\n",
    "            label_opts=opts.LabelOpts(\n",
    "                position='end',  # 标记线数值显示在末端\n",
    "                formatter=JsCode(\"function(params){return params.value.toFixed(2);}\")  # 格式化为两位小数\n",
    "            )\n",
    "        )\n",
    "    )\n",
    "    bar_chart.set_global_opts(\n",
    "        title_opts=opts.TitleOpts(title=\"南昌市年度总和\"),\n",
    "        xaxis_opts=opts.AxisOpts(type_='category'),\n",
    "        yaxis_opts=opts.AxisOpts(type_='value')\n",
    "    )\n",
    "    bar_chart.render(\"../文件/page/film/单页可视化/南昌市年度总和.html\")\n",
    "    return bar_chart\n",
    "a17()"
   ]
  },
  {
   "cell_type": "code",
   "execution_count": 104,
   "id": "f37996e3",
   "metadata": {},
   "outputs": [
    {
     "data": {
      "text/plain": [
       "<pyecharts.charts.basic_charts.line.Line at 0x21b68dc3c08>"
      ]
     },
     "execution_count": 104,
     "metadata": {},
     "output_type": "execute_result"
    }
   ],
   "source": [
    "def a18():\n",
    "    df = pd.read_sql(\"SELECT record_year, max_value FROM nanchang_annual_max;\", conn)\n",
    "    line_chart = Line(init_opts=opts.InitOpts(theme='dark'))\n",
    "    line_chart.add_xaxis(df['record_year'].tolist())\n",
    "    line_chart.add_yaxis(\"年度最大值\", df['max_value'].apply(pd.to_numeric, errors='coerce').round(2).tolist())\n",
    "    line_chart.set_global_opts(\n",
    "        title_opts=opts.TitleOpts(title=\"南昌市年度最大值\"),\n",
    "        xaxis_opts=opts.AxisOpts(type_='category'),\n",
    "        yaxis_opts=opts.AxisOpts(type_='value')\n",
    "    )\n",
    "    line_chart.render(\"../文件/page/film/单页可视化/南昌市年度最大值.html\")\n",
    "    return line_chart\n",
    "a18()"
   ]
  },
  {
   "cell_type": "code",
   "execution_count": 105,
   "id": "d580c8de",
   "metadata": {},
   "outputs": [
    {
     "data": {
      "text/plain": [
       "<pyecharts.charts.basic_charts.line.Line at 0x21b68afad88>"
      ]
     },
     "execution_count": 105,
     "metadata": {},
     "output_type": "execute_result"
    }
   ],
   "source": [
    "def a19():\n",
    "    df = pd.read_sql(\"SELECT record_year, min_value FROM nanchang_annual_min;\", conn)\n",
    "    line_chart = Line(init_opts=opts.InitOpts(theme='vintage'))\n",
    "    line_chart.add_xaxis(df['record_year'].tolist())\n",
    "    line_chart.add_yaxis(\"年度最小值\", df['min_value'].apply(pd.to_numeric, errors='coerce').round(2).tolist())\n",
    "    line_chart.set_global_opts(\n",
    "        title_opts=opts.TitleOpts(title=\"南昌市年度最小值\"),\n",
    "        xaxis_opts=opts.AxisOpts(type_='category'),\n",
    "        yaxis_opts=opts.AxisOpts(type_='value')\n",
    "    )\n",
    "    line_chart.render(\"../文件/page/film/单页可视化/南昌市年度最小值.html\")\n",
    "    return line_chart\n",
    "a19()"
   ]
  },
  {
   "cell_type": "code",
   "execution_count": 106,
   "id": "0c09f1e8",
   "metadata": {},
   "outputs": [
    {
     "data": {
      "text/plain": [
       "<pyecharts.charts.basic_charts.bar.Bar at 0x21b68c5d548>"
      ]
     },
     "execution_count": 106,
     "metadata": {},
     "output_type": "execute_result"
    }
   ],
   "source": [
    "def a20():\n",
    "    df = pd.read_sql(\"SELECT record_year, std_dev_value FROM nanchang_annual_std_dev;\", conn)\n",
    "    bar_chart = Bar(init_opts=opts.InitOpts(theme='chalk'))\n",
    "    bar_chart.add_xaxis(df['record_year'].tolist())\n",
    "    bar_chart.add_yaxis(\"年度标准差\", df['std_dev_value'].apply(pd.to_numeric, errors='coerce').round(2).tolist())\n",
    "    bar_chart.set_global_opts(\n",
    "        title_opts=opts.TitleOpts(title=\"南昌市年度标准差\"),\n",
    "        xaxis_opts=opts.AxisOpts(type_='category'),\n",
    "        yaxis_opts=opts.AxisOpts(type_='value')\n",
    "    )\n",
    "    bar_chart.render(\"../文件/page/film/单页可视化/南昌市年度标准差.html\")\n",
    "    return bar_chart\n",
    "a20()"
   ]
  },
  {
   "cell_type": "code",
   "execution_count": 116,
   "id": "7142853c",
   "metadata": {},
   "outputs": [
    {
     "data": {
      "text/plain": [
       "<pyecharts.charts.basic_charts.map.Map at 0x21b68323708>"
      ]
     },
     "execution_count": 116,
     "metadata": {},
     "output_type": "execute_result"
    }
   ],
   "source": [
    "def a21():\n",
    "    \"\"\"从数据库中获取年度全国均值数据\"\"\"\n",
    "    conn = create_connection()\n",
    "    query = \"SELECT * FROM provincial_average;\"\n",
    "    \"\"\"创建地图可视化并保存为HTML\"\"\"\n",
    "    df = pd.read_sql(query, conn)\n",
    "    if df is not None and not df.empty:\n",
    "        # 创建地图\n",
    "        map_chart = Map()\n",
    "        map_chart.add(\"PM2.5年度全国均值\", [list(z) for z in zip(list(df['province_name'].astype(str)), list(df['average_value']))], \"china\")\n",
    "        map_chart.set_global_opts(\n",
    "            title_opts=opts.TitleOpts(title=\"PM2.5年度全国均值\"),\n",
    "            visualmap_opts=opts.VisualMapOpts(max_=100)  # 假设PM2.5的最大值为300，可根据实际数据调整\n",
    "        )\n",
    "        \n",
    "        map_chart.render(\"../文件/page/film/单页可视化/各省均值.html\")\n",
    "        return map_chart\n",
    "a21()"
   ]
  },
  {
   "cell_type": "code",
   "execution_count": 110,
   "id": "a29a5256",
   "metadata": {},
   "outputs": [
    {
     "data": {
      "text/plain": [
       "<pyecharts.charts.basic_charts.map.Map at 0x21b68959148>"
      ]
     },
     "execution_count": 110,
     "metadata": {},
     "output_type": "execute_result"
    }
   ],
   "source": [
    "def a22():\n",
    "    df = pd.read_sql(\"SELECT province_name, total_sum FROM provincial_sum;\", conn)\n",
    "    map_chart = Map()\n",
    "    map_chart.add(\"各省总和\", [list(z) for z in zip(df['province_name'], df['total_sum'].apply(pd.to_numeric, errors='coerce'))], \"china\")\n",
    "    map_chart.set_global_opts(\n",
    "        title_opts=opts.TitleOpts(title=\"各省总和\"),\n",
    "        visualmap_opts=opts.VisualMapOpts(max_=df['total_sum'].max())\n",
    "    )\n",
    "    map_chart.render(\"../文件/page/film/单页可视化/各省总和.html\")\n",
    "    return map_chart\n",
    "a22()"
   ]
  },
  {
   "cell_type": "code",
   "execution_count": 111,
   "id": "946c5b0d",
   "metadata": {},
   "outputs": [
    {
     "data": {
      "text/plain": [
       "<pyecharts.charts.basic_charts.map.Map at 0x21b6899c608>"
      ]
     },
     "execution_count": 111,
     "metadata": {},
     "output_type": "execute_result"
    }
   ],
   "source": [
    "def a23():\n",
    "    df = pd.read_sql(\"SELECT province_name, max_value FROM provincial_max;\", conn)\n",
    "    map_chart = Map()\n",
    "    map_chart.add(\"各省最大值\", [list(z) for z in zip(df['province_name'], df['max_value'].apply(pd.to_numeric, errors='coerce'))], \"china\")\n",
    "    map_chart.set_global_opts(\n",
    "        title_opts=opts.TitleOpts(title=\"各省最大值\"),\n",
    "        visualmap_opts=opts.VisualMapOpts(max_=df['max_value'].max())\n",
    "    )\n",
    "    map_chart.render(\"../文件/page/film/单页可视化/各省最大值.html\")\n",
    "    return map_chart\n",
    "a23()"
   ]
  },
  {
   "cell_type": "code",
   "execution_count": 112,
   "id": "996a19fa",
   "metadata": {},
   "outputs": [
    {
     "data": {
      "text/plain": [
       "<pyecharts.charts.basic_charts.map.Map at 0x21b68041308>"
      ]
     },
     "execution_count": 112,
     "metadata": {},
     "output_type": "execute_result"
    }
   ],
   "source": [
    "def a24():\n",
    "    df = pd.read_sql(\"SELECT province_name, min_value FROM provincial_min;\", conn)\n",
    "    map_chart = Map()\n",
    "    map_chart.add(\"各省最小值\", [list(z) for z in zip(df['province_name'], df['min_value'].apply(pd.to_numeric, errors='coerce'))], \"china\")\n",
    "    map_chart.set_global_opts(\n",
    "        title_opts=opts.TitleOpts(title=\"各省最小值\"),\n",
    "        visualmap_opts=opts.VisualMapOpts(min_=df['min_value'].min(), max_=df['min_value'].max())\n",
    "    )\n",
    "    map_chart.render(\"../文件/page/film/单页可视化/各省最小值.html\")\n",
    "    return map_chart\n",
    "a24()"
   ]
  },
  {
   "cell_type": "code",
   "execution_count": 113,
   "id": "2523a97b",
   "metadata": {},
   "outputs": [
    {
     "data": {
      "text/plain": [
       "<pyecharts.charts.basic_charts.map.Map at 0x21b682f33c8>"
      ]
     },
     "execution_count": 113,
     "metadata": {},
     "output_type": "execute_result"
    }
   ],
   "source": [
    "def a25():\n",
    "    df = pd.read_sql(\"SELECT province_name, std_dev_value FROM provincial_std_dev;\", conn)\n",
    "    map_chart = Map()\n",
    "    map_chart.add(\"各省标准差\", [list(z) for z in zip(df['province_name'], df['std_dev_value'].apply(pd.to_numeric, errors='coerce'))], \"china\")\n",
    "    map_chart.set_global_opts(\n",
    "        title_opts=opts.TitleOpts(title=\"各省标准差\"),\n",
    "        visualmap_opts=opts.VisualMapOpts(max_=df['std_dev_value'].max())\n",
    "    )\n",
    "    map_chart.render(\"../文件/page/film/单页可视化/各省标准差.html\")\n",
    "    return map_chart\n",
    "\n",
    "a25()"
   ]
  },
  {
   "cell_type": "code",
   "execution_count": null,
   "id": "be245e9e",
   "metadata": {},
   "outputs": [],
   "source": []
  }
 ],
 "metadata": {
  "kernelspec": {
   "display_name": "Python 3 (ipykernel)",
   "language": "python",
   "name": "python3"
  },
  "language_info": {
   "codemirror_mode": {
    "name": "ipython",
    "version": 3
   },
   "file_extension": ".py",
   "mimetype": "text/x-python",
   "name": "python",
   "nbconvert_exporter": "python",
   "pygments_lexer": "ipython3",
   "version": "3.7.4"
  },
  "toc": {
   "base_numbering": 1,
   "nav_menu": {},
   "number_sections": true,
   "sideBar": true,
   "skip_h1_title": false,
   "title_cell": "Table of Contents",
   "title_sidebar": "Contents",
   "toc_cell": false,
   "toc_position": {},
   "toc_section_display": true,
   "toc_window_display": false
  }
 },
 "nbformat": 4,
 "nbformat_minor": 5
}
