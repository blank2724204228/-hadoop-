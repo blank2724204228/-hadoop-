{
 "cells": [
  {
   "cell_type": "code",
   "id": "fe3d1b51",
   "metadata": {
    "ExecuteTime": {
     "end_time": "2025-04-29T02:16:25.759147Z",
     "start_time": "2025-04-29T02:16:25.194627Z"
    }
   },
   "source": [
    "import mysql.connector\n",
    "from mysql.connector import Error\n",
    "import pandas as pd\n",
    "from pyecharts.charts import Map,Line,Bar,Scatter,Pie\n",
    "from pyecharts import options as opts\n",
    "\n",
    "def create_connection():\n",
    "    \"\"\"创建并返回数据库连接对象\"\"\"\n",
    "    try:\n",
    "        connection = mysql.connector.connect(\n",
    "            host='localhost',\n",
    "            user='root',\n",
    "            password='123456',\n",
    "            database='pm'\n",
    "        )\n",
    "        return connection\n",
    "    except Error as e:\n",
    "        print(\"连接错误:\", e)"
   ],
   "outputs": [],
   "execution_count": 1
  },
  {
   "cell_type": "code",
   "id": "10fb624b",
   "metadata": {
    "ExecuteTime": {
     "end_time": "2025-04-29T02:19:43.217588Z",
     "start_time": "2025-04-29T02:19:43.061539Z"
    }
   },
   "source": [
    "from pyecharts.commons.utils import JsCode\n",
    "def a1():\n",
    "    \"\"\"从数据库中获取年度全国均值数据并创建折线图可视化\"\"\"\n",
    "    conn = create_connection()\n",
    "    query = \"SELECT record_year, average_value FROM annual_national_average;\"  # 查询全国每年的平均PM2.5值\n",
    "    df = pd.read_sql(query, conn)\n",
    "    conn.close()  # 关闭数据库连接\n",
    "    if df is not None and not df.empty:\n",
    "        # 将字符串类型的平均值转换为浮点数\n",
    "        df['average_value'] = pd.to_numeric(df['average_value'], errors='coerce')\n",
    "        \n",
    "        # 创建折线图\n",
    "        line_chart = Line()\n",
    "        line_chart.add_xaxis(df['record_year'].tolist())\n",
    "        line_chart.add_yaxis(\"PM2.5年度全国均值\", df['average_value'].tolist(), is_smooth=True,label_opts=opts.LabelOpts(is_show=False)\n",
    "                            ,markpoint_opts=opts.MarkPointOpts(\n",
    "                                 data=[\n",
    "                                     opts.MarkPointItem(type_='max', name='最大值'),\n",
    "                                     opts.MarkPointItem(type_='min', name='最小值'),\n",
    "                                     opts.MarkLineItem(type_='average', name='平均值')\n",
    "                                 ],\n",
    "                                 symbol_size=60,  # 调整标记大小\n",
    "                                 label_opts=opts.LabelOpts(position='inside', color='#fff',is_show=True,\n",
    "                        formatter=JsCode(\"function(params){return params.value.toFixed(2);}\")  # 使用JavaScript代码格式化显示为两位小数\n",
    "                                                          )  # 调整标记标签的位置和颜色\n",
    "                             ))\n",
    "        line_chart.set_global_opts(\n",
    "            title_opts=opts.TitleOpts(title=\"PM2.5年度全国均值\"),\n",
    "            visualmap_opts=opts.VisualMapOpts(max_=max(df['average_value'].tolist())),  # 假设PM2.5的最大值为300，可根据实际数据调整\n",
    "            tooltip_opts=opts.TooltipOpts(is_show=True),\n",
    "            xaxis_opts=opts.AxisOpts(type_=\"category\", boundary_gap=False)\n",
    "        )\n",
    "        \n",
    "#         line_chart.render(\"../文件/page/film/单页可视化/PM2.5年度全国均值.html\")\n",
    "        return line_chart\n",
    "\n",
    "# 调用函数\n",
    "a1()"
   ],
   "outputs": [
    {
     "name": "stderr",
     "output_type": "stream",
     "text": [
      "C:\\Users\\王方正\\AppData\\Local\\Temp\\ipykernel_12872\\263643481.py:6: UserWarning: pandas only supports SQLAlchemy connectable (engine/connection) or database string URI or sqlite3 DBAPI2 connection. Other DBAPI2 objects are not tested. Please consider using SQLAlchemy.\n",
      "  df = pd.read_sql(query, conn)\n"
     ]
    },
    {
     "data": {
      "text/plain": [
       "<pyecharts.charts.basic_charts.line.Line at 0x1f545245310>"
      ]
     },
     "execution_count": 3,
     "metadata": {},
     "output_type": "execute_result"
    }
   ],
   "execution_count": 3
  },
  {
   "cell_type": "code",
   "id": "ac9775a0",
   "metadata": {
    "ExecuteTime": {
     "end_time": "2025-04-29T02:19:46.417Z",
     "start_time": "2025-04-29T02:19:46.251978Z"
    }
   },
   "source": [
    "def a2():\n",
    "    \"\"\"从数据库中获取年度全国总和数据并创建柱状图可视化\"\"\"\n",
    "    conn = create_connection()\n",
    "    query = \"SELECT record_year, total_sum FROM annual_national_sum;\"  # 查询全国每年的PM2.5总和值\n",
    "    df = pd.read_sql(query, conn)\n",
    "    conn.close()  # 关闭数据库连接\n",
    "    if df is not None and not df.empty:\n",
    "        # 将字符串类型的总和值转换为浮点数\n",
    "        df['total_sum'] = pd.to_numeric(df['total_sum'], errors='coerce')\n",
    "        \n",
    "        # 创建柱状图\n",
    "        bar_chart = Bar()\n",
    "        bar_chart.add_xaxis(df['record_year'].tolist())\n",
    "        bar_chart.add_yaxis(\"PM2.5年度全国总和\", df['total_sum'].tolist())\n",
    "        bar_chart.set_global_opts(\n",
    "            title_opts=opts.TitleOpts(title=\"PM2.5年度全国总和\"),\n",
    "            visualmap_opts=opts.VisualMapOpts(max_=max(df['total_sum'].tolist()),pos_right='right',is_show=False),  # 根据实际数据调整最大值\n",
    "            tooltip_opts=opts.TooltipOpts(is_show=True),\n",
    "            xaxis_opts=opts.AxisOpts(type_=\"category\", axislabel_opts=opts.LabelOpts(rotate=-15))\n",
    "        )\n",
    "        bar_chart.set_series_opts(\n",
    "            label_opts=opts.LabelOpts(is_show=False, position='top', formatter=JsCode(\"function(x){return Number(x.value).toFixed(2);}\"))\n",
    "        )\n",
    "        \n",
    "#         bar_chart.render(\"../文件/page/film/单页可视化/PM2.5年度全国总和.html\")\n",
    "        return bar_chart\n",
    "\n",
    "# 调用函数\n",
    "a2()"
   ],
   "outputs": [
    {
     "name": "stderr",
     "output_type": "stream",
     "text": [
      "C:\\Users\\王方正\\AppData\\Local\\Temp\\ipykernel_12872\\402491529.py:5: UserWarning: pandas only supports SQLAlchemy connectable (engine/connection) or database string URI or sqlite3 DBAPI2 connection. Other DBAPI2 objects are not tested. Please consider using SQLAlchemy.\n",
      "  df = pd.read_sql(query, conn)\n"
     ]
    },
    {
     "data": {
      "text/plain": [
       "<pyecharts.charts.basic_charts.bar.Bar at 0x1f54527ec10>"
      ]
     },
     "execution_count": 4,
     "metadata": {},
     "output_type": "execute_result"
    }
   ],
   "execution_count": 4
  },
  {
   "cell_type": "code",
   "id": "2fad76b5",
   "metadata": {
    "ExecuteTime": {
     "end_time": "2025-04-29T02:19:49.125810Z",
     "start_time": "2025-04-29T02:19:48.942297Z"
    }
   },
   "source": [
    "conn = create_connection()\n",
    "def a3():\n",
    "    \"\"\"从数据库中获取年度全国最大值数据并创建折线图可视化\"\"\"\n",
    "    df = pd.read_sql(\"SELECT record_year, max_value FROM annual_national_max;\", conn)\n",
    "    line_chart = Line(init_opts=opts.InitOpts(theme='light'))\n",
    "    line_chart.add_xaxis(df['record_year'].tolist())\n",
    "    line_chart.add_yaxis(\"PM2.5年度全国最大值\", df['max_value'].apply(pd.to_numeric, errors='coerce').tolist(),is_smooth=True,label_opts=opts.LabelOpts(is_show=False)\n",
    "                            ,markpoint_opts=opts.MarkPointOpts(\n",
    "                                 data=[\n",
    "                                     opts.MarkPointItem(type_='max', name='最大值'),\n",
    "                                     opts.MarkPointItem(type_='min', name='最小值'),\n",
    "                                     opts.MarkLineItem(type_='average', name='平均值')\n",
    "                                 ],\n",
    "                                 symbol_size=60,  # 调整标记大小\n",
    "                                 label_opts=opts.LabelOpts(position='inside', color='#fff',is_show=True,\n",
    "                        formatter=JsCode(\"function(params){return params.value.toFixed(2);}\")  # 使用JavaScript代码格式化显示为两位小数\n",
    "                                                          )  # 调整标记标签的位置和颜色\n",
    "                             ))\n",
    "    line_chart.set_global_opts(\n",
    "        title_opts=opts.TitleOpts(title=\"PM2.5年度全国最大值\"),\n",
    "        xaxis_opts=opts.AxisOpts(type_='category'),\n",
    "        yaxis_opts=opts.AxisOpts(type_='value')\n",
    "    )\n",
    "#     line_chart.render(\"../文件/page/film/单页可视化/PM2.5年度全国最大值.html\")\n",
    "    return line_chart\n",
    "a3()"
   ],
   "outputs": [
    {
     "name": "stderr",
     "output_type": "stream",
     "text": [
      "C:\\Users\\王方正\\AppData\\Local\\Temp\\ipykernel_12872\\22231531.py:4: UserWarning: pandas only supports SQLAlchemy connectable (engine/connection) or database string URI or sqlite3 DBAPI2 connection. Other DBAPI2 objects are not tested. Please consider using SQLAlchemy.\n",
      "  df = pd.read_sql(\"SELECT record_year, max_value FROM annual_national_max;\", conn)\n"
     ]
    },
    {
     "data": {
      "text/plain": [
       "<pyecharts.charts.basic_charts.line.Line at 0x1f54527ed60>"
      ]
     },
     "execution_count": 5,
     "metadata": {},
     "output_type": "execute_result"
    }
   ],
   "execution_count": 5
  },
  {
   "cell_type": "code",
   "id": "2dbb8537",
   "metadata": {
    "ExecuteTime": {
     "end_time": "2025-04-29T02:19:52.040343Z",
     "start_time": "2025-04-29T02:19:52.013208Z"
    }
   },
   "source": [
    "def a4():\n",
    "    \"\"\"从数据库中获取年度全国最小值数据并创建折线图可视化\"\"\"\n",
    "    df = pd.read_sql(\"SELECT record_year, min_value FROM annual_national_min;\", conn)\n",
    "    line_chart = Line(init_opts=opts.InitOpts(theme='dark'))\n",
    "    line_chart.add_xaxis(df['record_year'].tolist())\n",
    "    line_chart.add_yaxis(\"PM2.5年度全国最小值\", df['min_value'].apply(pd.to_numeric, errors='coerce').tolist(),is_smooth=True,label_opts=opts.LabelOpts(is_show=False)\n",
    "                            ,markpoint_opts=opts.MarkPointOpts(\n",
    "                                 data=[\n",
    "                                     opts.MarkPointItem(type_='max', name='最大值'),\n",
    "                                     opts.MarkPointItem(type_='min', name='最小值'),\n",
    "                                     opts.MarkLineItem(type_='average', name='平均值')\n",
    "                                 ],\n",
    "                                 symbol_size=60,  # 调整标记大小\n",
    "                                 label_opts=opts.LabelOpts(position='inside', color='#fff',is_show=True,\n",
    "                        formatter=JsCode(\"function(params){return params.value.toFixed(2);}\")  # 使用JavaScript代码格式化显示为两位小数\n",
    "                                                          )  # 调整标记标签的位置和颜色\n",
    "                             ))\n",
    "    line_chart.set_global_opts(\n",
    "        title_opts=opts.TitleOpts(title=\"PM2.5年度全国最小值\"),\n",
    "        tooltip_opts=opts.TooltipOpts(trigger='axis'),\n",
    "        xaxis_opts=opts.AxisOpts(type_='category'),\n",
    "        yaxis_opts=opts.AxisOpts(type_='value')\n",
    "    )\n",
    "#     line_chart.render(\"../文件/page/film/单页可视化/PM2.5年度全国最小值.html\")\n",
    "    return line_chart\n",
    "a4()"
   ],
   "outputs": [
    {
     "name": "stderr",
     "output_type": "stream",
     "text": [
      "C:\\Users\\王方正\\AppData\\Local\\Temp\\ipykernel_12872\\4249374456.py:3: UserWarning: pandas only supports SQLAlchemy connectable (engine/connection) or database string URI or sqlite3 DBAPI2 connection. Other DBAPI2 objects are not tested. Please consider using SQLAlchemy.\n",
      "  df = pd.read_sql(\"SELECT record_year, min_value FROM annual_national_min;\", conn)\n"
     ]
    },
    {
     "data": {
      "text/plain": [
       "<pyecharts.charts.basic_charts.line.Line at 0x1f544b1bee0>"
      ]
     },
     "execution_count": 6,
     "metadata": {},
     "output_type": "execute_result"
    }
   ],
   "execution_count": 6
  },
  {
   "cell_type": "code",
   "id": "753d16b9",
   "metadata": {
    "ExecuteTime": {
     "end_time": "2025-04-29T02:19:54.233829Z",
     "start_time": "2025-04-29T02:19:54.206259Z"
    }
   },
   "source": [
    "def a5():\n",
    "    \"\"\"从数据库中获取年度全国标准差数据并创建柱状图可视化\"\"\"\n",
    "    df = pd.read_sql(\"SELECT record_year, std_dev_value FROM annual_national_std_dev;\", conn)\n",
    "    bar_chart = Bar()\n",
    "    bar_chart.add_xaxis(df['record_year'].tolist())\n",
    "    bar_chart.add_yaxis(\"PM2.5年度全国标准差\", df['std_dev_value'].apply(pd.to_numeric, errors='coerce').tolist(),\n",
    "                        label_opts=opts.LabelOpts(is_show=True, formatter=JsCode(\"function(x){return Number(x.value).toFixed(2); }\")))\n",
    "    bar_chart.set_global_opts(\n",
    "        title_opts=opts.TitleOpts(title=\"PM2.5年度全国标准差\"),\n",
    "#         tooltip_opts=opts.TooltipOpts(trigger='axis', formatter=JsCode(\"function(params){return params.seriesName + '<br/>' + params.name + ': ' + params.value.toFixed(2); }\")),\n",
    "        xaxis_opts=opts.AxisOpts(type_='category'),\n",
    "        yaxis_opts=opts.AxisOpts(type_='value')\n",
    "    )\n",
    "#     bar_chart.render(\"../文件/page/film/单页可视化/PM2.5年度全国标准差.html\")\n",
    "    return bar_chart\n",
    "a5()"
   ],
   "outputs": [
    {
     "name": "stderr",
     "output_type": "stream",
     "text": [
      "C:\\Users\\王方正\\AppData\\Local\\Temp\\ipykernel_12872\\3667336907.py:3: UserWarning: pandas only supports SQLAlchemy connectable (engine/connection) or database string URI or sqlite3 DBAPI2 connection. Other DBAPI2 objects are not tested. Please consider using SQLAlchemy.\n",
      "  df = pd.read_sql(\"SELECT record_year, std_dev_value FROM annual_national_std_dev;\", conn)\n"
     ]
    },
    {
     "data": {
      "text/plain": [
       "<pyecharts.charts.basic_charts.bar.Bar at 0x1f54472ffd0>"
      ]
     },
     "execution_count": 7,
     "metadata": {},
     "output_type": "execute_result"
    }
   ],
   "execution_count": 7
  },
  {
   "cell_type": "code",
   "id": "1b7d2e1a",
   "metadata": {
    "ExecuteTime": {
     "end_time": "2025-04-29T02:19:56.602242Z",
     "start_time": "2025-04-29T02:19:56.588952Z"
    }
   },
   "source": [
    "def a6():\n",
    "    df = pd.read_sql(\"SELECT record_year, average_value FROM jiangxi_annual_average;\", conn)\n",
    "    line_chart = Line(init_opts=opts.InitOpts(theme='roma'))\n",
    "    line_chart.add_xaxis(df['record_year'].tolist())\n",
    "    line_chart.add_yaxis(\"江西省年度平均值\", df['average_value'].apply(pd.to_numeric, errors='coerce').round(2).tolist(),\n",
    "    label_opts=opts.LabelOpts(is_show=True)\n",
    "                        )\n",
    "    line_chart.set_global_opts(\n",
    "        title_opts=opts.TitleOpts(title=\"江西省年度平均值\"),\n",
    "        tooltip_opts=opts.TooltipOpts(trigger='axis'),\n",
    "        xaxis_opts=opts.AxisOpts(type_='category'),\n",
    "        yaxis_opts=opts.AxisOpts(type_='value')\n",
    "    )\n",
    "#     line_chart.render(\"../文件/page/film/单页可视化/江西省年度平均值.html\")\n",
    "    return line_chart\n",
    "a6()"
   ],
   "outputs": [
    {
     "name": "stderr",
     "output_type": "stream",
     "text": [
      "C:\\Users\\王方正\\AppData\\Local\\Temp\\ipykernel_12872\\2557418421.py:2: UserWarning: pandas only supports SQLAlchemy connectable (engine/connection) or database string URI or sqlite3 DBAPI2 connection. Other DBAPI2 objects are not tested. Please consider using SQLAlchemy.\n",
      "  df = pd.read_sql(\"SELECT record_year, average_value FROM jiangxi_annual_average;\", conn)\n"
     ]
    },
    {
     "data": {
      "text/plain": [
       "<pyecharts.charts.basic_charts.line.Line at 0x1f5343527f0>"
      ]
     },
     "execution_count": 8,
     "metadata": {},
     "output_type": "execute_result"
    }
   ],
   "execution_count": 8
  },
  {
   "cell_type": "code",
   "id": "5b5628e9",
   "metadata": {
    "ExecuteTime": {
     "end_time": "2025-04-29T02:19:59.342688Z",
     "start_time": "2025-04-29T02:19:59.318896Z"
    }
   },
   "source": [
    "def a7():\n",
    "    df = pd.read_sql(\"SELECT record_year, max_value FROM jiangxi_annual_max;\", conn)\n",
    "    line_chart = Line(init_opts=opts.InitOpts(theme='wonderland'))\n",
    "    line_chart.add_xaxis(df['record_year'].tolist())\n",
    "    line_chart.add_yaxis(\"江西省年度最大值\", df['max_value'].apply(pd.to_numeric, errors='coerce').round(2).tolist())\n",
    "    line_chart.set_global_opts(\n",
    "        title_opts=opts.TitleOpts(title=\"江西省年度最大值\"),\n",
    "        tooltip_opts=opts.TooltipOpts(trigger='axis'),\n",
    "        xaxis_opts=opts.AxisOpts(type_='category'),\n",
    "        yaxis_opts=opts.AxisOpts(type_='value')\n",
    "    )\n",
    "#     line_chart.render(\"../文件/page/film/单页可视化/江西省年度最大值.html\")\n",
    "    return line_chart\n",
    "a7()"
   ],
   "outputs": [
    {
     "name": "stderr",
     "output_type": "stream",
     "text": [
      "C:\\Users\\王方正\\AppData\\Local\\Temp\\ipykernel_12872\\2361010240.py:2: UserWarning: pandas only supports SQLAlchemy connectable (engine/connection) or database string URI or sqlite3 DBAPI2 connection. Other DBAPI2 objects are not tested. Please consider using SQLAlchemy.\n",
      "  df = pd.read_sql(\"SELECT record_year, max_value FROM jiangxi_annual_max;\", conn)\n"
     ]
    },
    {
     "data": {
      "text/plain": [
       "<pyecharts.charts.basic_charts.line.Line at 0x1f544afcdc0>"
      ]
     },
     "execution_count": 9,
     "metadata": {},
     "output_type": "execute_result"
    }
   ],
   "execution_count": 9
  },
  {
   "cell_type": "code",
   "id": "15d90a31",
   "metadata": {
    "ExecuteTime": {
     "end_time": "2025-04-29T02:20:01.217647Z",
     "start_time": "2025-04-29T02:20:01.189500Z"
    }
   },
   "source": [
    "def a8():\n",
    "    df = pd.read_sql(\"SELECT record_year, min_value FROM jiangxi_annual_min;\", conn)\n",
    "    line_chart = Line(init_opts=opts.InitOpts(theme='vintage'))\n",
    "    line_chart.add_xaxis(df['record_year'].tolist())\n",
    "    line_chart.add_yaxis(\"江西省年度最小值\", df['min_value'].apply(pd.to_numeric, errors='coerce').round(2).tolist())\n",
    "    line_chart.set_global_opts(\n",
    "        title_opts=opts.TitleOpts(title=\"江西省年度最小值\"),\n",
    "        tooltip_opts=opts.TooltipOpts(trigger='axis'),\n",
    "        xaxis_opts=opts.AxisOpts(type_='category'),\n",
    "        yaxis_opts=opts.AxisOpts(type_='value')\n",
    "    )\n",
    "#     line_chart.render(\"../文件/page/film/单页可视化/江西省年度最小值.html\")\n",
    "    return line_chart\n",
    "a8()"
   ],
   "outputs": [
    {
     "name": "stderr",
     "output_type": "stream",
     "text": [
      "C:\\Users\\王方正\\AppData\\Local\\Temp\\ipykernel_12872\\3994724639.py:2: UserWarning: pandas only supports SQLAlchemy connectable (engine/connection) or database string URI or sqlite3 DBAPI2 connection. Other DBAPI2 objects are not tested. Please consider using SQLAlchemy.\n",
      "  df = pd.read_sql(\"SELECT record_year, min_value FROM jiangxi_annual_min;\", conn)\n"
     ]
    },
    {
     "data": {
      "text/plain": [
       "<pyecharts.charts.basic_charts.line.Line at 0x1f533f1d670>"
      ]
     },
     "execution_count": 10,
     "metadata": {},
     "output_type": "execute_result"
    }
   ],
   "execution_count": 10
  },
  {
   "cell_type": "code",
   "id": "d069669d",
   "metadata": {
    "ExecuteTime": {
     "end_time": "2025-04-29T02:20:03.244616Z",
     "start_time": "2025-04-29T02:20:03.215649Z"
    }
   },
   "source": [
    "def a9():\n",
    "    df = pd.read_sql(\"SELECT record_year, total_sum FROM jiangxi_annual_sum;\", conn)\n",
    "    bar_chart = Bar(init_opts=opts.InitOpts(theme='macarons'))\n",
    "    bar_chart.add_xaxis(df['record_year'].tolist())\n",
    "    bar_chart.add_yaxis(\"江西省年度总和\", df['total_sum'].apply(pd.to_numeric, errors='coerce').round(2).tolist(),\n",
    "                       label_opts=opts.LabelOpts(is_show=False))\n",
    "    # 添加标记线\n",
    "    bar_chart.set_series_opts(\n",
    "        markline_opts=opts.MarkLineOpts(\n",
    "            data=[\n",
    "                opts.MarkLineItem(type_='average', name='平均值'),\n",
    "                opts.MarkLineItem(type_='max', name='最大值'),\n",
    "                opts.MarkLineItem(type_='min', name='最小值')\n",
    "            ],\n",
    "            label_opts=opts.LabelOpts(\n",
    "                position='end',  # 标记线数值显示在末端\n",
    "                formatter=JsCode(\"function(params){return params.value.toFixed(2);}\")  # 格式化为两位小数\n",
    "            )\n",
    "        )\n",
    "    )\n",
    "    bar_chart.set_global_opts(\n",
    "        title_opts=opts.TitleOpts(title=\"江西省年度总和\"),\n",
    "        tooltip_opts=opts.TooltipOpts(trigger='axis'),\n",
    "        xaxis_opts=opts.AxisOpts(type_='category'),\n",
    "        yaxis_opts=opts.AxisOpts(type_='value')\n",
    "    )\n",
    "#     bar_chart.render(\"../文件/page/film/单页可视化/江西省年度总和.html\")\n",
    "    return bar_chart\n",
    "a9()"
   ],
   "outputs": [
    {
     "name": "stderr",
     "output_type": "stream",
     "text": [
      "C:\\Users\\王方正\\AppData\\Local\\Temp\\ipykernel_12872\\1226593210.py:2: UserWarning: pandas only supports SQLAlchemy connectable (engine/connection) or database string URI or sqlite3 DBAPI2 connection. Other DBAPI2 objects are not tested. Please consider using SQLAlchemy.\n",
      "  df = pd.read_sql(\"SELECT record_year, total_sum FROM jiangxi_annual_sum;\", conn)\n"
     ]
    },
    {
     "data": {
      "text/plain": [
       "<pyecharts.charts.basic_charts.bar.Bar at 0x1f544b5d6d0>"
      ]
     },
     "execution_count": 11,
     "metadata": {},
     "output_type": "execute_result"
    }
   ],
   "execution_count": 11
  },
  {
   "cell_type": "code",
   "id": "20cb0493",
   "metadata": {
    "ExecuteTime": {
     "end_time": "2025-04-29T02:20:06.052377Z",
     "start_time": "2025-04-29T02:20:06.023648Z"
    }
   },
   "source": [
    "def a10():\n",
    "    df = pd.read_sql(\"SELECT record_year, std_dev_value FROM jiangxi_annual_std_dev;\", conn)\n",
    "    bar_chart = Bar(init_opts=opts.InitOpts(theme='chalk'))\n",
    "    bar_chart.add_xaxis(df['record_year'].tolist())\n",
    "    bar_chart.add_yaxis(\"江西省年度标准差\", df['std_dev_value'].apply(pd.to_numeric, errors='coerce').round(2).tolist(),\n",
    "                        label_opts=opts.LabelOpts(is_show=False))\n",
    "        # 添加标记线\n",
    "    bar_chart.set_series_opts(\n",
    "        markline_opts=opts.MarkLineOpts(\n",
    "            data=[\n",
    "                opts.MarkLineItem(type_='average', name='平均值'),\n",
    "                opts.MarkLineItem(type_='max', name='最大值'),\n",
    "                opts.MarkLineItem(type_='min', name='最小值')\n",
    "            ],\n",
    "            label_opts=opts.LabelOpts(is_show=True,\n",
    "                position='end',  # 标记线数值显示在末端\n",
    "                formatter=JsCode(\"function(params){return params.value.toFixed(3);}\")  # 格式化为两位小数\n",
    "            )\n",
    "        )\n",
    "    )\n",
    "    bar_chart.set_global_opts(\n",
    "        title_opts=opts.TitleOpts(title=\"江西省年度标准差\"),\n",
    "        tooltip_opts=opts.TooltipOpts(trigger='axis'),\n",
    "        xaxis_opts=opts.AxisOpts(type_='category'),\n",
    "        yaxis_opts=opts.AxisOpts(type_='value')\n",
    "    )\n",
    "#     bar_chart.render(\"../文件/page/film/单页可视化/江西省年度标准差.html\")\n",
    "    return bar_chart\n",
    "a10()"
   ],
   "outputs": [
    {
     "name": "stderr",
     "output_type": "stream",
     "text": [
      "C:\\Users\\王方正\\AppData\\Local\\Temp\\ipykernel_12872\\3964614213.py:2: UserWarning: pandas only supports SQLAlchemy connectable (engine/connection) or database string URI or sqlite3 DBAPI2 connection. Other DBAPI2 objects are not tested. Please consider using SQLAlchemy.\n",
      "  df = pd.read_sql(\"SELECT record_year, std_dev_value FROM jiangxi_annual_std_dev;\", conn)\n"
     ]
    },
    {
     "data": {
      "text/plain": [
       "<pyecharts.charts.basic_charts.bar.Bar at 0x1f544b3d0a0>"
      ]
     },
     "execution_count": 12,
     "metadata": {},
     "output_type": "execute_result"
    }
   ],
   "execution_count": 12
  },
  {
   "cell_type": "code",
   "id": "f6bd0b36",
   "metadata": {
    "ExecuteTime": {
     "end_time": "2025-04-29T02:20:09.185707Z",
     "start_time": "2025-04-29T02:20:09.167003Z"
    }
   },
   "source": [
    "def a11():\n",
    "    df = pd.read_sql(\"SELECT city_name, average_value FROM jiangxi_city_average;\", conn)\n",
    "    map_chart = Map()\n",
    "    map_chart.add(\"江西省各市平均值\", [list(z) for z in zip(df['city_name'], df['average_value'].apply(pd.to_numeric, errors='coerce'))], \"江西\")\n",
    "    map_chart.set_global_opts(\n",
    "        title_opts=opts.TitleOpts(title=\"江西省各市平均值\"),\n",
    "        visualmap_opts=opts.VisualMapOpts(max_=df['average_value'].max())\n",
    "    )\n",
    "#     map_chart.render(\"../文件/page/film/单页可视化/江西省各市平均值地图.html\")\n",
    "    return map_chart\n",
    "a11()"
   ],
   "outputs": [
    {
     "name": "stderr",
     "output_type": "stream",
     "text": [
      "C:\\Users\\王方正\\AppData\\Local\\Temp\\ipykernel_12872\\3367828720.py:2: UserWarning: pandas only supports SQLAlchemy connectable (engine/connection) or database string URI or sqlite3 DBAPI2 connection. Other DBAPI2 objects are not tested. Please consider using SQLAlchemy.\n",
      "  df = pd.read_sql(\"SELECT city_name, average_value FROM jiangxi_city_average;\", conn)\n"
     ]
    },
    {
     "data": {
      "text/plain": [
       "<pyecharts.charts.basic_charts.map.Map at 0x1f544b3d6d0>"
      ]
     },
     "execution_count": 13,
     "metadata": {},
     "output_type": "execute_result"
    }
   ],
   "execution_count": 13
  },
  {
   "cell_type": "code",
   "id": "dffcfc75",
   "metadata": {
    "ExecuteTime": {
     "end_time": "2025-04-29T02:20:11.382581Z",
     "start_time": "2025-04-29T02:20:11.369626Z"
    }
   },
   "source": [
    "def a12():\n",
    "    df = pd.read_sql(\"SELECT city_name, total_sum FROM jiangxi_city_sum;\", conn)\n",
    "    map_chart = Map()\n",
    "    map_chart.add(\"江西省各市总和\", [list(z) for z in zip(df['city_name'], df['total_sum'].apply(pd.to_numeric, errors='coerce'))], \"江西\")\n",
    "    map_chart.set_global_opts(\n",
    "        title_opts=opts.TitleOpts(title=\"江西省各市总和\"),\n",
    "        visualmap_opts=opts.VisualMapOpts(max_=df['total_sum'].max())\n",
    "    )\n",
    "#     map_chart.render(\"../文件/page/film/单页可视化/江西省各市总和地图.html\")\n",
    "    return map_chart\n",
    "a12()"
   ],
   "outputs": [
    {
     "name": "stderr",
     "output_type": "stream",
     "text": [
      "C:\\Users\\王方正\\AppData\\Local\\Temp\\ipykernel_12872\\4281322075.py:2: UserWarning: pandas only supports SQLAlchemy connectable (engine/connection) or database string URI or sqlite3 DBAPI2 connection. Other DBAPI2 objects are not tested. Please consider using SQLAlchemy.\n",
      "  df = pd.read_sql(\"SELECT city_name, total_sum FROM jiangxi_city_sum;\", conn)\n"
     ]
    },
    {
     "data": {
      "text/plain": [
       "<pyecharts.charts.basic_charts.map.Map at 0x1f545298370>"
      ]
     },
     "execution_count": 14,
     "metadata": {},
     "output_type": "execute_result"
    }
   ],
   "execution_count": 14
  },
  {
   "cell_type": "code",
   "id": "fcb03cff",
   "metadata": {
    "ExecuteTime": {
     "end_time": "2025-04-29T02:20:13.053382Z",
     "start_time": "2025-04-29T02:20:13.026106Z"
    }
   },
   "source": [
    "def a13():\n",
    "    df = pd.read_sql(\"SELECT city_name, max_value FROM jiangxi_city_max;\", conn)\n",
    "    map_chart = Map()\n",
    "    map_chart.add(\"江西省各市最大值\", [list(z) for z in zip(df['city_name'], df['max_value'].apply(pd.to_numeric, errors='coerce'))], \"江西\")\n",
    "    map_chart.set_global_opts(\n",
    "        title_opts=opts.TitleOpts(title=\"江西省各市最大值\"),\n",
    "        visualmap_opts=opts.VisualMapOpts(max_=df['max_value'].max())\n",
    "    )\n",
    "#     map_chart.render(\"../文件/page/film/单页可视化/江西省各市最大值地图.html\")\n",
    "    return map_chart\n",
    "a13()"
   ],
   "outputs": [
    {
     "name": "stderr",
     "output_type": "stream",
     "text": [
      "C:\\Users\\王方正\\AppData\\Local\\Temp\\ipykernel_12872\\2189505695.py:2: UserWarning: pandas only supports SQLAlchemy connectable (engine/connection) or database string URI or sqlite3 DBAPI2 connection. Other DBAPI2 objects are not tested. Please consider using SQLAlchemy.\n",
      "  df = pd.read_sql(\"SELECT city_name, max_value FROM jiangxi_city_max;\", conn)\n"
     ]
    },
    {
     "data": {
      "text/plain": [
       "<pyecharts.charts.basic_charts.map.Map at 0x1f54527efd0>"
      ]
     },
     "execution_count": 15,
     "metadata": {},
     "output_type": "execute_result"
    }
   ],
   "execution_count": 15
  },
  {
   "cell_type": "code",
   "id": "4465d02d",
   "metadata": {
    "ExecuteTime": {
     "end_time": "2025-04-29T02:20:14.921685Z",
     "start_time": "2025-04-29T02:20:14.903171Z"
    }
   },
   "source": [
    "def a14():\n",
    "    df = pd.read_sql(\"SELECT city_name, min_value FROM jiangxi_city_min;\", conn)\n",
    "    map_chart = Map()\n",
    "    map_chart.add(\"江西省各市最小值\", [list(z) for z in zip(df['city_name'], df['min_value'].apply(pd.to_numeric, errors='coerce'))], \"江西\")\n",
    "    map_chart.set_global_opts(\n",
    "        title_opts=opts.TitleOpts(title=\"江西省各市最小值\"),\n",
    "        visualmap_opts=opts.VisualMapOpts(max_=df['min_value'].max())\n",
    "    )\n",
    "#     map_chart.render(\"../文件/page/film/单页可视化/江西省各市最小值地图.html\")\n",
    "    return map_chart\n",
    "a14()"
   ],
   "outputs": [
    {
     "name": "stderr",
     "output_type": "stream",
     "text": [
      "C:\\Users\\王方正\\AppData\\Local\\Temp\\ipykernel_12872\\1947101788.py:2: UserWarning: pandas only supports SQLAlchemy connectable (engine/connection) or database string URI or sqlite3 DBAPI2 connection. Other DBAPI2 objects are not tested. Please consider using SQLAlchemy.\n",
      "  df = pd.read_sql(\"SELECT city_name, min_value FROM jiangxi_city_min;\", conn)\n"
     ]
    },
    {
     "data": {
      "text/plain": [
       "<pyecharts.charts.basic_charts.map.Map at 0x1f54527e9d0>"
      ]
     },
     "execution_count": 16,
     "metadata": {},
     "output_type": "execute_result"
    }
   ],
   "execution_count": 16
  },
  {
   "cell_type": "code",
   "id": "cfe2d875",
   "metadata": {
    "ExecuteTime": {
     "end_time": "2025-04-29T02:20:17.030323Z",
     "start_time": "2025-04-29T02:20:17.001584Z"
    }
   },
   "source": [
    "def a15():\n",
    "    df = pd.read_sql(\"SELECT city_name, std_dev_value FROM jiangxi_city_std_dev;\", conn)\n",
    "    map_chart = Map()\n",
    "    map_chart.add(\"江西省各市标准差\", [list(z) for z in zip(df['city_name'], df['std_dev_value'].apply(pd.to_numeric, errors='coerce'))], \"江西\")\n",
    "    map_chart.set_global_opts(\n",
    "        title_opts=opts.TitleOpts(title=\"江西省各市标准差\"),\n",
    "        visualmap_opts=opts.VisualMapOpts(max_=df['std_dev_value'].max())\n",
    "    )\n",
    "#     map_chart.render(\"../文件/page/film/单页可视化/江西省各市标准差地图.html\")\n",
    "    return map_chart\n",
    "a15()"
   ],
   "outputs": [
    {
     "name": "stderr",
     "output_type": "stream",
     "text": [
      "C:\\Users\\王方正\\AppData\\Local\\Temp\\ipykernel_12872\\4105117228.py:2: UserWarning: pandas only supports SQLAlchemy connectable (engine/connection) or database string URI or sqlite3 DBAPI2 connection. Other DBAPI2 objects are not tested. Please consider using SQLAlchemy.\n",
      "  df = pd.read_sql(\"SELECT city_name, std_dev_value FROM jiangxi_city_std_dev;\", conn)\n"
     ]
    },
    {
     "data": {
      "text/plain": [
       "<pyecharts.charts.basic_charts.map.Map at 0x1f544b3a8e0>"
      ]
     },
     "execution_count": 17,
     "metadata": {},
     "output_type": "execute_result"
    }
   ],
   "execution_count": 17
  },
  {
   "cell_type": "code",
   "id": "29a45fdf",
   "metadata": {
    "ExecuteTime": {
     "end_time": "2025-04-29T02:20:18.953756Z",
     "start_time": "2025-04-29T02:20:18.941008Z"
    }
   },
   "source": [
    "def a16():\n",
    "    df = pd.read_sql(\"SELECT record_year, average_value FROM nanchang_annual_average;\", conn)\n",
    "    line_chart = Line(init_opts=opts.InitOpts(theme='light'))\n",
    "    line_chart.add_xaxis(df['record_year'].tolist())\n",
    "    line_chart.add_yaxis(\"年度均值\", df['average_value'].apply(pd.to_numeric, errors='coerce').round(2).tolist())\n",
    "    line_chart.set_global_opts(\n",
    "        title_opts=opts.TitleOpts(title=\"南昌市年度均值\"),\n",
    "        xaxis_opts=opts.AxisOpts(type_='category'),\n",
    "        yaxis_opts=opts.AxisOpts(type_='value')\n",
    "    )\n",
    "#     line_chart.render(\"../文件/page/film/单页可视化/南昌市年度均值.html\")\n",
    "    return line_chart\n",
    "a16()"
   ],
   "outputs": [
    {
     "name": "stderr",
     "output_type": "stream",
     "text": [
      "C:\\Users\\王方正\\AppData\\Local\\Temp\\ipykernel_12872\\2457173957.py:2: UserWarning: pandas only supports SQLAlchemy connectable (engine/connection) or database string URI or sqlite3 DBAPI2 connection. Other DBAPI2 objects are not tested. Please consider using SQLAlchemy.\n",
      "  df = pd.read_sql(\"SELECT record_year, average_value FROM nanchang_annual_average;\", conn)\n"
     ]
    },
    {
     "data": {
      "text/plain": [
       "<pyecharts.charts.basic_charts.line.Line at 0x1f544b3afd0>"
      ]
     },
     "execution_count": 18,
     "metadata": {},
     "output_type": "execute_result"
    }
   ],
   "execution_count": 18
  },
  {
   "cell_type": "code",
   "id": "48375b7e",
   "metadata": {
    "ExecuteTime": {
     "end_time": "2025-04-29T02:20:21.337820Z",
     "start_time": "2025-04-29T02:20:21.325191Z"
    }
   },
   "source": [
    "def a17():\n",
    "    df = pd.read_sql(\"SELECT record_year, total_sum FROM nanchang_annual_sum;\", conn)\n",
    "    bar_chart = Bar(init_opts=opts.InitOpts(theme='macarons'))\n",
    "    bar_chart.add_xaxis(df['record_year'].tolist())\n",
    "    bar_chart.add_yaxis(\"年度总和\", df['total_sum'].apply(pd.to_numeric, errors='coerce').tolist(),\n",
    "                        label_opts=opts.LabelOpts(is_show=False))\n",
    "    # 添加标记线\n",
    "    bar_chart.set_series_opts(\n",
    "        markline_opts=opts.MarkLineOpts(\n",
    "            data=[\n",
    "                opts.MarkLineItem(type_='average', name='平均值'),\n",
    "                opts.MarkLineItem(type_='max', name='最大值'),\n",
    "                opts.MarkLineItem(type_='min', name='最小值')\n",
    "            ],\n",
    "            label_opts=opts.LabelOpts(\n",
    "                position='end',  # 标记线数值显示在末端\n",
    "                formatter=JsCode(\"function(params){return params.value.toFixed(2);}\")  # 格式化为两位小数\n",
    "            )\n",
    "        )\n",
    "    )\n",
    "    bar_chart.set_global_opts(\n",
    "        title_opts=opts.TitleOpts(title=\"南昌市年度总和\"),\n",
    "        xaxis_opts=opts.AxisOpts(type_='category'),\n",
    "        yaxis_opts=opts.AxisOpts(type_='value')\n",
    "    )\n",
    "#     bar_chart.render(\"../文件/page/film/单页可视化/南昌市年度总和.html\")\n",
    "    return bar_chart\n",
    "a17()"
   ],
   "outputs": [
    {
     "name": "stderr",
     "output_type": "stream",
     "text": [
      "C:\\Users\\王方正\\AppData\\Local\\Temp\\ipykernel_12872\\680686943.py:2: UserWarning: pandas only supports SQLAlchemy connectable (engine/connection) or database string URI or sqlite3 DBAPI2 connection. Other DBAPI2 objects are not tested. Please consider using SQLAlchemy.\n",
      "  df = pd.read_sql(\"SELECT record_year, total_sum FROM nanchang_annual_sum;\", conn)\n"
     ]
    },
    {
     "data": {
      "text/plain": [
       "<pyecharts.charts.basic_charts.bar.Bar at 0x1f544b3d220>"
      ]
     },
     "execution_count": 19,
     "metadata": {},
     "output_type": "execute_result"
    }
   ],
   "execution_count": 19
  },
  {
   "cell_type": "code",
   "id": "4e63f42b",
   "metadata": {
    "ExecuteTime": {
     "end_time": "2025-04-29T02:20:23.937380Z",
     "start_time": "2025-04-29T02:20:23.909644Z"
    }
   },
   "source": [
    "def a18():\n",
    "    df = pd.read_sql(\"SELECT record_year, max_value FROM nanchang_annual_max;\", conn)\n",
    "    line_chart = Line(init_opts=opts.InitOpts(theme='dark'))\n",
    "    line_chart.add_xaxis(df['record_year'].tolist())\n",
    "    line_chart.add_yaxis(\"年度最大值\", df['max_value'].apply(pd.to_numeric, errors='coerce').round(2).tolist())\n",
    "    line_chart.set_global_opts(\n",
    "        title_opts=opts.TitleOpts(title=\"南昌市年度最大值\"),\n",
    "        xaxis_opts=opts.AxisOpts(type_='category'),\n",
    "        yaxis_opts=opts.AxisOpts(type_='value')\n",
    "    )\n",
    "#     line_chart.render(\"../文件/page/film/单页可视化/南昌市年度最大值.html\")\n",
    "    return line_chart\n",
    "a18()"
   ],
   "outputs": [
    {
     "name": "stderr",
     "output_type": "stream",
     "text": [
      "C:\\Users\\王方正\\AppData\\Local\\Temp\\ipykernel_12872\\4163147709.py:2: UserWarning: pandas only supports SQLAlchemy connectable (engine/connection) or database string URI or sqlite3 DBAPI2 connection. Other DBAPI2 objects are not tested. Please consider using SQLAlchemy.\n",
      "  df = pd.read_sql(\"SELECT record_year, max_value FROM nanchang_annual_max;\", conn)\n"
     ]
    },
    {
     "data": {
      "text/plain": [
       "<pyecharts.charts.basic_charts.line.Line at 0x1f54527e6d0>"
      ]
     },
     "execution_count": 20,
     "metadata": {},
     "output_type": "execute_result"
    }
   ],
   "execution_count": 20
  },
  {
   "cell_type": "code",
   "id": "b08b73b6",
   "metadata": {
    "ExecuteTime": {
     "end_time": "2025-04-29T02:20:25.945510Z",
     "start_time": "2025-04-29T02:20:25.917054Z"
    }
   },
   "source": [
    "def a19():\n",
    "    df = pd.read_sql(\"SELECT record_year, min_value FROM nanchang_annual_min;\", conn)\n",
    "    line_chart = Line(init_opts=opts.InitOpts(theme='vintage'))\n",
    "    line_chart.add_xaxis(df['record_year'].tolist())\n",
    "    line_chart.add_yaxis(\"年度最小值\", df['min_value'].apply(pd.to_numeric, errors='coerce').round(2).tolist())\n",
    "    line_chart.set_global_opts(\n",
    "        title_opts=opts.TitleOpts(title=\"南昌市年度最小值\"),\n",
    "        xaxis_opts=opts.AxisOpts(type_='category'),\n",
    "        yaxis_opts=opts.AxisOpts(type_='value')\n",
    "    )\n",
    "#     line_chart.render(\"../文件/page/film/单页可视化/南昌市年度最小值.html\")\n",
    "    return line_chart\n",
    "a19()"
   ],
   "outputs": [
    {
     "name": "stderr",
     "output_type": "stream",
     "text": [
      "C:\\Users\\王方正\\AppData\\Local\\Temp\\ipykernel_12872\\1047391282.py:2: UserWarning: pandas only supports SQLAlchemy connectable (engine/connection) or database string URI or sqlite3 DBAPI2 connection. Other DBAPI2 objects are not tested. Please consider using SQLAlchemy.\n",
      "  df = pd.read_sql(\"SELECT record_year, min_value FROM nanchang_annual_min;\", conn)\n"
     ]
    },
    {
     "data": {
      "text/plain": [
       "<pyecharts.charts.basic_charts.line.Line at 0x1f544b5d580>"
      ]
     },
     "execution_count": 21,
     "metadata": {},
     "output_type": "execute_result"
    }
   ],
   "execution_count": 21
  },
  {
   "cell_type": "code",
   "id": "a0918d2a",
   "metadata": {
    "ExecuteTime": {
     "end_time": "2025-04-29T02:20:27.895596Z",
     "start_time": "2025-04-29T02:20:27.881944Z"
    }
   },
   "source": [
    "def a20():\n",
    "    df = pd.read_sql(\"SELECT record_year, std_dev_value FROM nanchang_annual_std_dev;\", conn)\n",
    "    bar_chart = Bar(init_opts=opts.InitOpts(theme='chalk'))\n",
    "    bar_chart.add_xaxis(df['record_year'].tolist())\n",
    "    bar_chart.add_yaxis(\"年度标准差\", df['std_dev_value'].apply(pd.to_numeric, errors='coerce').round(2).tolist())\n",
    "    bar_chart.set_global_opts(\n",
    "        title_opts=opts.TitleOpts(title=\"南昌市年度标准差\"),\n",
    "        xaxis_opts=opts.AxisOpts(type_='category'),\n",
    "        yaxis_opts=opts.AxisOpts(type_='value')\n",
    "    )\n",
    "#     bar_chart.render(\"../文件/page/film/单页可视化/南昌市年度标准差.html\")\n",
    "    return bar_chart\n",
    "a20()"
   ],
   "outputs": [
    {
     "name": "stderr",
     "output_type": "stream",
     "text": [
      "C:\\Users\\王方正\\AppData\\Local\\Temp\\ipykernel_12872\\3601659249.py:2: UserWarning: pandas only supports SQLAlchemy connectable (engine/connection) or database string URI or sqlite3 DBAPI2 connection. Other DBAPI2 objects are not tested. Please consider using SQLAlchemy.\n",
      "  df = pd.read_sql(\"SELECT record_year, std_dev_value FROM nanchang_annual_std_dev;\", conn)\n"
     ]
    },
    {
     "data": {
      "text/plain": [
       "<pyecharts.charts.basic_charts.bar.Bar at 0x1f544b3dd30>"
      ]
     },
     "execution_count": 22,
     "metadata": {},
     "output_type": "execute_result"
    }
   ],
   "execution_count": 22
  },
  {
   "cell_type": "code",
   "id": "8304d709",
   "metadata": {
    "ExecuteTime": {
     "end_time": "2025-04-29T02:20:29.772538Z",
     "start_time": "2025-04-29T02:20:29.636845Z"
    }
   },
   "source": [
    "def a21():\n",
    "    \"\"\"从数据库中获取年度全国均值数据\"\"\"\n",
    "    conn = create_connection()\n",
    "    query = \"SELECT * FROM provincial_average;\"\n",
    "    \"\"\"创建地图可视化并保存为HTML\"\"\"\n",
    "    df = pd.read_sql(query, conn)\n",
    "    if df is not None and not df.empty:\n",
    "        # 创建地图\n",
    "        map_chart = Map()\n",
    "        map_chart.add(\"PM2.5年度全国均值\", [list(z) for z in zip(list(df['province_name'].astype(str)), list(df['average_value']))], \"china\")\n",
    "        map_chart.set_global_opts(\n",
    "            title_opts=opts.TitleOpts(title=\"PM2.5年度全国均值\"),\n",
    "            visualmap_opts=opts.VisualMapOpts(max_=100)  # 假设PM2.5的最大值为300，可根据实际数据调整\n",
    "        )\n",
    "        \n",
    "#         map_chart.render(\"../文件/page/film/单页可视化/各省均值.html\")\n",
    "        return map_chart\n",
    "a21()"
   ],
   "outputs": [
    {
     "name": "stderr",
     "output_type": "stream",
     "text": [
      "C:\\Users\\王方正\\AppData\\Local\\Temp\\ipykernel_12872\\1522242937.py:6: UserWarning: pandas only supports SQLAlchemy connectable (engine/connection) or database string URI or sqlite3 DBAPI2 connection. Other DBAPI2 objects are not tested. Please consider using SQLAlchemy.\n",
      "  df = pd.read_sql(query, conn)\n"
     ]
    },
    {
     "data": {
      "text/plain": [
       "<pyecharts.charts.basic_charts.map.Map at 0x1f544b3dd00>"
      ]
     },
     "execution_count": 23,
     "metadata": {},
     "output_type": "execute_result"
    }
   ],
   "execution_count": 23
  },
  {
   "cell_type": "code",
   "id": "f2b11408",
   "metadata": {
    "ExecuteTime": {
     "end_time": "2025-04-29T02:20:31.661596Z",
     "start_time": "2025-04-29T02:20:31.633792Z"
    }
   },
   "source": [
    "def a22():\n",
    "    df = pd.read_sql(\"SELECT province_name, total_sum FROM provincial_sum;\", conn)\n",
    "    map_chart = Map()\n",
    "    map_chart.add(\"各省总和\", [list(z) for z in zip(df['province_name'], df['total_sum'].apply(pd.to_numeric, errors='coerce'))], \"china\")\n",
    "    map_chart.set_global_opts(\n",
    "        title_opts=opts.TitleOpts(title=\"各省总和\"),\n",
    "        visualmap_opts=opts.VisualMapOpts(max_=df['total_sum'].max())\n",
    "    )\n",
    "#     map_chart.render(\"../文件/page/film/单页可视化/各省总和.html\")\n",
    "    return map_chart\n",
    "a22()"
   ],
   "outputs": [
    {
     "name": "stderr",
     "output_type": "stream",
     "text": [
      "C:\\Users\\王方正\\AppData\\Local\\Temp\\ipykernel_12872\\1272653667.py:2: UserWarning: pandas only supports SQLAlchemy connectable (engine/connection) or database string URI or sqlite3 DBAPI2 connection. Other DBAPI2 objects are not tested. Please consider using SQLAlchemy.\n",
      "  df = pd.read_sql(\"SELECT province_name, total_sum FROM provincial_sum;\", conn)\n"
     ]
    },
    {
     "data": {
      "text/plain": [
       "<pyecharts.charts.basic_charts.map.Map at 0x1f545245400>"
      ]
     },
     "execution_count": 24,
     "metadata": {},
     "output_type": "execute_result"
    }
   ],
   "execution_count": 24
  },
  {
   "cell_type": "code",
   "id": "01e751c1",
   "metadata": {
    "ExecuteTime": {
     "end_time": "2025-04-29T02:20:33.330034Z",
     "start_time": "2025-04-29T02:20:33.316840Z"
    }
   },
   "source": [
    "def a23():\n",
    "    df = pd.read_sql(\"SELECT province_name, max_value FROM provincial_max;\", conn)\n",
    "    map_chart = Map()\n",
    "    map_chart.add(\"各省最大值\", [list(z) for z in zip(df['province_name'], df['max_value'].apply(pd.to_numeric, errors='coerce'))], \"china\")\n",
    "    map_chart.set_global_opts(\n",
    "        title_opts=opts.TitleOpts(title=\"各省最大值\"),\n",
    "        visualmap_opts=opts.VisualMapOpts(max_=df['max_value'].max())\n",
    "    )\n",
    "#     map_chart.render(\"../文件/page/film/单页可视化/各省最大值.html\")\n",
    "    return map_chart\n",
    "a23()"
   ],
   "outputs": [
    {
     "name": "stderr",
     "output_type": "stream",
     "text": [
      "C:\\Users\\王方正\\AppData\\Local\\Temp\\ipykernel_12872\\3983860060.py:2: UserWarning: pandas only supports SQLAlchemy connectable (engine/connection) or database string URI or sqlite3 DBAPI2 connection. Other DBAPI2 objects are not tested. Please consider using SQLAlchemy.\n",
      "  df = pd.read_sql(\"SELECT province_name, max_value FROM provincial_max;\", conn)\n"
     ]
    },
    {
     "data": {
      "text/plain": [
       "<pyecharts.charts.basic_charts.map.Map at 0x1f545245160>"
      ]
     },
     "execution_count": 25,
     "metadata": {},
     "output_type": "execute_result"
    }
   ],
   "execution_count": 25
  },
  {
   "cell_type": "code",
   "id": "a9afebf1",
   "metadata": {
    "ExecuteTime": {
     "end_time": "2025-04-29T02:20:35.165750Z",
     "start_time": "2025-04-29T02:20:35.152812Z"
    }
   },
   "source": [
    "def a24():\n",
    "    df = pd.read_sql(\"SELECT province_name, min_value FROM provincial_min;\", conn)\n",
    "    map_chart = Map()\n",
    "    map_chart.add(\"各省最小值\", [list(z) for z in zip(df['province_name'], df['min_value'].apply(pd.to_numeric, errors='coerce'))], \"china\")\n",
    "    map_chart.set_global_opts(\n",
    "        title_opts=opts.TitleOpts(title=\"各省最小值\"),\n",
    "        visualmap_opts=opts.VisualMapOpts( max_=df['min_value'].max())\n",
    "    )\n",
    "#     map_chart.render(\"../文件/page/film/单页可视化/各省最小值.html\")\n",
    "    return map_chart\n",
    "a24()"
   ],
   "outputs": [
    {
     "name": "stderr",
     "output_type": "stream",
     "text": [
      "C:\\Users\\王方正\\AppData\\Local\\Temp\\ipykernel_12872\\4020300200.py:2: UserWarning: pandas only supports SQLAlchemy connectable (engine/connection) or database string URI or sqlite3 DBAPI2 connection. Other DBAPI2 objects are not tested. Please consider using SQLAlchemy.\n",
      "  df = pd.read_sql(\"SELECT province_name, min_value FROM provincial_min;\", conn)\n"
     ]
    },
    {
     "data": {
      "text/plain": [
       "<pyecharts.charts.basic_charts.map.Map at 0x1f544b3a3d0>"
      ]
     },
     "execution_count": 26,
     "metadata": {},
     "output_type": "execute_result"
    }
   ],
   "execution_count": 26
  },
  {
   "cell_type": "code",
   "id": "55d78ee0",
   "metadata": {
    "ExecuteTime": {
     "end_time": "2025-04-29T02:20:37.250888Z",
     "start_time": "2025-04-29T02:20:37.235758Z"
    }
   },
   "source": [
    "def a25():\n",
    "    df = pd.read_sql(\"SELECT province_name, std_dev_value FROM provincial_std_dev;\", conn)\n",
    "    map_chart = Map()\n",
    "    map_chart.add(\"各省标准差\", [list(z) for z in zip(df['province_name'], df['std_dev_value'].apply(pd.to_numeric, errors='coerce'))], \"china\")\n",
    "    map_chart.set_global_opts(\n",
    "        title_opts=opts.TitleOpts(title=\"各省标准差\"),\n",
    "        visualmap_opts=opts.VisualMapOpts(max_=df['std_dev_value'].max())\n",
    "    )\n",
    "#     map_chart.render(\"../文件/page/film/单页可视化/各省标准差.html\")\n",
    "    return map_chart\n",
    "\n",
    "a25()"
   ],
   "outputs": [
    {
     "name": "stderr",
     "output_type": "stream",
     "text": [
      "C:\\Users\\王方正\\AppData\\Local\\Temp\\ipykernel_12872\\3854585369.py:2: UserWarning: pandas only supports SQLAlchemy connectable (engine/connection) or database string URI or sqlite3 DBAPI2 connection. Other DBAPI2 objects are not tested. Please consider using SQLAlchemy.\n",
      "  df = pd.read_sql(\"SELECT province_name, std_dev_value FROM provincial_std_dev;\", conn)\n"
     ]
    },
    {
     "data": {
      "text/plain": [
       "<pyecharts.charts.basic_charts.map.Map at 0x1f544b3a2e0>"
      ]
     },
     "execution_count": 27,
     "metadata": {},
     "output_type": "execute_result"
    }
   ],
   "execution_count": 27
  },
  {
   "cell_type": "code",
   "id": "9f007d4d",
   "metadata": {
    "ExecuteTime": {
     "end_time": "2025-04-29T02:20:39.803773Z",
     "start_time": "2025-04-29T02:20:39.048958Z"
    }
   },
   "source": [
    "from pyecharts.charts import Bar,Pie,Page\n",
    "page = Page(page_title='①可视化大屏',layout=Page.DraggablePageLayout)  # 生成可拖拽的页面布局\n",
    "page.add(\n",
    "    a1(),\n",
    "    a2(),\n",
    "    a3(),\n",
    "    a4(),\n",
    "    a5(),\n",
    ")   \n",
    "page.render(\"../../文件/page/film/大屏可视化/①可视化大屏.html\")  # 生成一个HTML页面"
   ],
   "outputs": [
    {
     "name": "stderr",
     "output_type": "stream",
     "text": [
      "C:\\Users\\王方正\\AppData\\Local\\Temp\\ipykernel_12872\\263643481.py:6: UserWarning: pandas only supports SQLAlchemy connectable (engine/connection) or database string URI or sqlite3 DBAPI2 connection. Other DBAPI2 objects are not tested. Please consider using SQLAlchemy.\n",
      "  df = pd.read_sql(query, conn)\n",
      "C:\\Users\\王方正\\AppData\\Local\\Temp\\ipykernel_12872\\402491529.py:5: UserWarning: pandas only supports SQLAlchemy connectable (engine/connection) or database string URI or sqlite3 DBAPI2 connection. Other DBAPI2 objects are not tested. Please consider using SQLAlchemy.\n",
      "  df = pd.read_sql(query, conn)\n",
      "C:\\Users\\王方正\\AppData\\Local\\Temp\\ipykernel_12872\\22231531.py:4: UserWarning: pandas only supports SQLAlchemy connectable (engine/connection) or database string URI or sqlite3 DBAPI2 connection. Other DBAPI2 objects are not tested. Please consider using SQLAlchemy.\n",
      "  df = pd.read_sql(\"SELECT record_year, max_value FROM annual_national_max;\", conn)\n",
      "C:\\Users\\王方正\\AppData\\Local\\Temp\\ipykernel_12872\\4249374456.py:3: UserWarning: pandas only supports SQLAlchemy connectable (engine/connection) or database string URI or sqlite3 DBAPI2 connection. Other DBAPI2 objects are not tested. Please consider using SQLAlchemy.\n",
      "  df = pd.read_sql(\"SELECT record_year, min_value FROM annual_national_min;\", conn)\n"
     ]
    },
    {
     "ename": "FileNotFoundError",
     "evalue": "[Errno 2] No such file or directory: '../../文件/page/film/大屏可视化/①可视化大屏.html'",
     "output_type": "error",
     "traceback": [
      "\u001B[1;31m---------------------------------------------------------------------------\u001B[0m",
      "\u001B[1;31mFileNotFoundError\u001B[0m                         Traceback (most recent call last)",
      "\u001B[1;32m~\\AppData\\Local\\Temp\\ipykernel_12872\\4064959161.py\u001B[0m in \u001B[0;36m<module>\u001B[1;34m\u001B[0m\n\u001B[0;32m      8\u001B[0m     \u001B[0ma5\u001B[0m\u001B[1;33m(\u001B[0m\u001B[1;33m)\u001B[0m\u001B[1;33m,\u001B[0m\u001B[1;33m\u001B[0m\u001B[1;33m\u001B[0m\u001B[0m\n\u001B[0;32m      9\u001B[0m )   \n\u001B[1;32m---> 10\u001B[1;33m \u001B[0mpage\u001B[0m\u001B[1;33m.\u001B[0m\u001B[0mrender\u001B[0m\u001B[1;33m(\u001B[0m\u001B[1;34m\"../../文件/page/film/大屏可视化/①可视化大屏.html\"\u001B[0m\u001B[1;33m)\u001B[0m  \u001B[1;31m# 生成一个HTML页面\u001B[0m\u001B[1;33m\u001B[0m\u001B[1;33m\u001B[0m\u001B[0m\n\u001B[0m",
      "\u001B[1;32m~\\AppData\\Roaming\\Python\\Python39\\site-packages\\pyecharts\\charts\\composite_charts\\page.py\u001B[0m in \u001B[0;36mrender\u001B[1;34m(self, path, template_name, env, **kwargs)\u001B[0m\n\u001B[0;32m    147\u001B[0m     ) -> str:\n\u001B[0;32m    148\u001B[0m         \u001B[0mself\u001B[0m\u001B[1;33m.\u001B[0m\u001B[0m_prepare_render\u001B[0m\u001B[1;33m(\u001B[0m\u001B[1;33m)\u001B[0m\u001B[1;33m\u001B[0m\u001B[1;33m\u001B[0m\u001B[0m\n\u001B[1;32m--> 149\u001B[1;33m         \u001B[1;32mreturn\u001B[0m \u001B[0mengine\u001B[0m\u001B[1;33m.\u001B[0m\u001B[0mrender\u001B[0m\u001B[1;33m(\u001B[0m\u001B[0mself\u001B[0m\u001B[1;33m,\u001B[0m \u001B[0mpath\u001B[0m\u001B[1;33m,\u001B[0m \u001B[0mtemplate_name\u001B[0m\u001B[1;33m,\u001B[0m \u001B[0menv\u001B[0m\u001B[1;33m,\u001B[0m \u001B[1;33m**\u001B[0m\u001B[0mkwargs\u001B[0m\u001B[1;33m)\u001B[0m\u001B[1;33m\u001B[0m\u001B[1;33m\u001B[0m\u001B[0m\n\u001B[0m\u001B[0;32m    150\u001B[0m \u001B[1;33m\u001B[0m\u001B[0m\n\u001B[0;32m    151\u001B[0m     def render_embed(\n",
      "\u001B[1;32m~\\AppData\\Roaming\\Python\\Python39\\site-packages\\pyecharts\\render\\engine.py\u001B[0m in \u001B[0;36mrender\u001B[1;34m(chart, path, template_name, env, **kwargs)\u001B[0m\n\u001B[0;32m     90\u001B[0m     \u001B[0mchart\u001B[0m\u001B[1;33m,\u001B[0m \u001B[0mpath\u001B[0m\u001B[1;33m:\u001B[0m \u001B[0mstr\u001B[0m\u001B[1;33m,\u001B[0m \u001B[0mtemplate_name\u001B[0m\u001B[1;33m:\u001B[0m \u001B[0mstr\u001B[0m\u001B[1;33m,\u001B[0m \u001B[0menv\u001B[0m\u001B[1;33m:\u001B[0m \u001B[0mOptional\u001B[0m\u001B[1;33m[\u001B[0m\u001B[0mEnvironment\u001B[0m\u001B[1;33m]\u001B[0m\u001B[1;33m,\u001B[0m \u001B[1;33m**\u001B[0m\u001B[0mkwargs\u001B[0m\u001B[1;33m\u001B[0m\u001B[1;33m\u001B[0m\u001B[0m\n\u001B[0;32m     91\u001B[0m ) -> str:\n\u001B[1;32m---> 92\u001B[1;33m     RenderEngine(env).render_chart_to_file(\n\u001B[0m\u001B[0;32m     93\u001B[0m         \u001B[0mtemplate_name\u001B[0m\u001B[1;33m=\u001B[0m\u001B[0mtemplate_name\u001B[0m\u001B[1;33m,\u001B[0m \u001B[0mchart\u001B[0m\u001B[1;33m=\u001B[0m\u001B[0mchart\u001B[0m\u001B[1;33m,\u001B[0m \u001B[0mpath\u001B[0m\u001B[1;33m=\u001B[0m\u001B[0mpath\u001B[0m\u001B[1;33m,\u001B[0m \u001B[1;33m**\u001B[0m\u001B[0mkwargs\u001B[0m\u001B[1;33m\u001B[0m\u001B[1;33m\u001B[0m\u001B[0m\n\u001B[0;32m     94\u001B[0m     )\n",
      "\u001B[1;32m~\\AppData\\Roaming\\Python\\Python39\\site-packages\\pyecharts\\render\\engine.py\u001B[0m in \u001B[0;36mrender_chart_to_file\u001B[1;34m(self, template_name, chart, path, **kwargs)\u001B[0m\n\u001B[0;32m     74\u001B[0m             \u001B[0mtpl\u001B[0m\u001B[1;33m.\u001B[0m\u001B[0mrender\u001B[0m\u001B[1;33m(\u001B[0m\u001B[0mchart\u001B[0m\u001B[1;33m=\u001B[0m\u001B[0mself\u001B[0m\u001B[1;33m.\u001B[0m\u001B[0mgenerate_js_link\u001B[0m\u001B[1;33m(\u001B[0m\u001B[0mchart\u001B[0m\u001B[1;33m)\u001B[0m\u001B[1;33m,\u001B[0m \u001B[1;33m**\u001B[0m\u001B[0mkwargs\u001B[0m\u001B[1;33m)\u001B[0m\u001B[1;33m\u001B[0m\u001B[1;33m\u001B[0m\u001B[0m\n\u001B[0;32m     75\u001B[0m         )\n\u001B[1;32m---> 76\u001B[1;33m         \u001B[0mwrite_utf8_html_file\u001B[0m\u001B[1;33m(\u001B[0m\u001B[0mpath\u001B[0m\u001B[1;33m,\u001B[0m \u001B[0mhtml\u001B[0m\u001B[1;33m)\u001B[0m\u001B[1;33m\u001B[0m\u001B[1;33m\u001B[0m\u001B[0m\n\u001B[0m\u001B[0;32m     77\u001B[0m \u001B[1;33m\u001B[0m\u001B[0m\n\u001B[0;32m     78\u001B[0m     \u001B[1;32mdef\u001B[0m \u001B[0mrender_chart_to_template\u001B[0m\u001B[1;33m(\u001B[0m\u001B[0mself\u001B[0m\u001B[1;33m,\u001B[0m \u001B[0mtemplate_name\u001B[0m\u001B[1;33m:\u001B[0m \u001B[0mstr\u001B[0m\u001B[1;33m,\u001B[0m \u001B[0mchart\u001B[0m\u001B[1;33m:\u001B[0m \u001B[0mAny\u001B[0m\u001B[1;33m,\u001B[0m \u001B[1;33m**\u001B[0m\u001B[0mkwargs\u001B[0m\u001B[1;33m)\u001B[0m \u001B[1;33m->\u001B[0m \u001B[0mstr\u001B[0m\u001B[1;33m:\u001B[0m\u001B[1;33m\u001B[0m\u001B[1;33m\u001B[0m\u001B[0m\n",
      "\u001B[1;32m~\\AppData\\Roaming\\Python\\Python39\\site-packages\\pyecharts\\render\\engine.py\u001B[0m in \u001B[0;36mwrite_utf8_html_file\u001B[1;34m(file_name, html_content)\u001B[0m\n\u001B[0;32m     16\u001B[0m \u001B[1;33m\u001B[0m\u001B[0m\n\u001B[0;32m     17\u001B[0m \u001B[1;32mdef\u001B[0m \u001B[0mwrite_utf8_html_file\u001B[0m\u001B[1;33m(\u001B[0m\u001B[0mfile_name\u001B[0m\u001B[1;33m:\u001B[0m \u001B[0mstr\u001B[0m\u001B[1;33m,\u001B[0m \u001B[0mhtml_content\u001B[0m\u001B[1;33m:\u001B[0m \u001B[0mstr\u001B[0m\u001B[1;33m)\u001B[0m\u001B[1;33m:\u001B[0m\u001B[1;33m\u001B[0m\u001B[1;33m\u001B[0m\u001B[0m\n\u001B[1;32m---> 18\u001B[1;33m     with open(file=file_name,\n\u001B[0m\u001B[0;32m     19\u001B[0m               \u001B[0mmode\u001B[0m\u001B[1;33m=\u001B[0m\u001B[1;34m\"w+\"\u001B[0m\u001B[1;33m,\u001B[0m\u001B[1;33m\u001B[0m\u001B[1;33m\u001B[0m\u001B[0m\n\u001B[0;32m     20\u001B[0m               \u001B[0mencoding\u001B[0m\u001B[1;33m=\u001B[0m\u001B[1;34m\"utf-8\"\u001B[0m\u001B[1;33m,\u001B[0m\u001B[1;33m\u001B[0m\u001B[1;33m\u001B[0m\u001B[0m\n",
      "\u001B[1;31mFileNotFoundError\u001B[0m: [Errno 2] No such file or directory: '../../文件/page/film/大屏可视化/①可视化大屏.html'"
     ]
    }
   ],
   "execution_count": 28
  },
  {
   "cell_type": "code",
   "execution_count": 29,
   "id": "433fc1b9",
   "metadata": {},
   "outputs": [
    {
     "data": {
      "text/plain": [
       "'<!DOCTYPE html>\\n<html>\\n<head>\\n    <meta charset=\"UTF-8\">\\n    <title>①可视化大屏</title>\\n                <script type=\"text/javascript\" src=\"https://assets.pyecharts.org/assets/v5/echarts.min.js\"></script>\\n            <script type=\"text/javascript\" src=\"https://assets.pyecharts.org/assets/v5/jquery.min.js\"></script>\\n            <script type=\"text/javascript\" src=\"https://assets.pyecharts.org/assets/v5/jquery-ui.min.js\"></script>\\n            <script type=\"text/javascript\" src=\"https://assets.pyecharts.org/assets/v5/ResizeSensor.js\"></script>\\n\\n            <link rel=\"stylesheet\"  href=\"https://assets.pyecharts.org/assets/v5/jquery-ui.css\">\\n\\n</head>\\n<body >\\n    <style>.box {  } </style>\\n        \\n    <div class=\"box\">\\n                <div id=\"797a18aee7434d70a1ee9413e86fb642\" class=\"chart-container\" style=\"position: absolute; width: 765.4px; height: 326.4px; top: 31.399999618530273px; left: 8px;\"></div>\\n    <script>\\n        var chart_797a18aee7434d70a1ee9413e86fb642 = echarts.init(\\n            document.getElementById(\\'797a18aee7434d70a1ee9413e86fb642\\'), \\'white\\', {renderer: \\'canvas\\'});\\n        var option_797a18aee7434d70a1ee9413e86fb642 = {\\n    \"animation\": true,\\n    \"animationThreshold\": 2000,\\n    \"animationDuration\": 1000,\\n    \"animationEasing\": \"cubicOut\",\\n    \"animationDelay\": 0,\\n    \"animationDurationUpdate\": 300,\\n    \"animationEasingUpdate\": \"cubicOut\",\\n    \"animationDelayUpdate\": 0,\\n    \"aria\": {\\n        \"enabled\": false\\n    },\\n    \"color\": [\\n        \"#5470c6\",\\n        \"#91cc75\",\\n        \"#fac858\",\\n        \"#ee6666\",\\n        \"#73c0de\",\\n        \"#3ba272\",\\n        \"#fc8452\",\\n        \"#9a60b4\",\\n        \"#ea7ccc\"\\n    ],\\n    \"series\": [\\n        {\\n            \"type\": \"line\",\\n            \"name\": \"PM2.5\\\\u5e74\\\\u5ea6\\\\u5168\\\\u56fd\\\\u5747\\\\u503c\",\\n            \"connectNulls\": false,\\n            \"xAxisIndex\": 0,\\n            \"symbolSize\": 4,\\n            \"showSymbol\": true,\\n            \"smooth\": true,\\n            \"clip\": true,\\n            \"step\": false,\\n            \"data\": [\\n                [\\n                    \"1998.0\",\\n                    34.56477918353117\\n                ],\\n                [\\n                    \"1999.0\",\\n                    32.95540320700756\\n                ],\\n                [\\n                    \"2000.0\",\\n                    37.66363280684657\\n                ],\\n                [\\n                    \"2001.0\",\\n                    39.60446915132752\\n                ],\\n                [\\n                    \"2002.0\",\\n                    41.23213982842467\\n                ],\\n                [\\n                    \"2003.0\",\\n                    44.70426772669548\\n                ],\\n                [\\n                    \"2004.0\",\\n                    44.66577286909197\\n                ],\\n                [\\n                    \"2005.0\",\\n                    45.94650648819768\\n                ],\\n                [\\n                    \"2006.0\",\\n                    49.59824023966884\\n                ],\\n                [\\n                    \"2007.0\",\\n                    49.636828845477744\\n                ],\\n                [\\n                    \"2008.0\",\\n                    48.91219639720601\\n                ],\\n                [\\n                    \"2009.0\",\\n                    47.434681531063504\\n                ],\\n                [\\n                    \"2010.0\",\\n                    46.78970454292201\\n                ],\\n                [\\n                    \"2011.0\",\\n                    50.374052030888265\\n                ],\\n                [\\n                    \"2012.0\",\\n                    47.96504155738992\\n                ],\\n                [\\n                    \"2013.0\",\\n                    49.36358810419399\\n                ],\\n                [\\n                    \"2014.0\",\\n                    48.13619886542413\\n                ],\\n                [\\n                    \"2015.0\",\\n                    44.64854276058262\\n                ],\\n                [\\n                    \"2016.0\",\\n                    41.18596086999623\\n                ],\\n                [\\n                    \"2017.0\",\\n                    39.524456731581466\\n                ],\\n                [\\n                    \"2018.0\",\\n                    35.45896310311437\\n                ],\\n                [\\n                    \"2019.0\",\\n                    35.05121877431757\\n                ],\\n                [\\n                    \"2020.0\",\\n                    30.84951572879906\\n                ],\\n                [\\n                    \"2021.0\",\\n                    30.008074130618528\\n                ]\\n            ],\\n            \"hoverAnimation\": true,\\n            \"label\": {\\n                \"show\": false,\\n                \"margin\": 8\\n            },\\n            \"logBase\": 10,\\n            \"seriesLayoutBy\": \"column\",\\n            \"lineStyle\": {\\n                \"show\": true,\\n                \"width\": 1,\\n                \"opacity\": 1,\\n                \"curveness\": 0,\\n                \"type\": \"solid\"\\n            },\\n            \"areaStyle\": {\\n                \"opacity\": 0\\n            },\\n            \"markPoint\": {\\n                \"symbolSize\": 60,\\n                \"label\": {\\n                    \"show\": true,\\n                    \"position\": \"inside\",\\n                    \"color\": \"#fff\",\\n                    \"margin\": 8,\\n                    \"formatter\": function(params){return params.value.toFixed(2);}\\n                },\\n                \"data\": [\\n                    {\\n                        \"name\": \"\\\\u6700\\\\u5927\\\\u503c\",\\n                        \"type\": \"max\"\\n                    },\\n                    {\\n                        \"name\": \"\\\\u6700\\\\u5c0f\\\\u503c\",\\n                        \"type\": \"min\"\\n                    },\\n                    {\\n                        \"name\": \"\\\\u5e73\\\\u5747\\\\u503c\",\\n                        \"type\": \"average\"\\n                    }\\n                ]\\n            },\\n            \"zlevel\": 0,\\n            \"z\": 0\\n        }\\n    ],\\n    \"legend\": [\\n        {\\n            \"data\": [\\n                \"PM2.5\\\\u5e74\\\\u5ea6\\\\u5168\\\\u56fd\\\\u5747\\\\u503c\"\\n            ],\\n            \"selected\": {},\\n            \"show\": true,\\n            \"padding\": 5,\\n            \"itemGap\": 10,\\n            \"itemWidth\": 25,\\n            \"itemHeight\": 14,\\n            \"backgroundColor\": \"transparent\",\\n            \"borderColor\": \"#ccc\",\\n            \"borderRadius\": 0,\\n            \"pageButtonItemGap\": 5,\\n            \"pageButtonPosition\": \"end\",\\n            \"pageFormatter\": \"{current}/{total}\",\\n            \"pageIconColor\": \"#2f4554\",\\n            \"pageIconInactiveColor\": \"#aaa\",\\n            \"pageIconSize\": 15,\\n            \"animationDurationUpdate\": 800,\\n            \"selector\": false,\\n            \"selectorPosition\": \"auto\",\\n            \"selectorItemGap\": 7,\\n            \"selectorButtonGap\": 10\\n        }\\n    ],\\n    \"tooltip\": {\\n        \"show\": true,\\n        \"trigger\": \"item\",\\n        \"triggerOn\": \"mousemove|click\",\\n        \"axisPointer\": {\\n            \"type\": \"line\"\\n        },\\n        \"showContent\": true,\\n        \"alwaysShowContent\": false,\\n        \"showDelay\": 0,\\n        \"hideDelay\": 100,\\n        \"enterable\": false,\\n        \"confine\": false,\\n        \"appendToBody\": false,\\n        \"transitionDuration\": 0.4,\\n        \"textStyle\": {\\n            \"fontSize\": 14\\n        },\\n        \"borderWidth\": 0,\\n        \"padding\": 5,\\n        \"order\": \"seriesAsc\"\\n    },\\n    \"xAxis\": [\\n        {\\n            \"type\": \"category\",\\n            \"show\": true,\\n            \"scale\": false,\\n            \"nameLocation\": \"end\",\\n            \"nameGap\": 15,\\n            \"gridIndex\": 0,\\n            \"inverse\": false,\\n            \"offset\": 0,\\n            \"splitNumber\": 5,\\n            \"boundaryGap\": false,\\n            \"minInterval\": 0,\\n            \"splitLine\": {\\n                \"show\": true,\\n                \"lineStyle\": {\\n                    \"show\": true,\\n                    \"width\": 1,\\n                    \"opacity\": 1,\\n                    \"curveness\": 0,\\n                    \"type\": \"solid\"\\n                }\\n            },\\n            \"data\": [\\n                \"1998.0\",\\n                \"1999.0\",\\n                \"2000.0\",\\n                \"2001.0\",\\n                \"2002.0\",\\n                \"2003.0\",\\n                \"2004.0\",\\n                \"2005.0\",\\n                \"2006.0\",\\n                \"2007.0\",\\n                \"2008.0\",\\n                \"2009.0\",\\n                \"2010.0\",\\n                \"2011.0\",\\n                \"2012.0\",\\n                \"2013.0\",\\n                \"2014.0\",\\n                \"2015.0\",\\n                \"2016.0\",\\n                \"2017.0\",\\n                \"2018.0\",\\n                \"2019.0\",\\n                \"2020.0\",\\n                \"2021.0\"\\n            ]\\n        }\\n    ],\\n    \"yAxis\": [\\n        {\\n            \"show\": true,\\n            \"scale\": false,\\n            \"nameLocation\": \"end\",\\n            \"nameGap\": 15,\\n            \"gridIndex\": 0,\\n            \"inverse\": false,\\n            \"offset\": 0,\\n            \"splitNumber\": 5,\\n            \"minInterval\": 0,\\n            \"splitLine\": {\\n                \"show\": true,\\n                \"lineStyle\": {\\n                    \"show\": true,\\n                    \"width\": 1,\\n                    \"opacity\": 1,\\n                    \"curveness\": 0,\\n                    \"type\": \"solid\"\\n                }\\n            }\\n        }\\n    ],\\n    \"title\": [\\n        {\\n            \"show\": true,\\n            \"text\": \"PM2.5\\\\u5e74\\\\u5ea6\\\\u5168\\\\u56fd\\\\u5747\\\\u503c\",\\n            \"target\": \"blank\",\\n            \"subtarget\": \"blank\",\\n            \"padding\": 5,\\n            \"itemGap\": 10,\\n            \"textAlign\": \"auto\",\\n            \"textVerticalAlign\": \"auto\",\\n            \"triggerEvent\": false\\n        }\\n    ],\\n    \"visualMap\": {\\n        \"show\": true,\\n        \"type\": \"continuous\",\\n        \"min\": 0,\\n        \"max\": 50.374052030888265,\\n        \"inRange\": {\\n            \"color\": [\\n                \"#50a3ba\",\\n                \"#eac763\",\\n                \"#d94e5d\"\\n            ]\\n        },\\n        \"calculable\": true,\\n        \"inverse\": false,\\n        \"splitNumber\": 5,\\n        \"hoverLink\": true,\\n        \"orient\": \"vertical\",\\n        \"padding\": 5,\\n        \"showLabel\": true,\\n        \"itemWidth\": 20,\\n        \"itemHeight\": 140,\\n        \"borderWidth\": 0\\n    }\\n};\\n        chart_797a18aee7434d70a1ee9413e86fb642.setOption(option_797a18aee7434d70a1ee9413e86fb642);\\n    </script>\\n<br/>                <div id=\"2344913c982a4f5bbde8996ce83097bf\" class=\"chart-container\" style=\"position: absolute; width: 720.4px; height: 435.4px; top: 381.20001220703125px; left: 12px;\"></div>\\n    <script>\\n        var chart_2344913c982a4f5bbde8996ce83097bf = echarts.init(\\n            document.getElementById(\\'2344913c982a4f5bbde8996ce83097bf\\'), \\'white\\', {renderer: \\'canvas\\'});\\n        var option_2344913c982a4f5bbde8996ce83097bf = {\\n    \"animation\": true,\\n    \"animationThreshold\": 2000,\\n    \"animationDuration\": 1000,\\n    \"animationEasing\": \"cubicOut\",\\n    \"animationDelay\": 0,\\n    \"animationDurationUpdate\": 300,\\n    \"animationEasingUpdate\": \"cubicOut\",\\n    \"animationDelayUpdate\": 0,\\n    \"aria\": {\\n        \"enabled\": false\\n    },\\n    \"color\": [\\n        \"#5470c6\",\\n        \"#91cc75\",\\n        \"#fac858\",\\n        \"#ee6666\",\\n        \"#73c0de\",\\n        \"#3ba272\",\\n        \"#fc8452\",\\n        \"#9a60b4\",\\n        \"#ea7ccc\"\\n    ],\\n    \"series\": [\\n        {\\n            \"type\": \"bar\",\\n            \"name\": \"PM2.5\\\\u5e74\\\\u5ea6\\\\u5168\\\\u56fd\\\\u603b\\\\u548c\",\\n            \"legendHoverLink\": true,\\n            \"data\": [\\n                250736403.13268745,\\n                241357016.44074583,\\n                271327692.3296087,\\n                295204856.1407039,\\n                297689780.43579465,\\n                314062670.63596606,\\n                305094785.6470198,\\n                296037238.9457296,\\n                329422329.9602605,\\n                333779276.66526484,\\n                330363568.85389906,\\n                322154859.0544563,\\n                324602371.1564951,\\n                333313488.0612068,\\n                322837210.54836166,\\n                333030451.6667942,\\n                333548629.25369906,\\n                314549490.5460752,\\n                297358604.53835785,\\n                277085388.9296098,\\n                270731878.74077773,\\n                255946208.73336935,\\n                240026188.64585567,\\n                237121638.0434606\\n            ],\\n            \"realtimeSort\": false,\\n            \"showBackground\": false,\\n            \"stackStrategy\": \"samesign\",\\n            \"cursor\": \"pointer\",\\n            \"barMinHeight\": 0,\\n            \"barCategoryGap\": \"20%\",\\n            \"barGap\": \"30%\",\\n            \"large\": false,\\n            \"largeThreshold\": 400,\\n            \"seriesLayoutBy\": \"column\",\\n            \"datasetIndex\": 0,\\n            \"clip\": true,\\n            \"zlevel\": 0,\\n            \"z\": 2,\\n            \"label\": {\\n                \"show\": false,\\n                \"position\": \"top\",\\n                \"margin\": 8,\\n                \"formatter\": function(x){return Number(x.value).toFixed(2);}\\n            },\\n            \"rippleEffect\": {\\n                \"show\": true,\\n                \"brushType\": \"stroke\",\\n                \"scale\": 2.5,\\n                \"period\": 4\\n            }\\n        }\\n    ],\\n    \"legend\": [\\n        {\\n            \"data\": [\\n                \"PM2.5\\\\u5e74\\\\u5ea6\\\\u5168\\\\u56fd\\\\u603b\\\\u548c\"\\n            ],\\n            \"selected\": {},\\n            \"show\": true,\\n            \"padding\": 5,\\n            \"itemGap\": 10,\\n            \"itemWidth\": 25,\\n            \"itemHeight\": 14,\\n            \"backgroundColor\": \"transparent\",\\n            \"borderColor\": \"#ccc\",\\n            \"borderRadius\": 0,\\n            \"pageButtonItemGap\": 5,\\n            \"pageButtonPosition\": \"end\",\\n            \"pageFormatter\": \"{current}/{total}\",\\n            \"pageIconColor\": \"#2f4554\",\\n            \"pageIconInactiveColor\": \"#aaa\",\\n            \"pageIconSize\": 15,\\n            \"animationDurationUpdate\": 800,\\n            \"selector\": false,\\n            \"selectorPosition\": \"auto\",\\n            \"selectorItemGap\": 7,\\n            \"selectorButtonGap\": 10\\n        }\\n    ],\\n    \"tooltip\": {\\n        \"show\": true,\\n        \"trigger\": \"item\",\\n        \"triggerOn\": \"mousemove|click\",\\n        \"axisPointer\": {\\n            \"type\": \"line\"\\n        },\\n        \"showContent\": true,\\n        \"alwaysShowContent\": false,\\n        \"showDelay\": 0,\\n        \"hideDelay\": 100,\\n        \"enterable\": false,\\n        \"confine\": false,\\n        \"appendToBody\": false,\\n        \"transitionDuration\": 0.4,\\n        \"textStyle\": {\\n            \"fontSize\": 14\\n        },\\n        \"borderWidth\": 0,\\n        \"padding\": 5,\\n        \"order\": \"seriesAsc\"\\n    },\\n    \"xAxis\": [\\n        {\\n            \"type\": \"category\",\\n            \"show\": true,\\n            \"scale\": false,\\n            \"nameLocation\": \"end\",\\n            \"nameGap\": 15,\\n            \"gridIndex\": 0,\\n            \"axisLabel\": {\\n                \"show\": true,\\n                \"rotate\": -15,\\n                \"margin\": 8\\n            },\\n            \"inverse\": false,\\n            \"offset\": 0,\\n            \"splitNumber\": 5,\\n            \"minInterval\": 0,\\n            \"splitLine\": {\\n                \"show\": true,\\n                \"lineStyle\": {\\n                    \"show\": true,\\n                    \"width\": 1,\\n                    \"opacity\": 1,\\n                    \"curveness\": 0,\\n                    \"type\": \"solid\"\\n                }\\n            },\\n            \"data\": [\\n                \"1998.0\",\\n                \"1999.0\",\\n                \"2000.0\",\\n                \"2001.0\",\\n                \"2002.0\",\\n                \"2003.0\",\\n                \"2004.0\",\\n                \"2005.0\",\\n                \"2006.0\",\\n                \"2007.0\",\\n                \"2008.0\",\\n                \"2009.0\",\\n                \"2010.0\",\\n                \"2011.0\",\\n                \"2012.0\",\\n                \"2013.0\",\\n                \"2014.0\",\\n                \"2015.0\",\\n                \"2016.0\",\\n                \"2017.0\",\\n                \"2018.0\",\\n                \"2019.0\",\\n                \"2020.0\",\\n                \"2021.0\"\\n            ]\\n        }\\n    ],\\n    \"yAxis\": [\\n        {\\n            \"show\": true,\\n            \"scale\": false,\\n            \"nameLocation\": \"end\",\\n            \"nameGap\": 15,\\n            \"gridIndex\": 0,\\n            \"inverse\": false,\\n            \"offset\": 0,\\n            \"splitNumber\": 5,\\n            \"minInterval\": 0,\\n            \"splitLine\": {\\n                \"show\": true,\\n                \"lineStyle\": {\\n                    \"show\": true,\\n                    \"width\": 1,\\n                    \"opacity\": 1,\\n                    \"curveness\": 0,\\n                    \"type\": \"solid\"\\n                }\\n            }\\n        }\\n    ],\\n    \"title\": [\\n        {\\n            \"show\": true,\\n            \"text\": \"PM2.5\\\\u5e74\\\\u5ea6\\\\u5168\\\\u56fd\\\\u603b\\\\u548c\",\\n            \"target\": \"blank\",\\n            \"subtarget\": \"blank\",\\n            \"padding\": 5,\\n            \"itemGap\": 10,\\n            \"textAlign\": \"auto\",\\n            \"textVerticalAlign\": \"auto\",\\n            \"triggerEvent\": false\\n        }\\n    ],\\n    \"visualMap\": {\\n        \"show\": false,\\n        \"type\": \"continuous\",\\n        \"min\": 0,\\n        \"max\": 333779276.66526484,\\n        \"inRange\": {\\n            \"color\": [\\n                \"#50a3ba\",\\n                \"#eac763\",\\n                \"#d94e5d\"\\n            ]\\n        },\\n        \"calculable\": true,\\n        \"inverse\": false,\\n        \"splitNumber\": 5,\\n        \"hoverLink\": true,\\n        \"orient\": \"vertical\",\\n        \"right\": \"right\",\\n        \"padding\": 5,\\n        \"showLabel\": true,\\n        \"itemWidth\": 20,\\n        \"itemHeight\": 140,\\n        \"borderWidth\": 0\\n    }\\n};\\n        chart_2344913c982a4f5bbde8996ce83097bf.setOption(option_2344913c982a4f5bbde8996ce83097bf);\\n    </script>\\n<br/>                <div id=\"936f6aeac16b4398ba0ea2a00c243d0f\" class=\"chart-container\" style=\"position: absolute; width: 785.4px; height: 341.4px; top: 24px; left: 714px;\"></div>\\n    <script>\\n        var chart_936f6aeac16b4398ba0ea2a00c243d0f = echarts.init(\\n            document.getElementById(\\'936f6aeac16b4398ba0ea2a00c243d0f\\'), \\'light\\', {renderer: \\'canvas\\'});\\n        var option_936f6aeac16b4398ba0ea2a00c243d0f = {\\n    \"animation\": true,\\n    \"animationThreshold\": 2000,\\n    \"animationDuration\": 1000,\\n    \"animationEasing\": \"cubicOut\",\\n    \"animationDelay\": 0,\\n    \"animationDurationUpdate\": 300,\\n    \"animationEasingUpdate\": \"cubicOut\",\\n    \"animationDelayUpdate\": 0,\\n    \"aria\": {\\n        \"enabled\": false\\n    },\\n    \"series\": [\\n        {\\n            \"type\": \"line\",\\n            \"name\": \"PM2.5\\\\u5e74\\\\u5ea6\\\\u5168\\\\u56fd\\\\u6700\\\\u5927\\\\u503c\",\\n            \"connectNulls\": false,\\n            \"xAxisIndex\": 0,\\n            \"symbolSize\": 4,\\n            \"showSymbol\": true,\\n            \"smooth\": true,\\n            \"clip\": true,\\n            \"step\": false,\\n            \"data\": [\\n                [\\n                    \"1998.0\",\\n                    87.0\\n                ],\\n                [\\n                    \"1999.0\",\\n                    91.8000030517578\\n                ],\\n                [\\n                    \"2000.0\",\\n                    96.8000030517578\\n                ],\\n                [\\n                    \"2001.0\",\\n                    115.5\\n                ],\\n                [\\n                    \"2002.0\",\\n                    113.099998474121\\n                ],\\n                [\\n                    \"2003.0\",\\n                    104.400001525878\\n                ],\\n                [\\n                    \"2004.0\",\\n                    108.0\\n                ],\\n                [\\n                    \"2005.0\",\\n                    113.400001525878\\n                ],\\n                [\\n                    \"2006.0\",\\n                    123.0\\n                ],\\n                [\\n                    \"2007.0\",\\n                    122.699996948242\\n                ],\\n                [\\n                    \"2008.0\",\\n                    120.199996948242\\n                ],\\n                [\\n                    \"2009.0\",\\n                    114.300003051757\\n                ],\\n                [\\n                    \"2010.0\",\\n                    142.199996948242\\n                ],\\n                [\\n                    \"2011.0\",\\n                    124.699996948242\\n                ],\\n                [\\n                    \"2012.0\",\\n                    126.800003051757\\n                ],\\n                [\\n                    \"2013.0\",\\n                    140.899993896484\\n                ],\\n                [\\n                    \"2014.0\",\\n                    135.399993896484\\n                ],\\n                [\\n                    \"2015.0\",\\n                    119.400001525878\\n                ],\\n                [\\n                    \"2016.0\",\\n                    152.699996948242\\n                ],\\n                [\\n                    \"2017.0\",\\n                    103.699996948242\\n                ],\\n                [\\n                    \"2018.0\",\\n                    115.599998474121\\n                ],\\n                [\\n                    \"2019.0\",\\n                    106.0\\n                ],\\n                [\\n                    \"2020.0\",\\n                    110.199996948242\\n                ],\\n                [\\n                    \"2021.0\",\\n                    102.800003051757\\n                ]\\n            ],\\n            \"hoverAnimation\": true,\\n            \"label\": {\\n                \"show\": false,\\n                \"margin\": 8\\n            },\\n            \"logBase\": 10,\\n            \"seriesLayoutBy\": \"column\",\\n            \"lineStyle\": {\\n                \"show\": true,\\n                \"width\": 1,\\n                \"opacity\": 1,\\n                \"curveness\": 0,\\n                \"type\": \"solid\"\\n            },\\n            \"areaStyle\": {\\n                \"opacity\": 0\\n            },\\n            \"markPoint\": {\\n                \"symbolSize\": 60,\\n                \"label\": {\\n                    \"show\": true,\\n                    \"position\": \"inside\",\\n                    \"color\": \"#fff\",\\n                    \"margin\": 8,\\n                    \"formatter\": function(params){return params.value.toFixed(2);}\\n                },\\n                \"data\": [\\n                    {\\n                        \"name\": \"\\\\u6700\\\\u5927\\\\u503c\",\\n                        \"type\": \"max\"\\n                    },\\n                    {\\n                        \"name\": \"\\\\u6700\\\\u5c0f\\\\u503c\",\\n                        \"type\": \"min\"\\n                    },\\n                    {\\n                        \"name\": \"\\\\u5e73\\\\u5747\\\\u503c\",\\n                        \"type\": \"average\"\\n                    }\\n                ]\\n            },\\n            \"zlevel\": 0,\\n            \"z\": 0\\n        }\\n    ],\\n    \"legend\": [\\n        {\\n            \"data\": [\\n                \"PM2.5\\\\u5e74\\\\u5ea6\\\\u5168\\\\u56fd\\\\u6700\\\\u5927\\\\u503c\"\\n            ],\\n            \"selected\": {},\\n            \"show\": true,\\n            \"padding\": 5,\\n            \"itemGap\": 10,\\n            \"itemWidth\": 25,\\n            \"itemHeight\": 14,\\n            \"backgroundColor\": \"transparent\",\\n            \"borderColor\": \"#ccc\",\\n            \"borderRadius\": 0,\\n            \"pageButtonItemGap\": 5,\\n            \"pageButtonPosition\": \"end\",\\n            \"pageFormatter\": \"{current}/{total}\",\\n            \"pageIconColor\": \"#2f4554\",\\n            \"pageIconInactiveColor\": \"#aaa\",\\n            \"pageIconSize\": 15,\\n            \"animationDurationUpdate\": 800,\\n            \"selector\": false,\\n            \"selectorPosition\": \"auto\",\\n            \"selectorItemGap\": 7,\\n            \"selectorButtonGap\": 10\\n        }\\n    ],\\n    \"tooltip\": {\\n        \"show\": true,\\n        \"trigger\": \"item\",\\n        \"triggerOn\": \"mousemove|click\",\\n        \"axisPointer\": {\\n            \"type\": \"line\"\\n        },\\n        \"showContent\": true,\\n        \"alwaysShowContent\": false,\\n        \"showDelay\": 0,\\n        \"hideDelay\": 100,\\n        \"enterable\": false,\\n        \"confine\": false,\\n        \"appendToBody\": false,\\n        \"transitionDuration\": 0.4,\\n        \"textStyle\": {\\n            \"fontSize\": 14\\n        },\\n        \"borderWidth\": 0,\\n        \"padding\": 5,\\n        \"order\": \"seriesAsc\"\\n    },\\n    \"xAxis\": [\\n        {\\n            \"type\": \"category\",\\n            \"show\": true,\\n            \"scale\": false,\\n            \"nameLocation\": \"end\",\\n            \"nameGap\": 15,\\n            \"gridIndex\": 0,\\n            \"inverse\": false,\\n            \"offset\": 0,\\n            \"splitNumber\": 5,\\n            \"minInterval\": 0,\\n            \"splitLine\": {\\n                \"show\": true,\\n                \"lineStyle\": {\\n                    \"show\": true,\\n                    \"width\": 1,\\n                    \"opacity\": 1,\\n                    \"curveness\": 0,\\n                    \"type\": \"solid\"\\n                }\\n            },\\n            \"data\": [\\n                \"1998.0\",\\n                \"1999.0\",\\n                \"2000.0\",\\n                \"2001.0\",\\n                \"2002.0\",\\n                \"2003.0\",\\n                \"2004.0\",\\n                \"2005.0\",\\n                \"2006.0\",\\n                \"2007.0\",\\n                \"2008.0\",\\n                \"2009.0\",\\n                \"2010.0\",\\n                \"2011.0\",\\n                \"2012.0\",\\n                \"2013.0\",\\n                \"2014.0\",\\n                \"2015.0\",\\n                \"2016.0\",\\n                \"2017.0\",\\n                \"2018.0\",\\n                \"2019.0\",\\n                \"2020.0\",\\n                \"2021.0\"\\n            ]\\n        }\\n    ],\\n    \"yAxis\": [\\n        {\\n            \"type\": \"value\",\\n            \"show\": true,\\n            \"scale\": false,\\n            \"nameLocation\": \"end\",\\n            \"nameGap\": 15,\\n            \"gridIndex\": 0,\\n            \"inverse\": false,\\n            \"offset\": 0,\\n            \"splitNumber\": 5,\\n            \"minInterval\": 0,\\n            \"splitLine\": {\\n                \"show\": true,\\n                \"lineStyle\": {\\n                    \"show\": true,\\n                    \"width\": 1,\\n                    \"opacity\": 1,\\n                    \"curveness\": 0,\\n                    \"type\": \"solid\"\\n                }\\n            }\\n        }\\n    ],\\n    \"title\": [\\n        {\\n            \"show\": true,\\n            \"text\": \"PM2.5\\\\u5e74\\\\u5ea6\\\\u5168\\\\u56fd\\\\u6700\\\\u5927\\\\u503c\",\\n            \"target\": \"blank\",\\n            \"subtarget\": \"blank\",\\n            \"padding\": 5,\\n            \"itemGap\": 10,\\n            \"textAlign\": \"auto\",\\n            \"textVerticalAlign\": \"auto\",\\n            \"triggerEvent\": false\\n        }\\n    ]\\n};\\n        chart_936f6aeac16b4398ba0ea2a00c243d0f.setOption(option_936f6aeac16b4398ba0ea2a00c243d0f);\\n    </script>\\n<br/>                <div id=\"cbde54dc8f9f42a084f70f23f0a887ac\" class=\"chart-container\" style=\"position: absolute; width: 764.4px; height: 442.4px; top: 373.8000183105469px; left: 738px;\"></div>\\n    <script>\\n        var chart_cbde54dc8f9f42a084f70f23f0a887ac = echarts.init(\\n            document.getElementById(\\'cbde54dc8f9f42a084f70f23f0a887ac\\'), \\'dark\\', {renderer: \\'canvas\\'});\\n        var option_cbde54dc8f9f42a084f70f23f0a887ac = {\\n    \"animation\": true,\\n    \"animationThreshold\": 2000,\\n    \"animationDuration\": 1000,\\n    \"animationEasing\": \"cubicOut\",\\n    \"animationDelay\": 0,\\n    \"animationDurationUpdate\": 300,\\n    \"animationEasingUpdate\": \"cubicOut\",\\n    \"animationDelayUpdate\": 0,\\n    \"aria\": {\\n        \"enabled\": false\\n    },\\n    \"series\": [\\n        {\\n            \"type\": \"line\",\\n            \"name\": \"PM2.5\\\\u5e74\\\\u5ea6\\\\u5168\\\\u56fd\\\\u6700\\\\u5c0f\\\\u503c\",\\n            \"connectNulls\": false,\\n            \"xAxisIndex\": 0,\\n            \"symbolSize\": 4,\\n            \"showSymbol\": true,\\n            \"smooth\": true,\\n            \"clip\": true,\\n            \"step\": false,\\n            \"data\": [\\n                [\\n                    \"1998.0\",\\n                    1.29999995231628\\n                ],\\n                [\\n                    \"1999.0\",\\n                    1.39999997615814\\n                ],\\n                [\\n                    \"2000.0\",\\n                    1.60000002384185\\n                ],\\n                [\\n                    \"2001.0\",\\n                    1.29999995231628\\n                ],\\n                [\\n                    \"2002.0\",\\n                    1.20000004768371\\n                ],\\n                [\\n                    \"2003.0\",\\n                    1.0\\n                ],\\n                [\\n                    \"2004.0\",\\n                    1.0\\n                ],\\n                [\\n                    \"2005.0\",\\n                    0.899999976158142\\n                ],\\n                [\\n                    \"2006.0\",\\n                    1.10000002384185\\n                ],\\n                [\\n                    \"2007.0\",\\n                    1.10000002384185\\n                ],\\n                [\\n                    \"2008.0\",\\n                    1.0\\n                ],\\n                [\\n                    \"2009.0\",\\n                    1.10000002384185\\n                ],\\n                [\\n                    \"2010.0\",\\n                    1.0\\n                ],\\n                [\\n                    \"2011.0\",\\n                    1.10000002384185\\n                ],\\n                [\\n                    \"2012.0\",\\n                    1.0\\n                ],\\n                [\\n                    \"2013.0\",\\n                    1.10000002384185\\n                ],\\n                [\\n                    \"2014.0\",\\n                    1.0\\n                ],\\n                [\\n                    \"2015.0\",\\n                    1.0\\n                ],\\n                [\\n                    \"2016.0\",\\n                    0.899999976158142\\n                ],\\n                [\\n                    \"2017.0\",\\n                    0.800000011920929\\n                ],\\n                [\\n                    \"2018.0\",\\n                    0.899999976158142\\n                ],\\n                [\\n                    \"2019.0\",\\n                    1.0\\n                ],\\n                [\\n                    \"2020.0\",\\n                    0.800000011920929\\n                ],\\n                [\\n                    \"2021.0\",\\n                    0.899999976158142\\n                ]\\n            ],\\n            \"hoverAnimation\": true,\\n            \"label\": {\\n                \"show\": false,\\n                \"margin\": 8\\n            },\\n            \"logBase\": 10,\\n            \"seriesLayoutBy\": \"column\",\\n            \"lineStyle\": {\\n                \"show\": true,\\n                \"width\": 1,\\n                \"opacity\": 1,\\n                \"curveness\": 0,\\n                \"type\": \"solid\"\\n            },\\n            \"areaStyle\": {\\n                \"opacity\": 0\\n            },\\n            \"markPoint\": {\\n                \"symbolSize\": 60,\\n                \"label\": {\\n                    \"show\": true,\\n                    \"position\": \"inside\",\\n                    \"color\": \"#fff\",\\n                    \"margin\": 8,\\n                    \"formatter\": function(params){return params.value.toFixed(2);}\\n                },\\n                \"data\": [\\n                    {\\n                        \"name\": \"\\\\u6700\\\\u5927\\\\u503c\",\\n                        \"type\": \"max\"\\n                    },\\n                    {\\n                        \"name\": \"\\\\u6700\\\\u5c0f\\\\u503c\",\\n                        \"type\": \"min\"\\n                    },\\n                    {\\n                        \"name\": \"\\\\u5e73\\\\u5747\\\\u503c\",\\n                        \"type\": \"average\"\\n                    }\\n                ]\\n            },\\n            \"zlevel\": 0,\\n            \"z\": 0\\n        }\\n    ],\\n    \"legend\": [\\n        {\\n            \"data\": [\\n                \"PM2.5\\\\u5e74\\\\u5ea6\\\\u5168\\\\u56fd\\\\u6700\\\\u5c0f\\\\u503c\"\\n            ],\\n            \"selected\": {},\\n            \"show\": true,\\n            \"padding\": 5,\\n            \"itemGap\": 10,\\n            \"itemWidth\": 25,\\n            \"itemHeight\": 14,\\n            \"backgroundColor\": \"transparent\",\\n            \"borderColor\": \"#ccc\",\\n            \"borderRadius\": 0,\\n            \"pageButtonItemGap\": 5,\\n            \"pageButtonPosition\": \"end\",\\n            \"pageFormatter\": \"{current}/{total}\",\\n            \"pageIconColor\": \"#2f4554\",\\n            \"pageIconInactiveColor\": \"#aaa\",\\n            \"pageIconSize\": 15,\\n            \"animationDurationUpdate\": 800,\\n            \"selector\": false,\\n            \"selectorPosition\": \"auto\",\\n            \"selectorItemGap\": 7,\\n            \"selectorButtonGap\": 10\\n        }\\n    ],\\n    \"tooltip\": {\\n        \"show\": true,\\n        \"trigger\": \"axis\",\\n        \"triggerOn\": \"mousemove|click\",\\n        \"axisPointer\": {\\n            \"type\": \"line\"\\n        },\\n        \"showContent\": true,\\n        \"alwaysShowContent\": false,\\n        \"showDelay\": 0,\\n        \"hideDelay\": 100,\\n        \"enterable\": false,\\n        \"confine\": false,\\n        \"appendToBody\": false,\\n        \"transitionDuration\": 0.4,\\n        \"textStyle\": {\\n            \"fontSize\": 14\\n        },\\n        \"borderWidth\": 0,\\n        \"padding\": 5,\\n        \"order\": \"seriesAsc\"\\n    },\\n    \"xAxis\": [\\n        {\\n            \"type\": \"category\",\\n            \"show\": true,\\n            \"scale\": false,\\n            \"nameLocation\": \"end\",\\n            \"nameGap\": 15,\\n            \"gridIndex\": 0,\\n            \"inverse\": false,\\n            \"offset\": 0,\\n            \"splitNumber\": 5,\\n            \"minInterval\": 0,\\n            \"splitLine\": {\\n                \"show\": true,\\n                \"lineStyle\": {\\n                    \"show\": true,\\n                    \"width\": 1,\\n                    \"opacity\": 1,\\n                    \"curveness\": 0,\\n                    \"type\": \"solid\"\\n                }\\n            },\\n            \"data\": [\\n                \"1998.0\",\\n                \"1999.0\",\\n                \"2000.0\",\\n                \"2001.0\",\\n                \"2002.0\",\\n                \"2003.0\",\\n                \"2004.0\",\\n                \"2005.0\",\\n                \"2006.0\",\\n                \"2007.0\",\\n                \"2008.0\",\\n                \"2009.0\",\\n                \"2010.0\",\\n                \"2011.0\",\\n                \"2012.0\",\\n                \"2013.0\",\\n                \"2014.0\",\\n                \"2015.0\",\\n                \"2016.0\",\\n                \"2017.0\",\\n                \"2018.0\",\\n                \"2019.0\",\\n                \"2020.0\",\\n                \"2021.0\"\\n            ]\\n        }\\n    ],\\n    \"yAxis\": [\\n        {\\n            \"type\": \"value\",\\n            \"show\": true,\\n            \"scale\": false,\\n            \"nameLocation\": \"end\",\\n            \"nameGap\": 15,\\n            \"gridIndex\": 0,\\n            \"inverse\": false,\\n            \"offset\": 0,\\n            \"splitNumber\": 5,\\n            \"minInterval\": 0,\\n            \"splitLine\": {\\n                \"show\": true,\\n                \"lineStyle\": {\\n                    \"show\": true,\\n                    \"width\": 1,\\n                    \"opacity\": 1,\\n                    \"curveness\": 0,\\n                    \"type\": \"solid\"\\n                }\\n            }\\n        }\\n    ],\\n    \"title\": [\\n        {\\n            \"show\": true,\\n            \"text\": \"PM2.5\\\\u5e74\\\\u5ea6\\\\u5168\\\\u56fd\\\\u6700\\\\u5c0f\\\\u503c\",\\n            \"target\": \"blank\",\\n            \"subtarget\": \"blank\",\\n            \"padding\": 5,\\n            \"itemGap\": 10,\\n            \"textAlign\": \"auto\",\\n            \"textVerticalAlign\": \"auto\",\\n            \"triggerEvent\": false\\n        }\\n    ]\\n};\\n        chart_cbde54dc8f9f42a084f70f23f0a887ac.setOption(option_cbde54dc8f9f42a084f70f23f0a887ac);\\n    </script>\\n<br/>                <div id=\"8f21705cbe6c4316ad06ada16d8ba339\" class=\"chart-container\" style=\"position: absolute; width: 1474.4px; height: 500.4px; top: 832.6000366210938px; left: 18px;\"></div>\\n    <script>\\n        var chart_8f21705cbe6c4316ad06ada16d8ba339 = echarts.init(\\n            document.getElementById(\\'8f21705cbe6c4316ad06ada16d8ba339\\'), \\'white\\', {renderer: \\'canvas\\'});\\n        var option_8f21705cbe6c4316ad06ada16d8ba339 = {\\n    \"animation\": true,\\n    \"animationThreshold\": 2000,\\n    \"animationDuration\": 1000,\\n    \"animationEasing\": \"cubicOut\",\\n    \"animationDelay\": 0,\\n    \"animationDurationUpdate\": 300,\\n    \"animationEasingUpdate\": \"cubicOut\",\\n    \"animationDelayUpdate\": 0,\\n    \"aria\": {\\n        \"enabled\": false\\n    },\\n    \"color\": [\\n        \"#5470c6\",\\n        \"#91cc75\",\\n        \"#fac858\",\\n        \"#ee6666\",\\n        \"#73c0de\",\\n        \"#3ba272\",\\n        \"#fc8452\",\\n        \"#9a60b4\",\\n        \"#ea7ccc\"\\n    ],\\n    \"series\": [\\n        {\\n            \"type\": \"bar\",\\n            \"name\": \"PM2.5\\\\u5e74\\\\u5ea6\\\\u5168\\\\u56fd\\\\u6807\\\\u51c6\\\\u5dee\",\\n            \"legendHoverLink\": true,\\n            \"data\": [\\n                12.945437911064188,\\n                12.65317555164206,\\n                14.898903584306552,\\n                14.63872550533243,\\n                16.052552985387173,\\n                17.761608249889058,\\n                17.902377313386136,\\n                19.407689185847545,\\n                21.54356030901552,\\n                21.308692376436404,\\n                19.262924739788883,\\n                19.828084401454262,\\n                20.110918196699675,\\n                20.93392076224673,\\n                20.04417519865644,\\n                23.01913461813833,\\n                20.556986876625448,\\n                19.394081481573,\\n                18.14158297258825,\\n                15.822703420972982,\\n                14.320878166971283,\\n                14.39402617332772,\\n                12.894781698559411,\\n                11.124850310888792\\n            ],\\n            \"realtimeSort\": false,\\n            \"showBackground\": false,\\n            \"stackStrategy\": \"samesign\",\\n            \"cursor\": \"pointer\",\\n            \"barMinHeight\": 0,\\n            \"barCategoryGap\": \"20%\",\\n            \"barGap\": \"30%\",\\n            \"large\": false,\\n            \"largeThreshold\": 400,\\n            \"seriesLayoutBy\": \"column\",\\n            \"datasetIndex\": 0,\\n            \"clip\": true,\\n            \"zlevel\": 0,\\n            \"z\": 2,\\n            \"label\": {\\n                \"show\": true,\\n                \"margin\": 8,\\n                \"formatter\": function(x){return Number(x.value).toFixed(2); }\\n            }\\n        }\\n    ],\\n    \"legend\": [\\n        {\\n            \"data\": [\\n                \"PM2.5\\\\u5e74\\\\u5ea6\\\\u5168\\\\u56fd\\\\u6807\\\\u51c6\\\\u5dee\"\\n            ],\\n            \"selected\": {},\\n            \"show\": true,\\n            \"padding\": 5,\\n            \"itemGap\": 10,\\n            \"itemWidth\": 25,\\n            \"itemHeight\": 14,\\n            \"backgroundColor\": \"transparent\",\\n            \"borderColor\": \"#ccc\",\\n            \"borderRadius\": 0,\\n            \"pageButtonItemGap\": 5,\\n            \"pageButtonPosition\": \"end\",\\n            \"pageFormatter\": \"{current}/{total}\",\\n            \"pageIconColor\": \"#2f4554\",\\n            \"pageIconInactiveColor\": \"#aaa\",\\n            \"pageIconSize\": 15,\\n            \"animationDurationUpdate\": 800,\\n            \"selector\": false,\\n            \"selectorPosition\": \"auto\",\\n            \"selectorItemGap\": 7,\\n            \"selectorButtonGap\": 10\\n        }\\n    ],\\n    \"tooltip\": {\\n        \"show\": true,\\n        \"trigger\": \"item\",\\n        \"triggerOn\": \"mousemove|click\",\\n        \"axisPointer\": {\\n            \"type\": \"line\"\\n        },\\n        \"showContent\": true,\\n        \"alwaysShowContent\": false,\\n        \"showDelay\": 0,\\n        \"hideDelay\": 100,\\n        \"enterable\": false,\\n        \"confine\": false,\\n        \"appendToBody\": false,\\n        \"transitionDuration\": 0.4,\\n        \"textStyle\": {\\n            \"fontSize\": 14\\n        },\\n        \"borderWidth\": 0,\\n        \"padding\": 5,\\n        \"order\": \"seriesAsc\"\\n    },\\n    \"xAxis\": [\\n        {\\n            \"type\": \"category\",\\n            \"show\": true,\\n            \"scale\": false,\\n            \"nameLocation\": \"end\",\\n            \"nameGap\": 15,\\n            \"gridIndex\": 0,\\n            \"inverse\": false,\\n            \"offset\": 0,\\n            \"splitNumber\": 5,\\n            \"minInterval\": 0,\\n            \"splitLine\": {\\n                \"show\": true,\\n                \"lineStyle\": {\\n                    \"show\": true,\\n                    \"width\": 1,\\n                    \"opacity\": 1,\\n                    \"curveness\": 0,\\n                    \"type\": \"solid\"\\n                }\\n            },\\n            \"data\": [\\n                \"1998.0\",\\n                \"1999.0\",\\n                \"2000.0\",\\n                \"2001.0\",\\n                \"2002.0\",\\n                \"2003.0\",\\n                \"2004.0\",\\n                \"2005.0\",\\n                \"2006.0\",\\n                \"2007.0\",\\n                \"2008.0\",\\n                \"2009.0\",\\n                \"2010.0\",\\n                \"2011.0\",\\n                \"2012.0\",\\n                \"2013.0\",\\n                \"2014.0\",\\n                \"2015.0\",\\n                \"2016.0\",\\n                \"2017.0\",\\n                \"2018.0\",\\n                \"2019.0\",\\n                \"2020.0\",\\n                \"2021.0\"\\n            ]\\n        }\\n    ],\\n    \"yAxis\": [\\n        {\\n            \"type\": \"value\",\\n            \"show\": true,\\n            \"scale\": false,\\n            \"nameLocation\": \"end\",\\n            \"nameGap\": 15,\\n            \"gridIndex\": 0,\\n            \"inverse\": false,\\n            \"offset\": 0,\\n            \"splitNumber\": 5,\\n            \"minInterval\": 0,\\n            \"splitLine\": {\\n                \"show\": true,\\n                \"lineStyle\": {\\n                    \"show\": true,\\n                    \"width\": 1,\\n                    \"opacity\": 1,\\n                    \"curveness\": 0,\\n                    \"type\": \"solid\"\\n                }\\n            }\\n        }\\n    ],\\n    \"title\": [\\n        {\\n            \"show\": true,\\n            \"text\": \"PM2.5\\\\u5e74\\\\u5ea6\\\\u5168\\\\u56fd\\\\u6807\\\\u51c6\\\\u5dee\",\\n            \"target\": \"blank\",\\n            \"subtarget\": \"blank\",\\n            \"padding\": 5,\\n            \"itemGap\": 10,\\n            \"textAlign\": \"auto\",\\n            \"textVerticalAlign\": \"auto\",\\n            \"triggerEvent\": false\\n        }\\n    ]\\n};\\n        chart_8f21705cbe6c4316ad06ada16d8ba339.setOption(option_8f21705cbe6c4316ad06ada16d8ba339);\\n    </script>\\n<br/>    </div>\\n    <script>\\n            $(\\'#797a18aee7434d70a1ee9413e86fb642\\').css(\\'border-style\\', \\'dashed\\').css(\\'border-width\\', \\'0px\\');$(\"#797a18aee7434d70a1ee9413e86fb642>div:nth-child(1)\").width(\"100%\").height(\"100%\");\\n            new ResizeSensor(jQuery(\\'#797a18aee7434d70a1ee9413e86fb642\\'), function() { chart_797a18aee7434d70a1ee9413e86fb642.resize()});\\n            $(\\'#2344913c982a4f5bbde8996ce83097bf\\').css(\\'border-style\\', \\'dashed\\').css(\\'border-width\\', \\'0px\\');$(\"#2344913c982a4f5bbde8996ce83097bf>div:nth-child(1)\").width(\"100%\").height(\"100%\");\\n            new ResizeSensor(jQuery(\\'#2344913c982a4f5bbde8996ce83097bf\\'), function() { chart_2344913c982a4f5bbde8996ce83097bf.resize()});\\n            $(\\'#936f6aeac16b4398ba0ea2a00c243d0f\\').css(\\'border-style\\', \\'dashed\\').css(\\'border-width\\', \\'0px\\');$(\"#936f6aeac16b4398ba0ea2a00c243d0f>div:nth-child(1)\").width(\"100%\").height(\"100%\");\\n            new ResizeSensor(jQuery(\\'#936f6aeac16b4398ba0ea2a00c243d0f\\'), function() { chart_936f6aeac16b4398ba0ea2a00c243d0f.resize()});\\n            $(\\'#cbde54dc8f9f42a084f70f23f0a887ac\\').css(\\'border-style\\', \\'dashed\\').css(\\'border-width\\', \\'0px\\');$(\"#cbde54dc8f9f42a084f70f23f0a887ac>div:nth-child(1)\").width(\"100%\").height(\"100%\");\\n            new ResizeSensor(jQuery(\\'#cbde54dc8f9f42a084f70f23f0a887ac\\'), function() { chart_cbde54dc8f9f42a084f70f23f0a887ac.resize()});\\n            $(\\'#8f21705cbe6c4316ad06ada16d8ba339\\').css(\\'border-style\\', \\'dashed\\').css(\\'border-width\\', \\'0px\\');$(\"#8f21705cbe6c4316ad06ada16d8ba339>div:nth-child(1)\").width(\"100%\").height(\"100%\");\\n            new ResizeSensor(jQuery(\\'#8f21705cbe6c4316ad06ada16d8ba339\\'), function() { chart_8f21705cbe6c4316ad06ada16d8ba339.resize()});\\n            var charts_id = [\\'797a18aee7434d70a1ee9413e86fb642\\',\\'2344913c982a4f5bbde8996ce83097bf\\',\\'936f6aeac16b4398ba0ea2a00c243d0f\\',\\'cbde54dc8f9f42a084f70f23f0a887ac\\',\\'8f21705cbe6c4316ad06ada16d8ba339\\'];\\nfunction downloadCfg () {\\n    const fileName = \\'chart_config.json\\'\\n    let downLink = document.createElement(\\'a\\')\\n    downLink.download = fileName\\n\\n    let result = []\\n    for(let i=0; i<charts_id.length; i++) {\\n        chart = $(\\'#\\'+charts_id[i])\\n        result.push({\\n            cid: charts_id[i],\\n            width: chart.css(\"width\"),\\n            height: chart.css(\"height\"),\\n            top: chart.offset().top + \"px\",\\n            left: chart.offset().left + \"px\"\\n        })\\n    }\\n\\n    let blob = new Blob([JSON.stringify(result)])\\n    downLink.href = URL.createObjectURL(blob)\\n    document.body.appendChild(downLink)\\n    downLink.click()\\n    document.body.removeChild(downLink)\\n}\\n    </script>\\n</body>\\n</html>\\n'"
      ]
     },
     "execution_count": 29,
     "metadata": {},
     "output_type": "execute_result"
    }
   ],
   "source": [
    "# 使用刚才生成的布局配置文件chart_config.json，来重新生成一个新的Page页面(html文档)\n",
    "Page.save_resize_html(\"../../文件/page/film/大屏可视化/①可视化大屏.html\", cfg_file=\"../../文件/page/film/大屏可视化/chart_config1.json\", dest=\"../../文件/page/film/大屏可视化/①可视化大屏①.html\")"
   ]
  },
  {
   "cell_type": "code",
   "execution_count": 30,
   "id": "f05af909",
   "metadata": {},
   "outputs": [
    {
     "data": {
      "text/plain": [
       "'E:\\\\个人文件\\\\Python\\\\进阶项目\\\\①数据分析项目大全\\\\2024年上半年项目合集\\\\基于Hadoop的PM2.5分布可视化系统设计\\\\文件\\\\page\\\\film\\\\大屏可视化\\\\②可视化大屏.html'"
      ]
     },
     "execution_count": 30,
     "metadata": {},
     "output_type": "execute_result"
    }
   ],
   "source": [
    "from pyecharts.charts import Bar,Pie,Page\n",
    "page = Page(page_title='②可视化大屏',layout=Page.DraggablePageLayout)  # 生成可拖拽的页面布局\n",
    "page.add(\n",
    "    a6(),\n",
    "    a7(),\n",
    "    a8(),\n",
    "    a9(),\n",
    "    a10(),\n",
    ")   \n",
    "page.render(\"../../文件/page/film/大屏可视化/②可视化大屏.html\")  # 生成一个HTML页面"
   ]
  },
  {
   "cell_type": "code",
   "execution_count": 31,
   "id": "435c57bc",
   "metadata": {},
   "outputs": [
    {
     "data": {
      "text/plain": [
       "'<!DOCTYPE html>\\n<html>\\n<head>\\n    <meta charset=\"UTF-8\">\\n    <title>②可视化大屏</title>\\n                <script type=\"text/javascript\" src=\"https://assets.pyecharts.org/assets/v5/echarts.min.js\"></script>\\n            <script type=\"text/javascript\" src=\"https://assets.pyecharts.org/assets/v5/themes/roma.js\"></script>\\n            <script type=\"text/javascript\" src=\"https://assets.pyecharts.org/assets/v5/themes/wonderland.js\"></script>\\n            <script type=\"text/javascript\" src=\"https://assets.pyecharts.org/assets/v5/themes/vintage.js\"></script>\\n            <script type=\"text/javascript\" src=\"https://assets.pyecharts.org/assets/v5/themes/macarons.js\"></script>\\n            <script type=\"text/javascript\" src=\"https://assets.pyecharts.org/assets/v5/themes/chalk.js\"></script>\\n            <script type=\"text/javascript\" src=\"https://assets.pyecharts.org/assets/v5/jquery.min.js\"></script>\\n            <script type=\"text/javascript\" src=\"https://assets.pyecharts.org/assets/v5/jquery-ui.min.js\"></script>\\n            <script type=\"text/javascript\" src=\"https://assets.pyecharts.org/assets/v5/ResizeSensor.js\"></script>\\n\\n            <link rel=\"stylesheet\"  href=\"https://assets.pyecharts.org/assets/v5/jquery-ui.css\">\\n\\n</head>\\n<body >\\n    <style>.box {  } </style>\\n        \\n    <div class=\"box\">\\n                <div id=\"7b3d28ad05264930af8f876e7652a3b1\" class=\"chart-container\" style=\"position: absolute; width: 1455.4px; height: 322.4px; top: 31.399999618530273px; left: 8px;\"></div>\\n    <script>\\n        var chart_7b3d28ad05264930af8f876e7652a3b1 = echarts.init(\\n            document.getElementById(\\'7b3d28ad05264930af8f876e7652a3b1\\'), \\'roma\\', {renderer: \\'canvas\\'});\\n        var option_7b3d28ad05264930af8f876e7652a3b1 = {\\n    \"animation\": true,\\n    \"animationThreshold\": 2000,\\n    \"animationDuration\": 1000,\\n    \"animationEasing\": \"cubicOut\",\\n    \"animationDelay\": 0,\\n    \"animationDurationUpdate\": 300,\\n    \"animationEasingUpdate\": \"cubicOut\",\\n    \"animationDelayUpdate\": 0,\\n    \"aria\": {\\n        \"enabled\": false\\n    },\\n    \"series\": [\\n        {\\n            \"type\": \"line\",\\n            \"name\": \"\\\\u5409\\\\u6797\\\\u7701\\\\u5e74\\\\u5ea6\\\\u5e73\\\\u5747\\\\u503c\",\\n            \"connectNulls\": false,\\n            \"xAxisIndex\": 0,\\n            \"symbolSize\": 4,\\n            \"showSymbol\": true,\\n            \"smooth\": false,\\n            \"clip\": true,\\n            \"step\": false,\\n            \"data\": [\\n                [\\n                    \"1998.0\",\\n                    32.81\\n                ],\\n                [\\n                    \"1999.0\",\\n                    27.8\\n                ],\\n                [\\n                    \"2000.0\",\\n                    33.56\\n                ],\\n                [\\n                    \"2001.0\",\\n                    34.24\\n                ],\\n                [\\n                    \"2002.0\",\\n                    36.72\\n                ],\\n                [\\n                    \"2003.0\",\\n                    43.05\\n                ],\\n                [\\n                    \"2004.0\",\\n                    33.53\\n                ],\\n                [\\n                    \"2005.0\",\\n                    35.45\\n                ],\\n                [\\n                    \"2006.0\",\\n                    40.26\\n                ],\\n                [\\n                    \"2007.0\",\\n                    40.72\\n                ],\\n                [\\n                    \"2008.0\",\\n                    43.34\\n                ],\\n                [\\n                    \"2009.0\",\\n                    37.63\\n                ],\\n                [\\n                    \"2010.0\",\\n                    35.92\\n                ],\\n                [\\n                    \"2011.0\",\\n                    42.95\\n                ],\\n                [\\n                    \"2012.0\",\\n                    40.77\\n                ],\\n                [\\n                    \"2013.0\",\\n                    43.28\\n                ],\\n                [\\n                    \"2014.0\",\\n                    46.12\\n                ],\\n                [\\n                    \"2015.0\",\\n                    47.84\\n                ],\\n                [\\n                    \"2016.0\",\\n                    36.26\\n                ],\\n                [\\n                    \"2017.0\",\\n                    37.36\\n                ],\\n                [\\n                    \"2018.0\",\\n                    28.97\\n                ],\\n                [\\n                    \"2019.0\",\\n                    30.73\\n                ],\\n                [\\n                    \"2020.0\",\\n                    30.85\\n                ],\\n                [\\n                    \"2021.0\",\\n                    27.05\\n                ]\\n            ],\\n            \"hoverAnimation\": true,\\n            \"label\": {\\n                \"show\": true,\\n                \"margin\": 8\\n            },\\n            \"logBase\": 10,\\n            \"seriesLayoutBy\": \"column\",\\n            \"lineStyle\": {\\n                \"show\": true,\\n                \"width\": 1,\\n                \"opacity\": 1,\\n                \"curveness\": 0,\\n                \"type\": \"solid\"\\n            },\\n            \"areaStyle\": {\\n                \"opacity\": 0\\n            },\\n            \"zlevel\": 0,\\n            \"z\": 0\\n        }\\n    ],\\n    \"legend\": [\\n        {\\n            \"data\": [\\n                \"\\\\u5409\\\\u6797\\\\u7701\\\\u5e74\\\\u5ea6\\\\u5e73\\\\u5747\\\\u503c\"\\n            ],\\n            \"selected\": {},\\n            \"show\": true,\\n            \"padding\": 5,\\n            \"itemGap\": 10,\\n            \"itemWidth\": 25,\\n            \"itemHeight\": 14,\\n            \"backgroundColor\": \"transparent\",\\n            \"borderColor\": \"#ccc\",\\n            \"borderRadius\": 0,\\n            \"pageButtonItemGap\": 5,\\n            \"pageButtonPosition\": \"end\",\\n            \"pageFormatter\": \"{current}/{total}\",\\n            \"pageIconColor\": \"#2f4554\",\\n            \"pageIconInactiveColor\": \"#aaa\",\\n            \"pageIconSize\": 15,\\n            \"animationDurationUpdate\": 800,\\n            \"selector\": false,\\n            \"selectorPosition\": \"auto\",\\n            \"selectorItemGap\": 7,\\n            \"selectorButtonGap\": 10\\n        }\\n    ],\\n    \"tooltip\": {\\n        \"show\": true,\\n        \"trigger\": \"axis\",\\n        \"triggerOn\": \"mousemove|click\",\\n        \"axisPointer\": {\\n            \"type\": \"line\"\\n        },\\n        \"showContent\": true,\\n        \"alwaysShowContent\": false,\\n        \"showDelay\": 0,\\n        \"hideDelay\": 100,\\n        \"enterable\": false,\\n        \"confine\": false,\\n        \"appendToBody\": false,\\n        \"transitionDuration\": 0.4,\\n        \"textStyle\": {\\n            \"fontSize\": 14\\n        },\\n        \"borderWidth\": 0,\\n        \"padding\": 5,\\n        \"order\": \"seriesAsc\"\\n    },\\n    \"xAxis\": [\\n        {\\n            \"type\": \"category\",\\n            \"show\": true,\\n            \"scale\": false,\\n            \"nameLocation\": \"end\",\\n            \"nameGap\": 15,\\n            \"gridIndex\": 0,\\n            \"inverse\": false,\\n            \"offset\": 0,\\n            \"splitNumber\": 5,\\n            \"minInterval\": 0,\\n            \"splitLine\": {\\n                \"show\": true,\\n                \"lineStyle\": {\\n                    \"show\": true,\\n                    \"width\": 1,\\n                    \"opacity\": 1,\\n                    \"curveness\": 0,\\n                    \"type\": \"solid\"\\n                }\\n            },\\n            \"data\": [\\n                \"1998.0\",\\n                \"1999.0\",\\n                \"2000.0\",\\n                \"2001.0\",\\n                \"2002.0\",\\n                \"2003.0\",\\n                \"2004.0\",\\n                \"2005.0\",\\n                \"2006.0\",\\n                \"2007.0\",\\n                \"2008.0\",\\n                \"2009.0\",\\n                \"2010.0\",\\n                \"2011.0\",\\n                \"2012.0\",\\n                \"2013.0\",\\n                \"2014.0\",\\n                \"2015.0\",\\n                \"2016.0\",\\n                \"2017.0\",\\n                \"2018.0\",\\n                \"2019.0\",\\n                \"2020.0\",\\n                \"2021.0\"\\n            ]\\n        }\\n    ],\\n    \"yAxis\": [\\n        {\\n            \"type\": \"value\",\\n            \"show\": true,\\n            \"scale\": false,\\n            \"nameLocation\": \"end\",\\n            \"nameGap\": 15,\\n            \"gridIndex\": 0,\\n            \"inverse\": false,\\n            \"offset\": 0,\\n            \"splitNumber\": 5,\\n            \"minInterval\": 0,\\n            \"splitLine\": {\\n                \"show\": true,\\n                \"lineStyle\": {\\n                    \"show\": true,\\n                    \"width\": 1,\\n                    \"opacity\": 1,\\n                    \"curveness\": 0,\\n                    \"type\": \"solid\"\\n                }\\n            }\\n        }\\n    ],\\n    \"title\": [\\n        {\\n            \"show\": true,\\n            \"text\": \"\\\\u5409\\\\u6797\\\\u7701\\\\u5e74\\\\u5ea6\\\\u5e73\\\\u5747\\\\u503c\",\\n            \"target\": \"blank\",\\n            \"subtarget\": \"blank\",\\n            \"padding\": 5,\\n            \"itemGap\": 10,\\n            \"textAlign\": \"auto\",\\n            \"textVerticalAlign\": \"auto\",\\n            \"triggerEvent\": false\\n        }\\n    ]\\n};\\n        chart_7b3d28ad05264930af8f876e7652a3b1.setOption(option_7b3d28ad05264930af8f876e7652a3b1);\\n    </script>\\n<br/>                <div id=\"07dd8a1dce81448182ecc60692f659c1\" class=\"chart-container\" style=\"position: absolute; width: 1458.4px; height: 340.4px; top: 376.20001220703125px; left: 8px;\"></div>\\n    <script>\\n        var chart_07dd8a1dce81448182ecc60692f659c1 = echarts.init(\\n            document.getElementById(\\'07dd8a1dce81448182ecc60692f659c1\\'), \\'wonderland\\', {renderer: \\'canvas\\'});\\n        var option_07dd8a1dce81448182ecc60692f659c1 = {\\n    \"animation\": true,\\n    \"animationThreshold\": 2000,\\n    \"animationDuration\": 1000,\\n    \"animationEasing\": \"cubicOut\",\\n    \"animationDelay\": 0,\\n    \"animationDurationUpdate\": 300,\\n    \"animationEasingUpdate\": \"cubicOut\",\\n    \"animationDelayUpdate\": 0,\\n    \"aria\": {\\n        \"enabled\": false\\n    },\\n    \"series\": [\\n        {\\n            \"type\": \"line\",\\n            \"name\": \"\\\\u5409\\\\u6797\\\\u7701\\\\u5e74\\\\u5ea6\\\\u6700\\\\u5927\\\\u503c\",\\n            \"connectNulls\": false,\\n            \"xAxisIndex\": 0,\\n            \"symbolSize\": 4,\\n            \"showSymbol\": true,\\n            \"smooth\": false,\\n            \"clip\": true,\\n            \"step\": false,\\n            \"data\": [\\n                [\\n                    \"1998.0\",\\n                    45.2\\n                ],\\n                [\\n                    \"1999.0\",\\n                    35.3\\n                ],\\n                [\\n                    \"2000.0\",\\n                    43.0\\n                ],\\n                [\\n                    \"2001.0\",\\n                    46.4\\n                ],\\n                [\\n                    \"2002.0\",\\n                    46.9\\n                ],\\n                [\\n                    \"2003.0\",\\n                    53.6\\n                ],\\n                [\\n                    \"2004.0\",\\n                    43.6\\n                ],\\n                [\\n                    \"2005.0\",\\n                    46.1\\n                ],\\n                [\\n                    \"2006.0\",\\n                    52.1\\n                ],\\n                [\\n                    \"2007.0\",\\n                    56.1\\n                ],\\n                [\\n                    \"2008.0\",\\n                    59.0\\n                ],\\n                [\\n                    \"2009.0\",\\n                    48.4\\n                ],\\n                [\\n                    \"2010.0\",\\n                    51.1\\n                ],\\n                [\\n                    \"2011.0\",\\n                    66.1\\n                ],\\n                [\\n                    \"2012.0\",\\n                    63.6\\n                ],\\n                [\\n                    \"2013.0\",\\n                    66.5\\n                ],\\n                [\\n                    \"2014.0\",\\n                    67.6\\n                ],\\n                [\\n                    \"2015.0\",\\n                    71.9\\n                ],\\n                [\\n                    \"2016.0\",\\n                    49.8\\n                ],\\n                [\\n                    \"2017.0\",\\n                    57.5\\n                ],\\n                [\\n                    \"2018.0\",\\n                    41.4\\n                ],\\n                [\\n                    \"2019.0\",\\n                    43.7\\n                ],\\n                [\\n                    \"2020.0\",\\n                    48.2\\n                ],\\n                [\\n                    \"2021.0\",\\n                    41.6\\n                ]\\n            ],\\n            \"hoverAnimation\": true,\\n            \"label\": {\\n                \"show\": true,\\n                \"margin\": 8\\n            },\\n            \"logBase\": 10,\\n            \"seriesLayoutBy\": \"column\",\\n            \"lineStyle\": {\\n                \"show\": true,\\n                \"width\": 1,\\n                \"opacity\": 1,\\n                \"curveness\": 0,\\n                \"type\": \"solid\"\\n            },\\n            \"areaStyle\": {\\n                \"opacity\": 0\\n            },\\n            \"zlevel\": 0,\\n            \"z\": 0\\n        }\\n    ],\\n    \"legend\": [\\n        {\\n            \"data\": [\\n                \"\\\\u5409\\\\u6797\\\\u7701\\\\u5e74\\\\u5ea6\\\\u6700\\\\u5927\\\\u503c\"\\n            ],\\n            \"selected\": {},\\n            \"show\": true,\\n            \"padding\": 5,\\n            \"itemGap\": 10,\\n            \"itemWidth\": 25,\\n            \"itemHeight\": 14,\\n            \"backgroundColor\": \"transparent\",\\n            \"borderColor\": \"#ccc\",\\n            \"borderRadius\": 0,\\n            \"pageButtonItemGap\": 5,\\n            \"pageButtonPosition\": \"end\",\\n            \"pageFormatter\": \"{current}/{total}\",\\n            \"pageIconColor\": \"#2f4554\",\\n            \"pageIconInactiveColor\": \"#aaa\",\\n            \"pageIconSize\": 15,\\n            \"animationDurationUpdate\": 800,\\n            \"selector\": false,\\n            \"selectorPosition\": \"auto\",\\n            \"selectorItemGap\": 7,\\n            \"selectorButtonGap\": 10\\n        }\\n    ],\\n    \"tooltip\": {\\n        \"show\": true,\\n        \"trigger\": \"axis\",\\n        \"triggerOn\": \"mousemove|click\",\\n        \"axisPointer\": {\\n            \"type\": \"line\"\\n        },\\n        \"showContent\": true,\\n        \"alwaysShowContent\": false,\\n        \"showDelay\": 0,\\n        \"hideDelay\": 100,\\n        \"enterable\": false,\\n        \"confine\": false,\\n        \"appendToBody\": false,\\n        \"transitionDuration\": 0.4,\\n        \"textStyle\": {\\n            \"fontSize\": 14\\n        },\\n        \"borderWidth\": 0,\\n        \"padding\": 5,\\n        \"order\": \"seriesAsc\"\\n    },\\n    \"xAxis\": [\\n        {\\n            \"type\": \"category\",\\n            \"show\": true,\\n            \"scale\": false,\\n            \"nameLocation\": \"end\",\\n            \"nameGap\": 15,\\n            \"gridIndex\": 0,\\n            \"inverse\": false,\\n            \"offset\": 0,\\n            \"splitNumber\": 5,\\n            \"minInterval\": 0,\\n            \"splitLine\": {\\n                \"show\": true,\\n                \"lineStyle\": {\\n                    \"show\": true,\\n                    \"width\": 1,\\n                    \"opacity\": 1,\\n                    \"curveness\": 0,\\n                    \"type\": \"solid\"\\n                }\\n            },\\n            \"data\": [\\n                \"1998.0\",\\n                \"1999.0\",\\n                \"2000.0\",\\n                \"2001.0\",\\n                \"2002.0\",\\n                \"2003.0\",\\n                \"2004.0\",\\n                \"2005.0\",\\n                \"2006.0\",\\n                \"2007.0\",\\n                \"2008.0\",\\n                \"2009.0\",\\n                \"2010.0\",\\n                \"2011.0\",\\n                \"2012.0\",\\n                \"2013.0\",\\n                \"2014.0\",\\n                \"2015.0\",\\n                \"2016.0\",\\n                \"2017.0\",\\n                \"2018.0\",\\n                \"2019.0\",\\n                \"2020.0\",\\n                \"2021.0\"\\n            ]\\n        }\\n    ],\\n    \"yAxis\": [\\n        {\\n            \"type\": \"value\",\\n            \"show\": true,\\n            \"scale\": false,\\n            \"nameLocation\": \"end\",\\n            \"nameGap\": 15,\\n            \"gridIndex\": 0,\\n            \"inverse\": false,\\n            \"offset\": 0,\\n            \"splitNumber\": 5,\\n            \"minInterval\": 0,\\n            \"splitLine\": {\\n                \"show\": true,\\n                \"lineStyle\": {\\n                    \"show\": true,\\n                    \"width\": 1,\\n                    \"opacity\": 1,\\n                    \"curveness\": 0,\\n                    \"type\": \"solid\"\\n                }\\n            }\\n        }\\n    ],\\n    \"title\": [\\n        {\\n            \"show\": true,\\n            \"text\": \"\\\\u5409\\\\u6797\\\\u7701\\\\u5e74\\\\u5ea6\\\\u6700\\\\u5927\\\\u503c\",\\n            \"target\": \"blank\",\\n            \"subtarget\": \"blank\",\\n            \"padding\": 5,\\n            \"itemGap\": 10,\\n            \"textAlign\": \"auto\",\\n            \"textVerticalAlign\": \"auto\",\\n            \"triggerEvent\": false\\n        }\\n    ]\\n};\\n        chart_07dd8a1dce81448182ecc60692f659c1.setOption(option_07dd8a1dce81448182ecc60692f659c1);\\n    </script>\\n<br/>                <div id=\"56d5d8de20024cf688a37555e876bd1e\" class=\"chart-container\" style=\"position: absolute; width: 1459.4px; height: 338.4px; top: 739px; left: 8px;\"></div>\\n    <script>\\n        var chart_56d5d8de20024cf688a37555e876bd1e = echarts.init(\\n            document.getElementById(\\'56d5d8de20024cf688a37555e876bd1e\\'), \\'vintage\\', {renderer: \\'canvas\\'});\\n        var option_56d5d8de20024cf688a37555e876bd1e = {\\n    \"animation\": true,\\n    \"animationThreshold\": 2000,\\n    \"animationDuration\": 1000,\\n    \"animationEasing\": \"cubicOut\",\\n    \"animationDelay\": 0,\\n    \"animationDurationUpdate\": 300,\\n    \"animationEasingUpdate\": \"cubicOut\",\\n    \"animationDelayUpdate\": 0,\\n    \"aria\": {\\n        \"enabled\": false\\n    },\\n    \"series\": [\\n        {\\n            \"type\": \"line\",\\n            \"name\": \"\\\\u5409\\\\u6797\\\\u7701\\\\u5e74\\\\u5ea6\\\\u6700\\\\u5c0f\\\\u503c\",\\n            \"connectNulls\": false,\\n            \"xAxisIndex\": 0,\\n            \"symbolSize\": 4,\\n            \"showSymbol\": true,\\n            \"smooth\": false,\\n            \"clip\": true,\\n            \"step\": false,\\n            \"data\": [\\n                [\\n                    \"1998.0\",\\n                    18.7\\n                ],\\n                [\\n                    \"1999.0\",\\n                    14.8\\n                ],\\n                [\\n                    \"2000.0\",\\n                    17.4\\n                ],\\n                [\\n                    \"2001.0\",\\n                    17.7\\n                ],\\n                [\\n                    \"2002.0\",\\n                    18.2\\n                ],\\n                [\\n                    \"2003.0\",\\n                    23.8\\n                ],\\n                [\\n                    \"2004.0\",\\n                    18.1\\n                ],\\n                [\\n                    \"2005.0\",\\n                    20.2\\n                ],\\n                [\\n                    \"2006.0\",\\n                    19.3\\n                ],\\n                [\\n                    \"2007.0\",\\n                    17.6\\n                ],\\n                [\\n                    \"2008.0\",\\n                    22.7\\n                ],\\n                [\\n                    \"2009.0\",\\n                    18.5\\n                ],\\n                [\\n                    \"2010.0\",\\n                    16.1\\n                ],\\n                [\\n                    \"2011.0\",\\n                    17.7\\n                ],\\n                [\\n                    \"2012.0\",\\n                    18.9\\n                ],\\n                [\\n                    \"2013.0\",\\n                    16.9\\n                ],\\n                [\\n                    \"2014.0\",\\n                    21.8\\n                ],\\n                [\\n                    \"2015.0\",\\n                    18.2\\n                ],\\n                [\\n                    \"2016.0\",\\n                    14.9\\n                ],\\n                [\\n                    \"2017.0\",\\n                    16.7\\n                ],\\n                [\\n                    \"2018.0\",\\n                    13.7\\n                ],\\n                [\\n                    \"2019.0\",\\n                    16.3\\n                ],\\n                [\\n                    \"2020.0\",\\n                    12.8\\n                ],\\n                [\\n                    \"2021.0\",\\n                    12.5\\n                ]\\n            ],\\n            \"hoverAnimation\": true,\\n            \"label\": {\\n                \"show\": true,\\n                \"margin\": 8\\n            },\\n            \"logBase\": 10,\\n            \"seriesLayoutBy\": \"column\",\\n            \"lineStyle\": {\\n                \"show\": true,\\n                \"width\": 1,\\n                \"opacity\": 1,\\n                \"curveness\": 0,\\n                \"type\": \"solid\"\\n            },\\n            \"areaStyle\": {\\n                \"opacity\": 0\\n            },\\n            \"zlevel\": 0,\\n            \"z\": 0\\n        }\\n    ],\\n    \"legend\": [\\n        {\\n            \"data\": [\\n                \"\\\\u5409\\\\u6797\\\\u7701\\\\u5e74\\\\u5ea6\\\\u6700\\\\u5c0f\\\\u503c\"\\n            ],\\n            \"selected\": {},\\n            \"show\": true,\\n            \"padding\": 5,\\n            \"itemGap\": 10,\\n            \"itemWidth\": 25,\\n            \"itemHeight\": 14,\\n            \"backgroundColor\": \"transparent\",\\n            \"borderColor\": \"#ccc\",\\n            \"borderRadius\": 0,\\n            \"pageButtonItemGap\": 5,\\n            \"pageButtonPosition\": \"end\",\\n            \"pageFormatter\": \"{current}/{total}\",\\n            \"pageIconColor\": \"#2f4554\",\\n            \"pageIconInactiveColor\": \"#aaa\",\\n            \"pageIconSize\": 15,\\n            \"animationDurationUpdate\": 800,\\n            \"selector\": false,\\n            \"selectorPosition\": \"auto\",\\n            \"selectorItemGap\": 7,\\n            \"selectorButtonGap\": 10\\n        }\\n    ],\\n    \"tooltip\": {\\n        \"show\": true,\\n        \"trigger\": \"axis\",\\n        \"triggerOn\": \"mousemove|click\",\\n        \"axisPointer\": {\\n            \"type\": \"line\"\\n        },\\n        \"showContent\": true,\\n        \"alwaysShowContent\": false,\\n        \"showDelay\": 0,\\n        \"hideDelay\": 100,\\n        \"enterable\": false,\\n        \"confine\": false,\\n        \"appendToBody\": false,\\n        \"transitionDuration\": 0.4,\\n        \"textStyle\": {\\n            \"fontSize\": 14\\n        },\\n        \"borderWidth\": 0,\\n        \"padding\": 5,\\n        \"order\": \"seriesAsc\"\\n    },\\n    \"xAxis\": [\\n        {\\n            \"type\": \"category\",\\n            \"show\": true,\\n            \"scale\": false,\\n            \"nameLocation\": \"end\",\\n            \"nameGap\": 15,\\n            \"gridIndex\": 0,\\n            \"inverse\": false,\\n            \"offset\": 0,\\n            \"splitNumber\": 5,\\n            \"minInterval\": 0,\\n            \"splitLine\": {\\n                \"show\": true,\\n                \"lineStyle\": {\\n                    \"show\": true,\\n                    \"width\": 1,\\n                    \"opacity\": 1,\\n                    \"curveness\": 0,\\n                    \"type\": \"solid\"\\n                }\\n            },\\n            \"data\": [\\n                \"1998.0\",\\n                \"1999.0\",\\n                \"2000.0\",\\n                \"2001.0\",\\n                \"2002.0\",\\n                \"2003.0\",\\n                \"2004.0\",\\n                \"2005.0\",\\n                \"2006.0\",\\n                \"2007.0\",\\n                \"2008.0\",\\n                \"2009.0\",\\n                \"2010.0\",\\n                \"2011.0\",\\n                \"2012.0\",\\n                \"2013.0\",\\n                \"2014.0\",\\n                \"2015.0\",\\n                \"2016.0\",\\n                \"2017.0\",\\n                \"2018.0\",\\n                \"2019.0\",\\n                \"2020.0\",\\n                \"2021.0\"\\n            ]\\n        }\\n    ],\\n    \"yAxis\": [\\n        {\\n            \"type\": \"value\",\\n            \"show\": true,\\n            \"scale\": false,\\n            \"nameLocation\": \"end\",\\n            \"nameGap\": 15,\\n            \"gridIndex\": 0,\\n            \"inverse\": false,\\n            \"offset\": 0,\\n            \"splitNumber\": 5,\\n            \"minInterval\": 0,\\n            \"splitLine\": {\\n                \"show\": true,\\n                \"lineStyle\": {\\n                    \"show\": true,\\n                    \"width\": 1,\\n                    \"opacity\": 1,\\n                    \"curveness\": 0,\\n                    \"type\": \"solid\"\\n                }\\n            }\\n        }\\n    ],\\n    \"title\": [\\n        {\\n            \"show\": true,\\n            \"text\": \"\\\\u5409\\\\u6797\\\\u7701\\\\u5e74\\\\u5ea6\\\\u6700\\\\u5c0f\\\\u503c\",\\n            \"target\": \"blank\",\\n            \"subtarget\": \"blank\",\\n            \"padding\": 5,\\n            \"itemGap\": 10,\\n            \"textAlign\": \"auto\",\\n            \"textVerticalAlign\": \"auto\",\\n            \"triggerEvent\": false\\n        }\\n    ]\\n};\\n        chart_56d5d8de20024cf688a37555e876bd1e.setOption(option_56d5d8de20024cf688a37555e876bd1e);\\n    </script>\\n<br/>                <div id=\"c3814a00f5dc49f0af71757cea16025a\" class=\"chart-container\" style=\"position: absolute; width: 732.4px; height: 425.4px; top: 1098.800048828125px; left: 8px;\"></div>\\n    <script>\\n        var chart_c3814a00f5dc49f0af71757cea16025a = echarts.init(\\n            document.getElementById(\\'c3814a00f5dc49f0af71757cea16025a\\'), \\'macarons\\', {renderer: \\'canvas\\'});\\n        var option_c3814a00f5dc49f0af71757cea16025a = {\\n    \"animation\": true,\\n    \"animationThreshold\": 2000,\\n    \"animationDuration\": 1000,\\n    \"animationEasing\": \"cubicOut\",\\n    \"animationDelay\": 0,\\n    \"animationDurationUpdate\": 300,\\n    \"animationEasingUpdate\": \"cubicOut\",\\n    \"animationDelayUpdate\": 0,\\n    \"aria\": {\\n        \"enabled\": false\\n    },\\n    \"series\": [\\n        {\\n            \"type\": \"bar\",\\n            \"name\": \"\\\\u5409\\\\u6797\\\\u7701\\\\u5e74\\\\u5ea6\\\\u603b\\\\u548c\",\\n            \"legendHoverLink\": true,\\n            \"data\": [\\n                6641616.9,\\n                5580777.9,\\n                6730759.7,\\n                6734610.1,\\n                7463972.4,\\n                8779231.3,\\n                6670496.0,\\n                7093348.0,\\n                7988409.9,\\n                8067438.5,\\n                8625747.6,\\n                7398044.7,\\n                7192097.8,\\n                8464629.2,\\n                8098235.4,\\n                8474485.0,\\n                9130660.4,\\n                9518848.7,\\n                7212782.5,\\n                7336641.6,\\n                5735786.9,\\n                6160773.9,\\n                5988404.4,\\n                5365846.5\\n            ],\\n            \"realtimeSort\": false,\\n            \"showBackground\": false,\\n            \"stackStrategy\": \"samesign\",\\n            \"cursor\": \"pointer\",\\n            \"barMinHeight\": 0,\\n            \"barCategoryGap\": \"20%\",\\n            \"barGap\": \"30%\",\\n            \"large\": false,\\n            \"largeThreshold\": 400,\\n            \"seriesLayoutBy\": \"column\",\\n            \"datasetIndex\": 0,\\n            \"clip\": true,\\n            \"zlevel\": 0,\\n            \"z\": 2,\\n            \"label\": {\\n                \"show\": false,\\n                \"margin\": 8\\n            },\\n            \"markLine\": {\\n                \"silent\": false,\\n                \"precision\": 2,\\n                \"label\": {\\n                    \"show\": true,\\n                    \"position\": \"end\",\\n                    \"margin\": 8,\\n                    \"formatter\": function(params){return params.value.toFixed(2);}\\n                },\\n                \"data\": [\\n                    {\\n                        \"name\": \"\\\\u5e73\\\\u5747\\\\u503c\",\\n                        \"type\": \"average\"\\n                    },\\n                    {\\n                        \"name\": \"\\\\u6700\\\\u5927\\\\u503c\",\\n                        \"type\": \"max\"\\n                    },\\n                    {\\n                        \"name\": \"\\\\u6700\\\\u5c0f\\\\u503c\",\\n                        \"type\": \"min\"\\n                    }\\n                ]\\n            },\\n            \"rippleEffect\": {\\n                \"show\": true,\\n                \"brushType\": \"stroke\",\\n                \"scale\": 2.5,\\n                \"period\": 4\\n            }\\n        }\\n    ],\\n    \"legend\": [\\n        {\\n            \"data\": [\\n                \"\\\\u5409\\\\u6797\\\\u7701\\\\u5e74\\\\u5ea6\\\\u603b\\\\u548c\"\\n            ],\\n            \"selected\": {},\\n            \"show\": true,\\n            \"padding\": 5,\\n            \"itemGap\": 10,\\n            \"itemWidth\": 25,\\n            \"itemHeight\": 14,\\n            \"backgroundColor\": \"transparent\",\\n            \"borderColor\": \"#ccc\",\\n            \"borderRadius\": 0,\\n            \"pageButtonItemGap\": 5,\\n            \"pageButtonPosition\": \"end\",\\n            \"pageFormatter\": \"{current}/{total}\",\\n            \"pageIconColor\": \"#2f4554\",\\n            \"pageIconInactiveColor\": \"#aaa\",\\n            \"pageIconSize\": 15,\\n            \"animationDurationUpdate\": 800,\\n            \"selector\": false,\\n            \"selectorPosition\": \"auto\",\\n            \"selectorItemGap\": 7,\\n            \"selectorButtonGap\": 10\\n        }\\n    ],\\n    \"tooltip\": {\\n        \"show\": true,\\n        \"trigger\": \"axis\",\\n        \"triggerOn\": \"mousemove|click\",\\n        \"axisPointer\": {\\n            \"type\": \"line\"\\n        },\\n        \"showContent\": true,\\n        \"alwaysShowContent\": false,\\n        \"showDelay\": 0,\\n        \"hideDelay\": 100,\\n        \"enterable\": false,\\n        \"confine\": false,\\n        \"appendToBody\": false,\\n        \"transitionDuration\": 0.4,\\n        \"textStyle\": {\\n            \"fontSize\": 14\\n        },\\n        \"borderWidth\": 0,\\n        \"padding\": 5,\\n        \"order\": \"seriesAsc\"\\n    },\\n    \"xAxis\": [\\n        {\\n            \"type\": \"category\",\\n            \"show\": true,\\n            \"scale\": false,\\n            \"nameLocation\": \"end\",\\n            \"nameGap\": 15,\\n            \"gridIndex\": 0,\\n            \"inverse\": false,\\n            \"offset\": 0,\\n            \"splitNumber\": 5,\\n            \"minInterval\": 0,\\n            \"splitLine\": {\\n                \"show\": true,\\n                \"lineStyle\": {\\n                    \"show\": true,\\n                    \"width\": 1,\\n                    \"opacity\": 1,\\n                    \"curveness\": 0,\\n                    \"type\": \"solid\"\\n                }\\n            },\\n            \"data\": [\\n                \"1998.0\",\\n                \"1999.0\",\\n                \"2000.0\",\\n                \"2001.0\",\\n                \"2002.0\",\\n                \"2003.0\",\\n                \"2004.0\",\\n                \"2005.0\",\\n                \"2006.0\",\\n                \"2007.0\",\\n                \"2008.0\",\\n                \"2009.0\",\\n                \"2010.0\",\\n                \"2011.0\",\\n                \"2012.0\",\\n                \"2013.0\",\\n                \"2014.0\",\\n                \"2015.0\",\\n                \"2016.0\",\\n                \"2017.0\",\\n                \"2018.0\",\\n                \"2019.0\",\\n                \"2020.0\",\\n                \"2021.0\"\\n            ]\\n        }\\n    ],\\n    \"yAxis\": [\\n        {\\n            \"type\": \"value\",\\n            \"show\": true,\\n            \"scale\": false,\\n            \"nameLocation\": \"end\",\\n            \"nameGap\": 15,\\n            \"gridIndex\": 0,\\n            \"inverse\": false,\\n            \"offset\": 0,\\n            \"splitNumber\": 5,\\n            \"minInterval\": 0,\\n            \"splitLine\": {\\n                \"show\": true,\\n                \"lineStyle\": {\\n                    \"show\": true,\\n                    \"width\": 1,\\n                    \"opacity\": 1,\\n                    \"curveness\": 0,\\n                    \"type\": \"solid\"\\n                }\\n            }\\n        }\\n    ],\\n    \"title\": [\\n        {\\n            \"show\": true,\\n            \"text\": \"\\\\u5409\\\\u6797\\\\u7701\\\\u5e74\\\\u5ea6\\\\u603b\\\\u548c\",\\n            \"target\": \"blank\",\\n            \"subtarget\": \"blank\",\\n            \"padding\": 5,\\n            \"itemGap\": 10,\\n            \"textAlign\": \"auto\",\\n            \"textVerticalAlign\": \"auto\",\\n            \"triggerEvent\": false\\n        }\\n    ]\\n};\\n        chart_c3814a00f5dc49f0af71757cea16025a.setOption(option_c3814a00f5dc49f0af71757cea16025a);\\n    </script>\\n<br/>                <div id=\"f7861b41899d411eb8e075c20e73cf5f\" class=\"chart-container\" style=\"position: absolute; width: 754.4px; height: 436.4px; top: 1095.5999755859375px; left: 742px;\"></div>\\n    <script>\\n        var chart_f7861b41899d411eb8e075c20e73cf5f = echarts.init(\\n            document.getElementById(\\'f7861b41899d411eb8e075c20e73cf5f\\'), \\'chalk\\', {renderer: \\'canvas\\'});\\n        var option_f7861b41899d411eb8e075c20e73cf5f = {\\n    \"animation\": true,\\n    \"animationThreshold\": 2000,\\n    \"animationDuration\": 1000,\\n    \"animationEasing\": \"cubicOut\",\\n    \"animationDelay\": 0,\\n    \"animationDurationUpdate\": 300,\\n    \"animationEasingUpdate\": \"cubicOut\",\\n    \"animationDelayUpdate\": 0,\\n    \"aria\": {\\n        \"enabled\": false\\n    },\\n    \"series\": [\\n        {\\n            \"type\": \"bar\",\\n            \"name\": \"\\\\u5409\\\\u6797\\\\u7701\\\\u5e74\\\\u5ea6\\\\u6807\\\\u51c6\\\\u5dee\",\\n            \"legendHoverLink\": true,\\n            \"data\": [\\n                5.33,\\n                4.17,\\n                5.11,\\n                6.51,\\n                5.16,\\n                6.14,\\n                5.1,\\n                5.42,\\n                6.54,\\n                7.22,\\n                7.66,\\n                5.98,\\n                6.29,\\n                9.67,\\n                8.15,\\n                10.3,\\n                9.36,\\n                9.85,\\n                6.41,\\n                7.86,\\n                5.64,\\n                5.5,\\n                7.74,\\n                5.54\\n            ],\\n            \"realtimeSort\": false,\\n            \"showBackground\": false,\\n            \"stackStrategy\": \"samesign\",\\n            \"cursor\": \"pointer\",\\n            \"barMinHeight\": 0,\\n            \"barCategoryGap\": \"20%\",\\n            \"barGap\": \"30%\",\\n            \"large\": false,\\n            \"largeThreshold\": 400,\\n            \"seriesLayoutBy\": \"column\",\\n            \"datasetIndex\": 0,\\n            \"clip\": true,\\n            \"zlevel\": 0,\\n            \"z\": 2,\\n            \"label\": {\\n                \"show\": false,\\n                \"margin\": 8\\n            },\\n            \"markLine\": {\\n                \"silent\": false,\\n                \"precision\": 2,\\n                \"label\": {\\n                    \"show\": true,\\n                    \"position\": \"end\",\\n                    \"margin\": 8,\\n                    \"formatter\": function(params){return params.value.toFixed(3);}\\n                },\\n                \"data\": [\\n                    {\\n                        \"name\": \"\\\\u5e73\\\\u5747\\\\u503c\",\\n                        \"type\": \"average\"\\n                    },\\n                    {\\n                        \"name\": \"\\\\u6700\\\\u5927\\\\u503c\",\\n                        \"type\": \"max\"\\n                    },\\n                    {\\n                        \"name\": \"\\\\u6700\\\\u5c0f\\\\u503c\",\\n                        \"type\": \"min\"\\n                    }\\n                ]\\n            },\\n            \"rippleEffect\": {\\n                \"show\": true,\\n                \"brushType\": \"stroke\",\\n                \"scale\": 2.5,\\n                \"period\": 4\\n            }\\n        }\\n    ],\\n    \"legend\": [\\n        {\\n            \"data\": [\\n                \"\\\\u5409\\\\u6797\\\\u7701\\\\u5e74\\\\u5ea6\\\\u6807\\\\u51c6\\\\u5dee\"\\n            ],\\n            \"selected\": {},\\n            \"show\": true,\\n            \"padding\": 5,\\n            \"itemGap\": 10,\\n            \"itemWidth\": 25,\\n            \"itemHeight\": 14,\\n            \"backgroundColor\": \"transparent\",\\n            \"borderColor\": \"#ccc\",\\n            \"borderRadius\": 0,\\n            \"pageButtonItemGap\": 5,\\n            \"pageButtonPosition\": \"end\",\\n            \"pageFormatter\": \"{current}/{total}\",\\n            \"pageIconColor\": \"#2f4554\",\\n            \"pageIconInactiveColor\": \"#aaa\",\\n            \"pageIconSize\": 15,\\n            \"animationDurationUpdate\": 800,\\n            \"selector\": false,\\n            \"selectorPosition\": \"auto\",\\n            \"selectorItemGap\": 7,\\n            \"selectorButtonGap\": 10\\n        }\\n    ],\\n    \"tooltip\": {\\n        \"show\": true,\\n        \"trigger\": \"axis\",\\n        \"triggerOn\": \"mousemove|click\",\\n        \"axisPointer\": {\\n            \"type\": \"line\"\\n        },\\n        \"showContent\": true,\\n        \"alwaysShowContent\": false,\\n        \"showDelay\": 0,\\n        \"hideDelay\": 100,\\n        \"enterable\": false,\\n        \"confine\": false,\\n        \"appendToBody\": false,\\n        \"transitionDuration\": 0.4,\\n        \"textStyle\": {\\n            \"fontSize\": 14\\n        },\\n        \"borderWidth\": 0,\\n        \"padding\": 5,\\n        \"order\": \"seriesAsc\"\\n    },\\n    \"xAxis\": [\\n        {\\n            \"type\": \"category\",\\n            \"show\": true,\\n            \"scale\": false,\\n            \"nameLocation\": \"end\",\\n            \"nameGap\": 15,\\n            \"gridIndex\": 0,\\n            \"inverse\": false,\\n            \"offset\": 0,\\n            \"splitNumber\": 5,\\n            \"minInterval\": 0,\\n            \"splitLine\": {\\n                \"show\": true,\\n                \"lineStyle\": {\\n                    \"show\": true,\\n                    \"width\": 1,\\n                    \"opacity\": 1,\\n                    \"curveness\": 0,\\n                    \"type\": \"solid\"\\n                }\\n            },\\n            \"data\": [\\n                \"1998.0\",\\n                \"1999.0\",\\n                \"2000.0\",\\n                \"2001.0\",\\n                \"2002.0\",\\n                \"2003.0\",\\n                \"2004.0\",\\n                \"2005.0\",\\n                \"2006.0\",\\n                \"2007.0\",\\n                \"2008.0\",\\n                \"2009.0\",\\n                \"2010.0\",\\n                \"2011.0\",\\n                \"2012.0\",\\n                \"2013.0\",\\n                \"2014.0\",\\n                \"2015.0\",\\n                \"2016.0\",\\n                \"2017.0\",\\n                \"2018.0\",\\n                \"2019.0\",\\n                \"2020.0\",\\n                \"2021.0\"\\n            ]\\n        }\\n    ],\\n    \"yAxis\": [\\n        {\\n            \"type\": \"value\",\\n            \"show\": true,\\n            \"scale\": false,\\n            \"nameLocation\": \"end\",\\n            \"nameGap\": 15,\\n            \"gridIndex\": 0,\\n            \"inverse\": false,\\n            \"offset\": 0,\\n            \"splitNumber\": 5,\\n            \"minInterval\": 0,\\n            \"splitLine\": {\\n                \"show\": true,\\n                \"lineStyle\": {\\n                    \"show\": true,\\n                    \"width\": 1,\\n                    \"opacity\": 1,\\n                    \"curveness\": 0,\\n                    \"type\": \"solid\"\\n                }\\n            }\\n        }\\n    ],\\n    \"title\": [\\n        {\\n            \"show\": true,\\n            \"text\": \"\\\\u5409\\\\u6797\\\\u7701\\\\u5e74\\\\u5ea6\\\\u6807\\\\u51c6\\\\u5dee\",\\n            \"target\": \"blank\",\\n            \"subtarget\": \"blank\",\\n            \"padding\": 5,\\n            \"itemGap\": 10,\\n            \"textAlign\": \"auto\",\\n            \"textVerticalAlign\": \"auto\",\\n            \"triggerEvent\": false\\n        }\\n    ]\\n};\\n        chart_f7861b41899d411eb8e075c20e73cf5f.setOption(option_f7861b41899d411eb8e075c20e73cf5f);\\n    </script>\\n<br/>    </div>\\n    <script>\\n            $(\\'#7b3d28ad05264930af8f876e7652a3b1\\').css(\\'border-style\\', \\'dashed\\').css(\\'border-width\\', \\'0px\\');$(\"#7b3d28ad05264930af8f876e7652a3b1>div:nth-child(1)\").width(\"100%\").height(\"100%\");\\n            new ResizeSensor(jQuery(\\'#7b3d28ad05264930af8f876e7652a3b1\\'), function() { chart_7b3d28ad05264930af8f876e7652a3b1.resize()});\\n            $(\\'#07dd8a1dce81448182ecc60692f659c1\\').css(\\'border-style\\', \\'dashed\\').css(\\'border-width\\', \\'0px\\');$(\"#07dd8a1dce81448182ecc60692f659c1>div:nth-child(1)\").width(\"100%\").height(\"100%\");\\n            new ResizeSensor(jQuery(\\'#07dd8a1dce81448182ecc60692f659c1\\'), function() { chart_07dd8a1dce81448182ecc60692f659c1.resize()});\\n            $(\\'#56d5d8de20024cf688a37555e876bd1e\\').css(\\'border-style\\', \\'dashed\\').css(\\'border-width\\', \\'0px\\');$(\"#56d5d8de20024cf688a37555e876bd1e>div:nth-child(1)\").width(\"100%\").height(\"100%\");\\n            new ResizeSensor(jQuery(\\'#56d5d8de20024cf688a37555e876bd1e\\'), function() { chart_56d5d8de20024cf688a37555e876bd1e.resize()});\\n            $(\\'#c3814a00f5dc49f0af71757cea16025a\\').css(\\'border-style\\', \\'dashed\\').css(\\'border-width\\', \\'0px\\');$(\"#c3814a00f5dc49f0af71757cea16025a>div:nth-child(1)\").width(\"100%\").height(\"100%\");\\n            new ResizeSensor(jQuery(\\'#c3814a00f5dc49f0af71757cea16025a\\'), function() { chart_c3814a00f5dc49f0af71757cea16025a.resize()});\\n            $(\\'#f7861b41899d411eb8e075c20e73cf5f\\').css(\\'border-style\\', \\'dashed\\').css(\\'border-width\\', \\'0px\\');$(\"#f7861b41899d411eb8e075c20e73cf5f>div:nth-child(1)\").width(\"100%\").height(\"100%\");\\n            new ResizeSensor(jQuery(\\'#f7861b41899d411eb8e075c20e73cf5f\\'), function() { chart_f7861b41899d411eb8e075c20e73cf5f.resize()});\\n            var charts_id = [\\'7b3d28ad05264930af8f876e7652a3b1\\',\\'07dd8a1dce81448182ecc60692f659c1\\',\\'56d5d8de20024cf688a37555e876bd1e\\',\\'c3814a00f5dc49f0af71757cea16025a\\',\\'f7861b41899d411eb8e075c20e73cf5f\\'];\\nfunction downloadCfg () {\\n    const fileName = \\'chart_config.json\\'\\n    let downLink = document.createElement(\\'a\\')\\n    downLink.download = fileName\\n\\n    let result = []\\n    for(let i=0; i<charts_id.length; i++) {\\n        chart = $(\\'#\\'+charts_id[i])\\n        result.push({\\n            cid: charts_id[i],\\n            width: chart.css(\"width\"),\\n            height: chart.css(\"height\"),\\n            top: chart.offset().top + \"px\",\\n            left: chart.offset().left + \"px\"\\n        })\\n    }\\n\\n    let blob = new Blob([JSON.stringify(result)])\\n    downLink.href = URL.createObjectURL(blob)\\n    document.body.appendChild(downLink)\\n    downLink.click()\\n    document.body.removeChild(downLink)\\n}\\n    </script>\\n</body>\\n</html>\\n'"
      ]
     },
     "execution_count": 31,
     "metadata": {},
     "output_type": "execute_result"
    }
   ],
   "source": [
    "# 使用刚才生成的布局配置文件chart_config.json，来重新生成一个新的Page页面(html文档)\n",
    "Page.save_resize_html(\"../../文件/page/film/大屏可视化/②可视化大屏.html\", cfg_file=\"../../文件/page/film/大屏可视化/chart_config2.json\", dest=\"../../文件/page/film/大屏可视化/②可视化大屏②.html\")"
   ]
  },
  {
   "cell_type": "code",
   "execution_count": 36,
   "id": "d262d954",
   "metadata": {},
   "outputs": [
    {
     "data": {
      "text/plain": [
       "'E:\\\\个人文件\\\\Python\\\\进阶项目\\\\①数据分析项目大全\\\\2024年上半年项目合集\\\\基于Hadoop的PM2.5分布可视化系统设计\\\\文件\\\\page\\\\film\\\\大屏可视化\\\\③可视化大屏.html'"
      ]
     },
     "execution_count": 36,
     "metadata": {},
     "output_type": "execute_result"
    }
   ],
   "source": [
    "from pyecharts.charts import Bar,Pie,Page\n",
    "page = Page(page_title='③可视化大屏',layout=Page.DraggablePageLayout)  # 生成可拖拽的页面布局\n",
    "page.add(\n",
    "    a11(),\n",
    "    a12(),\n",
    "    a13(),\n",
    "    a14(),\n",
    "    a15(),\n",
    ")   \n",
    "page.render(\"../../文件/page/film/大屏可视化/③可视化大屏.html\")  # 生成一个HTML页面"
   ]
  },
  {
   "cell_type": "code",
   "execution_count": 38,
   "id": "79782fc7",
   "metadata": {},
   "outputs": [
    {
     "data": {
      "text/plain": [
       "'<!DOCTYPE html>\\n<html>\\n<head>\\n    <meta charset=\"UTF-8\">\\n    <title>③可视化大屏</title>\\n                <script type=\"text/javascript\" src=\"https://assets.pyecharts.org/assets/v5/echarts.min.js\"></script>\\n            <script type=\"text/javascript\" src=\"https://assets.pyecharts.org/assets/v5/maps/jiangxi.js\"></script>\\n            <script type=\"text/javascript\" src=\"https://assets.pyecharts.org/assets/v5/jquery.min.js\"></script>\\n            <script type=\"text/javascript\" src=\"https://assets.pyecharts.org/assets/v5/jquery-ui.min.js\"></script>\\n            <script type=\"text/javascript\" src=\"https://assets.pyecharts.org/assets/v5/ResizeSensor.js\"></script>\\n\\n            <link rel=\"stylesheet\"  href=\"https://assets.pyecharts.org/assets/v5/jquery-ui.css\">\\n\\n</head>\\n<body >\\n    <style>.box {  } </style>\\n        \\n    <div class=\"box\">\\n                <div id=\"6e128223e95242c1b36e7ef85c284803\" class=\"chart-container\" style=\"position: absolute; width: 786.4px; height: 538.4px; top: 27.399999618530273px; left: 0px;\"></div>\\n    <script>\\n        var chart_6e128223e95242c1b36e7ef85c284803 = echarts.init(\\n            document.getElementById(\\'6e128223e95242c1b36e7ef85c284803\\'), \\'white\\', {renderer: \\'canvas\\'});\\n        var option_6e128223e95242c1b36e7ef85c284803 = {\\n    \"animation\": true,\\n    \"animationThreshold\": 2000,\\n    \"animationDuration\": 1000,\\n    \"animationEasing\": \"cubicOut\",\\n    \"animationDelay\": 0,\\n    \"animationDurationUpdate\": 300,\\n    \"animationEasingUpdate\": \"cubicOut\",\\n    \"animationDelayUpdate\": 0,\\n    \"aria\": {\\n        \"enabled\": false\\n    },\\n    \"color\": [\\n        \"#5470c6\",\\n        \"#91cc75\",\\n        \"#fac858\",\\n        \"#ee6666\",\\n        \"#73c0de\",\\n        \"#3ba272\",\\n        \"#fc8452\",\\n        \"#9a60b4\",\\n        \"#ea7ccc\"\\n    ],\\n    \"series\": [\\n        {\\n            \"type\": \"map\",\\n            \"name\": \"\\\\u5409\\\\u6797\\\\u7701\\\\u5404\\\\u5e02\\\\u5e73\\\\u5747\\\\u503c\",\\n            \"label\": {\\n                \"show\": true,\\n                \"margin\": 8\\n            },\\n            \"map\": \"\\\\u5409\\\\u6797\",\\n            \"data\": [\\n                {\\n                    \"name\": \"\\\\u5409\\\\u6797\\\\u5e02\",\\n                    \"value\": 38.74131128770642\\n                },\\n                {\\n                    \"name\": \"\\\\u56db\\\\u5e73\\\\u5e02\",\\n                    \"value\": 42.88817234494192\\n                },\\n                {\\n                    \"name\": \"\\\\u5ef6\\\\u8fb9\\\\u671d\\\\u9c9c\\\\u65cf\\\\u81ea\\\\u6cbb\\\\u5dde\",\\n                    \"value\": 26.359646908602095\\n                },\\n                {\\n                    \"name\": \"\\\\u677e\\\\u539f\\\\u5e02\",\\n                    \"value\": 37.63545388425954\\n                },\\n                {\\n                    \"name\": \"\\\\u767d\\\\u57ce\\\\u5e02\",\\n                    \"value\": 32.29797129808636\\n                },\\n                {\\n                    \"name\": \"\\\\u767d\\\\u5c71\\\\u5e02\",\\n                    \"value\": 30.508193109496045\\n                },\\n                {\\n                    \"name\": \"\\\\u8fbd\\\\u6e90\\\\u5e02\",\\n                    \"value\": 41.23454893765701\\n                },\\n                {\\n                    \"name\": \"\\\\u901a\\\\u5316\\\\u5e02\",\\n                    \"value\": 36.63511718086411\\n                },\\n                {\\n                    \"name\": \"\\\\u957f\\\\u6625\\\\u5e02\",\\n                    \"value\": 44.54319897267658\\n                }\\n            ],\\n            \"roam\": true,\\n            \"aspectScale\": 0.75,\\n            \"nameProperty\": \"name\",\\n            \"selectedMode\": false,\\n            \"zoom\": 1,\\n            \"zlevel\": 0,\\n            \"z\": 2,\\n            \"seriesLayoutBy\": \"column\",\\n            \"datasetIndex\": 0,\\n            \"mapValueCalculation\": \"sum\",\\n            \"showLegendSymbol\": true,\\n            \"emphasis\": {}\\n        }\\n    ],\\n    \"legend\": [\\n        {\\n            \"data\": [\\n                \"\\\\u5409\\\\u6797\\\\u7701\\\\u5404\\\\u5e02\\\\u5e73\\\\u5747\\\\u503c\"\\n            ],\\n            \"selected\": {},\\n            \"show\": true,\\n            \"padding\": 5,\\n            \"itemGap\": 10,\\n            \"itemWidth\": 25,\\n            \"itemHeight\": 14,\\n            \"backgroundColor\": \"transparent\",\\n            \"borderColor\": \"#ccc\",\\n            \"borderRadius\": 0,\\n            \"pageButtonItemGap\": 5,\\n            \"pageButtonPosition\": \"end\",\\n            \"pageFormatter\": \"{current}/{total}\",\\n            \"pageIconColor\": \"#2f4554\",\\n            \"pageIconInactiveColor\": \"#aaa\",\\n            \"pageIconSize\": 15,\\n            \"animationDurationUpdate\": 800,\\n            \"selector\": false,\\n            \"selectorPosition\": \"auto\",\\n            \"selectorItemGap\": 7,\\n            \"selectorButtonGap\": 10\\n        }\\n    ],\\n    \"tooltip\": {\\n        \"show\": true,\\n        \"trigger\": \"item\",\\n        \"triggerOn\": \"mousemove|click\",\\n        \"axisPointer\": {\\n            \"type\": \"line\"\\n        },\\n        \"showContent\": true,\\n        \"alwaysShowContent\": false,\\n        \"showDelay\": 0,\\n        \"hideDelay\": 100,\\n        \"enterable\": false,\\n        \"confine\": false,\\n        \"appendToBody\": false,\\n        \"transitionDuration\": 0.4,\\n        \"textStyle\": {\\n            \"fontSize\": 14\\n        },\\n        \"borderWidth\": 0,\\n        \"padding\": 5,\\n        \"order\": \"seriesAsc\"\\n    },\\n    \"title\": [\\n        {\\n            \"show\": true,\\n            \"text\": \"\\\\u5409\\\\u6797\\\\u7701\\\\u5404\\\\u5e02\\\\u5e73\\\\u5747\\\\u503c\",\\n            \"target\": \"blank\",\\n            \"subtarget\": \"blank\",\\n            \"padding\": 5,\\n            \"itemGap\": 10,\\n            \"textAlign\": \"auto\",\\n            \"textVerticalAlign\": \"auto\",\\n            \"triggerEvent\": false\\n        }\\n    ],\\n    \"visualMap\": {\\n        \"show\": true,\\n        \"type\": \"continuous\",\\n        \"min\": 0,\\n        \"max\": \"44.54319897267658\",\\n        \"inRange\": {\\n            \"color\": [\\n                \"#50a3ba\",\\n                \"#eac763\",\\n                \"#d94e5d\"\\n            ]\\n        },\\n        \"calculable\": true,\\n        \"inverse\": false,\\n        \"splitNumber\": 5,\\n        \"hoverLink\": true,\\n        \"orient\": \"vertical\",\\n        \"padding\": 5,\\n        \"showLabel\": true,\\n        \"itemWidth\": 20,\\n        \"itemHeight\": 140,\\n        \"borderWidth\": 0\\n    }\\n};\\n        chart_6e128223e95242c1b36e7ef85c284803.setOption(option_6e128223e95242c1b36e7ef85c284803);\\n    </script>\\n<br/>                <div id=\"9ce7b186a4e74a81aa7b828d5b8bf79b\" class=\"chart-container\" style=\"position: absolute; width: 788.4px; height: 451.4px; top: 592.2000122070312px; left: 8px;\"></div>\\n    <script>\\n        var chart_9ce7b186a4e74a81aa7b828d5b8bf79b = echarts.init(\\n            document.getElementById(\\'9ce7b186a4e74a81aa7b828d5b8bf79b\\'), \\'white\\', {renderer: \\'canvas\\'});\\n        var option_9ce7b186a4e74a81aa7b828d5b8bf79b = {\\n    \"animation\": true,\\n    \"animationThreshold\": 2000,\\n    \"animationDuration\": 1000,\\n    \"animationEasing\": \"cubicOut\",\\n    \"animationDelay\": 0,\\n    \"animationDurationUpdate\": 300,\\n    \"animationEasingUpdate\": \"cubicOut\",\\n    \"animationDelayUpdate\": 0,\\n    \"aria\": {\\n        \"enabled\": false\\n    },\\n    \"color\": [\\n        \"#5470c6\",\\n        \"#91cc75\",\\n        \"#fac858\",\\n        \"#ee6666\",\\n        \"#73c0de\",\\n        \"#3ba272\",\\n        \"#fc8452\",\\n        \"#9a60b4\",\\n        \"#ea7ccc\"\\n    ],\\n    \"series\": [\\n        {\\n            \"type\": \"map\",\\n            \"name\": \"\\\\u5409\\\\u6797\\\\u7701\\\\u5404\\\\u5e02\\\\u603b\\\\u548c\",\\n            \"label\": {\\n                \"show\": true,\\n                \"margin\": 8\\n            },\\n            \"map\": \"\\\\u5409\\\\u6797\",\\n            \"data\": [\\n                {\\n                    \"name\": \"\\\\u5409\\\\u6797\\\\u5e02\",\\n                    \"value\": 26916865.08989711\\n                },\\n                {\\n                    \"name\": \"\\\\u56db\\\\u5e73\\\\u5e02\",\\n                    \"value\": 11663524.797433818\\n                },\\n                {\\n                    \"name\": \"\\\\u5ef6\\\\u8fb9\\\\u671d\\\\u9c9c\\\\u65cf\\\\u81ea\\\\u6cbb\\\\u5dde\",\\n                    \"value\": 30133121.78502269\\n                },\\n                {\\n                    \"name\": \"\\\\u677e\\\\u539f\\\\u5e02\",\\n                    \"value\": 21814226.891620584\\n                },\\n                {\\n                    \"name\": \"\\\\u767d\\\\u57ce\\\\u5e02\",\\n                    \"value\": 22856296.59000486\\n                },\\n                {\\n                    \"name\": \"\\\\u767d\\\\u5c71\\\\u5e02\",\\n                    \"value\": 13170487.794540389\\n                },\\n                {\\n                    \"name\": \"\\\\u8fbd\\\\u6e90\\\\u5e02\",\\n                    \"value\": 5495807.698476776\\n                },\\n                {\\n                    \"name\": \"\\\\u901a\\\\u5316\\\\u5e02\",\\n                    \"value\": 14726248.595361669\\n                },\\n                {\\n                    \"name\": \"\\\\u957f\\\\u6625\\\\u5e02\",\\n                    \"value\": 29677065.992870275\\n                }\\n            ],\\n            \"roam\": true,\\n            \"aspectScale\": 0.75,\\n            \"nameProperty\": \"name\",\\n            \"selectedMode\": false,\\n            \"zoom\": 1,\\n            \"zlevel\": 0,\\n            \"z\": 2,\\n            \"seriesLayoutBy\": \"column\",\\n            \"datasetIndex\": 0,\\n            \"mapValueCalculation\": \"sum\",\\n            \"showLegendSymbol\": true,\\n            \"emphasis\": {}\\n        }\\n    ],\\n    \"legend\": [\\n        {\\n            \"data\": [\\n                \"\\\\u5409\\\\u6797\\\\u7701\\\\u5404\\\\u5e02\\\\u603b\\\\u548c\"\\n            ],\\n            \"selected\": {},\\n            \"show\": true,\\n            \"padding\": 5,\\n            \"itemGap\": 10,\\n            \"itemWidth\": 25,\\n            \"itemHeight\": 14,\\n            \"backgroundColor\": \"transparent\",\\n            \"borderColor\": \"#ccc\",\\n            \"borderRadius\": 0,\\n            \"pageButtonItemGap\": 5,\\n            \"pageButtonPosition\": \"end\",\\n            \"pageFormatter\": \"{current}/{total}\",\\n            \"pageIconColor\": \"#2f4554\",\\n            \"pageIconInactiveColor\": \"#aaa\",\\n            \"pageIconSize\": 15,\\n            \"animationDurationUpdate\": 800,\\n            \"selector\": false,\\n            \"selectorPosition\": \"auto\",\\n            \"selectorItemGap\": 7,\\n            \"selectorButtonGap\": 10\\n        }\\n    ],\\n    \"tooltip\": {\\n        \"show\": true,\\n        \"trigger\": \"item\",\\n        \"triggerOn\": \"mousemove|click\",\\n        \"axisPointer\": {\\n            \"type\": \"line\"\\n        },\\n        \"showContent\": true,\\n        \"alwaysShowContent\": false,\\n        \"showDelay\": 0,\\n        \"hideDelay\": 100,\\n        \"enterable\": false,\\n        \"confine\": false,\\n        \"appendToBody\": false,\\n        \"transitionDuration\": 0.4,\\n        \"textStyle\": {\\n            \"fontSize\": 14\\n        },\\n        \"borderWidth\": 0,\\n        \"padding\": 5,\\n        \"order\": \"seriesAsc\"\\n    },\\n    \"title\": [\\n        {\\n            \"show\": true,\\n            \"text\": \"\\\\u5409\\\\u6797\\\\u7701\\\\u5404\\\\u5e02\\\\u603b\\\\u548c\",\\n            \"target\": \"blank\",\\n            \"subtarget\": \"blank\",\\n            \"padding\": 5,\\n            \"itemGap\": 10,\\n            \"textAlign\": \"auto\",\\n            \"textVerticalAlign\": \"auto\",\\n            \"triggerEvent\": false\\n        }\\n    ],\\n    \"visualMap\": {\\n        \"show\": true,\\n        \"type\": \"continuous\",\\n        \"min\": 0,\\n        \"max\": \"5495807.698476776\",\\n        \"inRange\": {\\n            \"color\": [\\n                \"#50a3ba\",\\n                \"#eac763\",\\n                \"#d94e5d\"\\n            ]\\n        },\\n        \"calculable\": true,\\n        \"inverse\": false,\\n        \"splitNumber\": 5,\\n        \"hoverLink\": true,\\n        \"orient\": \"vertical\",\\n        \"padding\": 5,\\n        \"showLabel\": true,\\n        \"itemWidth\": 20,\\n        \"itemHeight\": 140,\\n        \"borderWidth\": 0\\n    }\\n};\\n        chart_9ce7b186a4e74a81aa7b828d5b8bf79b.setOption(option_9ce7b186a4e74a81aa7b828d5b8bf79b);\\n    </script>\\n<br/>                <div id=\"c95aa50a4ea246aab5d82e39e2157581\" class=\"chart-container\" style=\"position: absolute; width: 750.4px; height: 544.4px; top: 27px; left: 712px;\"></div>\\n    <script>\\n        var chart_c95aa50a4ea246aab5d82e39e2157581 = echarts.init(\\n            document.getElementById(\\'c95aa50a4ea246aab5d82e39e2157581\\'), \\'white\\', {renderer: \\'canvas\\'});\\n        var option_c95aa50a4ea246aab5d82e39e2157581 = {\\n    \"animation\": true,\\n    \"animationThreshold\": 2000,\\n    \"animationDuration\": 1000,\\n    \"animationEasing\": \"cubicOut\",\\n    \"animationDelay\": 0,\\n    \"animationDurationUpdate\": 300,\\n    \"animationEasingUpdate\": \"cubicOut\",\\n    \"animationDelayUpdate\": 0,\\n    \"aria\": {\\n        \"enabled\": false\\n    },\\n    \"color\": [\\n        \"#5470c6\",\\n        \"#91cc75\",\\n        \"#fac858\",\\n        \"#ee6666\",\\n        \"#73c0de\",\\n        \"#3ba272\",\\n        \"#fc8452\",\\n        \"#9a60b4\",\\n        \"#ea7ccc\"\\n    ],\\n    \"series\": [\\n        {\\n            \"type\": \"map\",\\n            \"name\": \"\\\\u5409\\\\u6797\\\\u7701\\\\u5404\\\\u5e02\\\\u6700\\\\u5927\\\\u503c\",\\n            \"label\": {\\n                \"show\": true,\\n                \"margin\": 8\\n            },\\n            \"map\": \"\\\\u5409\\\\u6797\",\\n            \"data\": [\\n                {\\n                    \"name\": \"\\\\u5409\\\\u6797\\\\u5e02\",\\n                    \"value\": 67.0999984741211\\n                },\\n                {\\n                    \"name\": \"\\\\u56db\\\\u5e73\\\\u5e02\",\\n                    \"value\": 62.5\\n                },\\n                {\\n                    \"name\": \"\\\\u5ef6\\\\u8fb9\\\\u671d\\\\u9c9c\\\\u65cf\\\\u81ea\\\\u6cbb\\\\u5dde\",\\n                    \"value\": 45.5\\n                },\\n                {\\n                    \"name\": \"\\\\u677e\\\\u539f\\\\u5e02\",\\n                    \"value\": 70.9000015258789\\n                },\\n                {\\n                    \"name\": \"\\\\u767d\\\\u57ce\\\\u5e02\",\\n                    \"value\": 52.2999992370605\\n                },\\n                {\\n                    \"name\": \"\\\\u767d\\\\u5c71\\\\u5e02\",\\n                    \"value\": 49.2000007629394\\n                },\\n                {\\n                    \"name\": \"\\\\u8fbd\\\\u6e90\\\\u5e02\",\\n                    \"value\": 56.9000015258789\\n                },\\n                {\\n                    \"name\": \"\\\\u901a\\\\u5316\\\\u5e02\",\\n                    \"value\": 53.7000007629394\\n                },\\n                {\\n                    \"name\": \"\\\\u957f\\\\u6625\\\\u5e02\",\\n                    \"value\": 71.9000015258789\\n                }\\n            ],\\n            \"roam\": true,\\n            \"aspectScale\": 0.75,\\n            \"nameProperty\": \"name\",\\n            \"selectedMode\": false,\\n            \"zoom\": 1,\\n            \"zlevel\": 0,\\n            \"z\": 2,\\n            \"seriesLayoutBy\": \"column\",\\n            \"datasetIndex\": 0,\\n            \"mapValueCalculation\": \"sum\",\\n            \"showLegendSymbol\": true,\\n            \"emphasis\": {}\\n        }\\n    ],\\n    \"legend\": [\\n        {\\n            \"data\": [\\n                \"\\\\u5409\\\\u6797\\\\u7701\\\\u5404\\\\u5e02\\\\u6700\\\\u5927\\\\u503c\"\\n            ],\\n            \"selected\": {},\\n            \"show\": true,\\n            \"padding\": 5,\\n            \"itemGap\": 10,\\n            \"itemWidth\": 25,\\n            \"itemHeight\": 14,\\n            \"backgroundColor\": \"transparent\",\\n            \"borderColor\": \"#ccc\",\\n            \"borderRadius\": 0,\\n            \"pageButtonItemGap\": 5,\\n            \"pageButtonPosition\": \"end\",\\n            \"pageFormatter\": \"{current}/{total}\",\\n            \"pageIconColor\": \"#2f4554\",\\n            \"pageIconInactiveColor\": \"#aaa\",\\n            \"pageIconSize\": 15,\\n            \"animationDurationUpdate\": 800,\\n            \"selector\": false,\\n            \"selectorPosition\": \"auto\",\\n            \"selectorItemGap\": 7,\\n            \"selectorButtonGap\": 10\\n        }\\n    ],\\n    \"tooltip\": {\\n        \"show\": true,\\n        \"trigger\": \"item\",\\n        \"triggerOn\": \"mousemove|click\",\\n        \"axisPointer\": {\\n            \"type\": \"line\"\\n        },\\n        \"showContent\": true,\\n        \"alwaysShowContent\": false,\\n        \"showDelay\": 0,\\n        \"hideDelay\": 100,\\n        \"enterable\": false,\\n        \"confine\": false,\\n        \"appendToBody\": false,\\n        \"transitionDuration\": 0.4,\\n        \"textStyle\": {\\n            \"fontSize\": 14\\n        },\\n        \"borderWidth\": 0,\\n        \"padding\": 5,\\n        \"order\": \"seriesAsc\"\\n    },\\n    \"title\": [\\n        {\\n            \"show\": true,\\n            \"text\": \"\\\\u5409\\\\u6797\\\\u7701\\\\u5404\\\\u5e02\\\\u6700\\\\u5927\\\\u503c\",\\n            \"target\": \"blank\",\\n            \"subtarget\": \"blank\",\\n            \"padding\": 5,\\n            \"itemGap\": 10,\\n            \"textAlign\": \"auto\",\\n            \"textVerticalAlign\": \"auto\",\\n            \"triggerEvent\": false\\n        }\\n    ],\\n    \"visualMap\": {\\n        \"show\": true,\\n        \"type\": \"continuous\",\\n        \"min\": 0,\\n        \"max\": \"71.9000015258789\",\\n        \"inRange\": {\\n            \"color\": [\\n                \"#50a3ba\",\\n                \"#eac763\",\\n                \"#d94e5d\"\\n            ]\\n        },\\n        \"calculable\": true,\\n        \"inverse\": false,\\n        \"splitNumber\": 5,\\n        \"hoverLink\": true,\\n        \"orient\": \"vertical\",\\n        \"padding\": 5,\\n        \"showLabel\": true,\\n        \"itemWidth\": 20,\\n        \"itemHeight\": 140,\\n        \"borderWidth\": 0\\n    }\\n};\\n        chart_c95aa50a4ea246aab5d82e39e2157581.setOption(option_c95aa50a4ea246aab5d82e39e2157581);\\n    </script>\\n<br/>                <div id=\"580baac770fb4aa58c92698e1e91d0d9\" class=\"chart-container\" style=\"position: absolute; width: 748.4px; height: 461.4px; top: 579.7999877929688px; left: 742px;\"></div>\\n    <script>\\n        var chart_580baac770fb4aa58c92698e1e91d0d9 = echarts.init(\\n            document.getElementById(\\'580baac770fb4aa58c92698e1e91d0d9\\'), \\'white\\', {renderer: \\'canvas\\'});\\n        var option_580baac770fb4aa58c92698e1e91d0d9 = {\\n    \"animation\": true,\\n    \"animationThreshold\": 2000,\\n    \"animationDuration\": 1000,\\n    \"animationEasing\": \"cubicOut\",\\n    \"animationDelay\": 0,\\n    \"animationDurationUpdate\": 300,\\n    \"animationEasingUpdate\": \"cubicOut\",\\n    \"animationDelayUpdate\": 0,\\n    \"aria\": {\\n        \"enabled\": false\\n    },\\n    \"color\": [\\n        \"#5470c6\",\\n        \"#91cc75\",\\n        \"#fac858\",\\n        \"#ee6666\",\\n        \"#73c0de\",\\n        \"#3ba272\",\\n        \"#fc8452\",\\n        \"#9a60b4\",\\n        \"#ea7ccc\"\\n    ],\\n    \"series\": [\\n        {\\n            \"type\": \"map\",\\n            \"name\": \"\\\\u5409\\\\u6797\\\\u7701\\\\u5404\\\\u5e02\\\\u6700\\\\u5c0f\\\\u503c\",\\n            \"label\": {\\n                \"show\": true,\\n                \"margin\": 8\\n            },\\n            \"map\": \"\\\\u5409\\\\u6797\",\\n            \"data\": [\\n                {\\n                    \"name\": \"\\\\u5409\\\\u6797\\\\u5e02\",\\n                    \"value\": 15.6000003814697\\n                },\\n                {\\n                    \"name\": \"\\\\u56db\\\\u5e73\\\\u5e02\",\\n                    \"value\": 26.3999996185302\\n                },\\n                {\\n                    \"name\": \"\\\\u5ef6\\\\u8fb9\\\\u671d\\\\u9c9c\\\\u65cf\\\\u81ea\\\\u6cbb\\\\u5dde\",\\n                    \"value\": 12.5\\n                },\\n                {\\n                    \"name\": \"\\\\u677e\\\\u539f\\\\u5e02\",\\n                    \"value\": 20.2999992370605\\n                },\\n                {\\n                    \"name\": \"\\\\u767d\\\\u57ce\\\\u5e02\",\\n                    \"value\": 15.6000003814697\\n                },\\n                {\\n                    \"name\": \"\\\\u767d\\\\u5c71\\\\u5e02\",\\n                    \"value\": 14.1999998092651\\n                },\\n                {\\n                    \"name\": \"\\\\u8fbd\\\\u6e90\\\\u5e02\",\\n                    \"value\": 25.6000003814697\\n                },\\n                {\\n                    \"name\": \"\\\\u901a\\\\u5316\\\\u5e02\",\\n                    \"value\": 17.2999992370605\\n                },\\n                {\\n                    \"name\": \"\\\\u957f\\\\u6625\\\\u5e02\",\\n                    \"value\": 26.7000007629394\\n                }\\n            ],\\n            \"roam\": true,\\n            \"aspectScale\": 0.75,\\n            \"nameProperty\": \"name\",\\n            \"selectedMode\": false,\\n            \"zoom\": 1,\\n            \"zlevel\": 0,\\n            \"z\": 2,\\n            \"seriesLayoutBy\": \"column\",\\n            \"datasetIndex\": 0,\\n            \"mapValueCalculation\": \"sum\",\\n            \"showLegendSymbol\": true,\\n            \"emphasis\": {}\\n        }\\n    ],\\n    \"legend\": [\\n        {\\n            \"data\": [\\n                \"\\\\u5409\\\\u6797\\\\u7701\\\\u5404\\\\u5e02\\\\u6700\\\\u5c0f\\\\u503c\"\\n            ],\\n            \"selected\": {},\\n            \"show\": true,\\n            \"padding\": 5,\\n            \"itemGap\": 10,\\n            \"itemWidth\": 25,\\n            \"itemHeight\": 14,\\n            \"backgroundColor\": \"transparent\",\\n            \"borderColor\": \"#ccc\",\\n            \"borderRadius\": 0,\\n            \"pageButtonItemGap\": 5,\\n            \"pageButtonPosition\": \"end\",\\n            \"pageFormatter\": \"{current}/{total}\",\\n            \"pageIconColor\": \"#2f4554\",\\n            \"pageIconInactiveColor\": \"#aaa\",\\n            \"pageIconSize\": 15,\\n            \"animationDurationUpdate\": 800,\\n            \"selector\": false,\\n            \"selectorPosition\": \"auto\",\\n            \"selectorItemGap\": 7,\\n            \"selectorButtonGap\": 10\\n        }\\n    ],\\n    \"tooltip\": {\\n        \"show\": true,\\n        \"trigger\": \"item\",\\n        \"triggerOn\": \"mousemove|click\",\\n        \"axisPointer\": {\\n            \"type\": \"line\"\\n        },\\n        \"showContent\": true,\\n        \"alwaysShowContent\": false,\\n        \"showDelay\": 0,\\n        \"hideDelay\": 100,\\n        \"enterable\": false,\\n        \"confine\": false,\\n        \"appendToBody\": false,\\n        \"transitionDuration\": 0.4,\\n        \"textStyle\": {\\n            \"fontSize\": 14\\n        },\\n        \"borderWidth\": 0,\\n        \"padding\": 5,\\n        \"order\": \"seriesAsc\"\\n    },\\n    \"title\": [\\n        {\\n            \"show\": true,\\n            \"text\": \"\\\\u5409\\\\u6797\\\\u7701\\\\u5404\\\\u5e02\\\\u6700\\\\u5c0f\\\\u503c\",\\n            \"target\": \"blank\",\\n            \"subtarget\": \"blank\",\\n            \"padding\": 5,\\n            \"itemGap\": 10,\\n            \"textAlign\": \"auto\",\\n            \"textVerticalAlign\": \"auto\",\\n            \"triggerEvent\": false\\n        }\\n    ],\\n    \"visualMap\": {\\n        \"show\": true,\\n        \"type\": \"continuous\",\\n        \"min\": 0,\\n        \"max\": \"26.7000007629394\",\\n        \"inRange\": {\\n            \"color\": [\\n                \"#50a3ba\",\\n                \"#eac763\",\\n                \"#d94e5d\"\\n            ]\\n        },\\n        \"calculable\": true,\\n        \"inverse\": false,\\n        \"splitNumber\": 5,\\n        \"hoverLink\": true,\\n        \"orient\": \"vertical\",\\n        \"padding\": 5,\\n        \"showLabel\": true,\\n        \"itemWidth\": 20,\\n        \"itemHeight\": 140,\\n        \"borderWidth\": 0\\n    }\\n};\\n        chart_580baac770fb4aa58c92698e1e91d0d9.setOption(option_580baac770fb4aa58c92698e1e91d0d9);\\n    </script>\\n<br/>                <div id=\"830bd4d7534846ee9fd1cfd9181b4f28\" class=\"chart-container\" style=\"position: absolute; width: 900.4px; height: 500.4px; top: 1052.5999755859375px; left: 267px;\"></div>\\n    <script>\\n        var chart_830bd4d7534846ee9fd1cfd9181b4f28 = echarts.init(\\n            document.getElementById(\\'830bd4d7534846ee9fd1cfd9181b4f28\\'), \\'white\\', {renderer: \\'canvas\\'});\\n        var option_830bd4d7534846ee9fd1cfd9181b4f28 = {\\n    \"animation\": true,\\n    \"animationThreshold\": 2000,\\n    \"animationDuration\": 1000,\\n    \"animationEasing\": \"cubicOut\",\\n    \"animationDelay\": 0,\\n    \"animationDurationUpdate\": 300,\\n    \"animationEasingUpdate\": \"cubicOut\",\\n    \"animationDelayUpdate\": 0,\\n    \"aria\": {\\n        \"enabled\": false\\n    },\\n    \"color\": [\\n        \"#5470c6\",\\n        \"#91cc75\",\\n        \"#fac858\",\\n        \"#ee6666\",\\n        \"#73c0de\",\\n        \"#3ba272\",\\n        \"#fc8452\",\\n        \"#9a60b4\",\\n        \"#ea7ccc\"\\n    ],\\n    \"series\": [\\n        {\\n            \"type\": \"map\",\\n            \"name\": \"\\\\u5409\\\\u6797\\\\u7701\\\\u5404\\\\u5e02\\\\u6807\\\\u51c6\\\\u5dee\",\\n            \"label\": {\\n                \"show\": true,\\n                \"margin\": 8\\n            },\\n            \"map\": \"\\\\u5409\\\\u6797\",\\n            \"data\": [\\n                {\\n                    \"name\": \"\\\\u5409\\\\u6797\\\\u5e02\",\\n                    \"value\": 7.447344703410868\\n                },\\n                {\\n                    \"name\": \"\\\\u56db\\\\u5e73\\\\u5e02\",\\n                    \"value\": 6.705652160570715\\n                },\\n                {\\n                    \"name\": \"\\\\u5ef6\\\\u8fb9\\\\u671d\\\\u9c9c\\\\u65cf\\\\u81ea\\\\u6cbb\\\\u5dde\",\\n                    \"value\": 4.26294581065264\\n                },\\n                {\\n                    \"name\": \"\\\\u677e\\\\u539f\\\\u5e02\",\\n                    \"value\": 7.243447357087288\\n                },\\n                {\\n                    \"name\": \"\\\\u767d\\\\u57ce\\\\u5e02\",\\n                    \"value\": 6.313935864797969\\n                },\\n                {\\n                    \"name\": \"\\\\u767d\\\\u5c71\\\\u5e02\",\\n                    \"value\": 6.4546990000843705\\n                },\\n                {\\n                    \"name\": \"\\\\u8fbd\\\\u6e90\\\\u5e02\",\\n                    \"value\": 5.963057768500395\\n                },\\n                {\\n                    \"name\": \"\\\\u901a\\\\u5316\\\\u5e02\",\\n                    \"value\": 6.215532823819551\\n                },\\n                {\\n                    \"name\": \"\\\\u957f\\\\u6625\\\\u5e02\",\\n                    \"value\": 7.88142105046028\\n                }\\n            ],\\n            \"roam\": true,\\n            \"aspectScale\": 0.75,\\n            \"nameProperty\": \"name\",\\n            \"selectedMode\": false,\\n            \"zoom\": 1,\\n            \"zlevel\": 0,\\n            \"z\": 2,\\n            \"seriesLayoutBy\": \"column\",\\n            \"datasetIndex\": 0,\\n            \"mapValueCalculation\": \"sum\",\\n            \"showLegendSymbol\": true,\\n            \"emphasis\": {}\\n        }\\n    ],\\n    \"legend\": [\\n        {\\n            \"data\": [\\n                \"\\\\u5409\\\\u6797\\\\u7701\\\\u5404\\\\u5e02\\\\u6807\\\\u51c6\\\\u5dee\"\\n            ],\\n            \"selected\": {},\\n            \"show\": true,\\n            \"padding\": 5,\\n            \"itemGap\": 10,\\n            \"itemWidth\": 25,\\n            \"itemHeight\": 14,\\n            \"backgroundColor\": \"transparent\",\\n            \"borderColor\": \"#ccc\",\\n            \"borderRadius\": 0,\\n            \"pageButtonItemGap\": 5,\\n            \"pageButtonPosition\": \"end\",\\n            \"pageFormatter\": \"{current}/{total}\",\\n            \"pageIconColor\": \"#2f4554\",\\n            \"pageIconInactiveColor\": \"#aaa\",\\n            \"pageIconSize\": 15,\\n            \"animationDurationUpdate\": 800,\\n            \"selector\": false,\\n            \"selectorPosition\": \"auto\",\\n            \"selectorItemGap\": 7,\\n            \"selectorButtonGap\": 10\\n        }\\n    ],\\n    \"tooltip\": {\\n        \"show\": true,\\n        \"trigger\": \"item\",\\n        \"triggerOn\": \"mousemove|click\",\\n        \"axisPointer\": {\\n            \"type\": \"line\"\\n        },\\n        \"showContent\": true,\\n        \"alwaysShowContent\": false,\\n        \"showDelay\": 0,\\n        \"hideDelay\": 100,\\n        \"enterable\": false,\\n        \"confine\": false,\\n        \"appendToBody\": false,\\n        \"transitionDuration\": 0.4,\\n        \"textStyle\": {\\n            \"fontSize\": 14\\n        },\\n        \"borderWidth\": 0,\\n        \"padding\": 5,\\n        \"order\": \"seriesAsc\"\\n    },\\n    \"title\": [\\n        {\\n            \"show\": true,\\n            \"text\": \"\\\\u5409\\\\u6797\\\\u7701\\\\u5404\\\\u5e02\\\\u6807\\\\u51c6\\\\u5dee\",\\n            \"target\": \"blank\",\\n            \"subtarget\": \"blank\",\\n            \"padding\": 5,\\n            \"itemGap\": 10,\\n            \"textAlign\": \"auto\",\\n            \"textVerticalAlign\": \"auto\",\\n            \"triggerEvent\": false\\n        }\\n    ],\\n    \"visualMap\": {\\n        \"show\": true,\\n        \"type\": \"continuous\",\\n        \"min\": 0,\\n        \"max\": \"7.88142105046028\",\\n        \"inRange\": {\\n            \"color\": [\\n                \"#50a3ba\",\\n                \"#eac763\",\\n                \"#d94e5d\"\\n            ]\\n        },\\n        \"calculable\": true,\\n        \"inverse\": false,\\n        \"splitNumber\": 5,\\n        \"hoverLink\": true,\\n        \"orient\": \"vertical\",\\n        \"padding\": 5,\\n        \"showLabel\": true,\\n        \"itemWidth\": 20,\\n        \"itemHeight\": 140,\\n        \"borderWidth\": 0\\n    }\\n};\\n        chart_830bd4d7534846ee9fd1cfd9181b4f28.setOption(option_830bd4d7534846ee9fd1cfd9181b4f28);\\n    </script>\\n<br/>    </div>\\n    <script>\\n            $(\\'#6e128223e95242c1b36e7ef85c284803\\').css(\\'border-style\\', \\'dashed\\').css(\\'border-width\\', \\'0px\\');$(\"#6e128223e95242c1b36e7ef85c284803>div:nth-child(1)\").width(\"100%\").height(\"100%\");\\n            new ResizeSensor(jQuery(\\'#6e128223e95242c1b36e7ef85c284803\\'), function() { chart_6e128223e95242c1b36e7ef85c284803.resize()});\\n            $(\\'#9ce7b186a4e74a81aa7b828d5b8bf79b\\').css(\\'border-style\\', \\'dashed\\').css(\\'border-width\\', \\'0px\\');$(\"#9ce7b186a4e74a81aa7b828d5b8bf79b>div:nth-child(1)\").width(\"100%\").height(\"100%\");\\n            new ResizeSensor(jQuery(\\'#9ce7b186a4e74a81aa7b828d5b8bf79b\\'), function() { chart_9ce7b186a4e74a81aa7b828d5b8bf79b.resize()});\\n            $(\\'#c95aa50a4ea246aab5d82e39e2157581\\').css(\\'border-style\\', \\'dashed\\').css(\\'border-width\\', \\'0px\\');$(\"#c95aa50a4ea246aab5d82e39e2157581>div:nth-child(1)\").width(\"100%\").height(\"100%\");\\n            new ResizeSensor(jQuery(\\'#c95aa50a4ea246aab5d82e39e2157581\\'), function() { chart_c95aa50a4ea246aab5d82e39e2157581.resize()});\\n            $(\\'#580baac770fb4aa58c92698e1e91d0d9\\').css(\\'border-style\\', \\'dashed\\').css(\\'border-width\\', \\'0px\\');$(\"#580baac770fb4aa58c92698e1e91d0d9>div:nth-child(1)\").width(\"100%\").height(\"100%\");\\n            new ResizeSensor(jQuery(\\'#580baac770fb4aa58c92698e1e91d0d9\\'), function() { chart_580baac770fb4aa58c92698e1e91d0d9.resize()});\\n            $(\\'#830bd4d7534846ee9fd1cfd9181b4f28\\').css(\\'border-style\\', \\'dashed\\').css(\\'border-width\\', \\'0px\\');$(\"#830bd4d7534846ee9fd1cfd9181b4f28>div:nth-child(1)\").width(\"100%\").height(\"100%\");\\n            new ResizeSensor(jQuery(\\'#830bd4d7534846ee9fd1cfd9181b4f28\\'), function() { chart_830bd4d7534846ee9fd1cfd9181b4f28.resize()});\\n            var charts_id = [\\'6e128223e95242c1b36e7ef85c284803\\',\\'9ce7b186a4e74a81aa7b828d5b8bf79b\\',\\'c95aa50a4ea246aab5d82e39e2157581\\',\\'580baac770fb4aa58c92698e1e91d0d9\\',\\'830bd4d7534846ee9fd1cfd9181b4f28\\'];\\nfunction downloadCfg () {\\n    const fileName = \\'chart_config.json\\'\\n    let downLink = document.createElement(\\'a\\')\\n    downLink.download = fileName\\n\\n    let result = []\\n    for(let i=0; i<charts_id.length; i++) {\\n        chart = $(\\'#\\'+charts_id[i])\\n        result.push({\\n            cid: charts_id[i],\\n            width: chart.css(\"width\"),\\n            height: chart.css(\"height\"),\\n            top: chart.offset().top + \"px\",\\n            left: chart.offset().left + \"px\"\\n        })\\n    }\\n\\n    let blob = new Blob([JSON.stringify(result)])\\n    downLink.href = URL.createObjectURL(blob)\\n    document.body.appendChild(downLink)\\n    downLink.click()\\n    document.body.removeChild(downLink)\\n}\\n    </script>\\n</body>\\n</html>\\n'"
      ]
     },
     "execution_count": 38,
     "metadata": {},
     "output_type": "execute_result"
    }
   ],
   "source": [
    "# 使用刚才生成的布局配置文件chart_config.json，来重新生成一个新的Page页面(html文档)\n",
    "Page.save_resize_html(\"../../文件/page/film/大屏可视化/③可视化大屏.html\", cfg_file=\"../../文件/page/film/大屏可视化/chart_config3.json\", dest=\"../../文件/page/film/大屏可视化/③可视化大屏③.html\")"
   ]
  },
  {
   "cell_type": "code",
   "execution_count": 41,
   "id": "08c40793",
   "metadata": {},
   "outputs": [
    {
     "data": {
      "text/plain": [
       "'E:\\\\个人文件\\\\Python\\\\进阶项目\\\\①数据分析项目大全\\\\2024年上半年项目合集\\\\基于Hadoop的PM2.5分布可视化系统设计\\\\文件\\\\page\\\\film\\\\大屏可视化\\\\④可视化大屏.html'"
      ]
     },
     "execution_count": 41,
     "metadata": {},
     "output_type": "execute_result"
    }
   ],
   "source": [
    "from pyecharts.charts import Bar,Pie,Page\n",
    "page = Page(page_title='④可视化大屏',layout=Page.DraggablePageLayout)  # 生成可拖拽的页面布局\n",
    "page.add(\n",
    "    a16(),\n",
    "    a17(),\n",
    "    a18(),\n",
    "    a19(),\n",
    "    a20(),\n",
    ")   \n",
    "page.render(\"../../文件/page/film/大屏可视化/④可视化大屏.html\")  # 生成一个HTML页面"
   ]
  },
  {
   "cell_type": "code",
   "execution_count": 42,
   "id": "0a10deb3",
   "metadata": {},
   "outputs": [
    {
     "data": {
      "text/plain": [
       "'<!DOCTYPE html>\\n<html>\\n<head>\\n    <meta charset=\"UTF-8\">\\n    <title>④可视化大屏</title>\\n                <script type=\"text/javascript\" src=\"https://assets.pyecharts.org/assets/v5/echarts.min.js\"></script>\\n            <script type=\"text/javascript\" src=\"https://assets.pyecharts.org/assets/v5/themes/macarons.js\"></script>\\n            <script type=\"text/javascript\" src=\"https://assets.pyecharts.org/assets/v5/themes/vintage.js\"></script>\\n            <script type=\"text/javascript\" src=\"https://assets.pyecharts.org/assets/v5/themes/chalk.js\"></script>\\n            <script type=\"text/javascript\" src=\"https://assets.pyecharts.org/assets/v5/jquery.min.js\"></script>\\n            <script type=\"text/javascript\" src=\"https://assets.pyecharts.org/assets/v5/jquery-ui.min.js\"></script>\\n            <script type=\"text/javascript\" src=\"https://assets.pyecharts.org/assets/v5/ResizeSensor.js\"></script>\\n\\n            <link rel=\"stylesheet\"  href=\"https://assets.pyecharts.org/assets/v5/jquery-ui.css\">\\n\\n</head>\\n<body >\\n    <style>.box {  } </style>\\n        \\n    <div class=\"box\">\\n                <div id=\"0801780dc56f483ea8f6ca41ecad088e\" class=\"chart-container\" style=\"position: absolute; width: 755.4px; height: 432.4px; top: 31.399999618530273px; left: 8px;\"></div>\\n    <script>\\n        var chart_0801780dc56f483ea8f6ca41ecad088e = echarts.init(\\n            document.getElementById(\\'0801780dc56f483ea8f6ca41ecad088e\\'), \\'light\\', {renderer: \\'canvas\\'});\\n        var option_0801780dc56f483ea8f6ca41ecad088e = {\\n    \"animation\": true,\\n    \"animationThreshold\": 2000,\\n    \"animationDuration\": 1000,\\n    \"animationEasing\": \"cubicOut\",\\n    \"animationDelay\": 0,\\n    \"animationDurationUpdate\": 300,\\n    \"animationEasingUpdate\": \"cubicOut\",\\n    \"animationDelayUpdate\": 0,\\n    \"aria\": {\\n        \"enabled\": false\\n    },\\n    \"series\": [\\n        {\\n            \"type\": \"line\",\\n            \"name\": \"\\\\u5e74\\\\u5ea6\\\\u5747\\\\u503c\",\\n            \"connectNulls\": false,\\n            \"xAxisIndex\": 0,\\n            \"symbolSize\": 4,\\n            \"showSymbol\": true,\\n            \"smooth\": false,\\n            \"clip\": true,\\n            \"step\": false,\\n            \"data\": [\\n                [\\n                    \"1998.0\",\\n                    37.99\\n                ],\\n                [\\n                    \"1999.0\",\\n                    31.68\\n                ],\\n                [\\n                    \"2000.0\",\\n                    38.54\\n                ],\\n                [\\n                    \"2001.0\",\\n                    41.3\\n                ],\\n                [\\n                    \"2002.0\",\\n                    41.9\\n                ],\\n                [\\n                    \"2003.0\",\\n                    48.57\\n                ],\\n                [\\n                    \"2004.0\",\\n                    38.27\\n                ],\\n                [\\n                    \"2005.0\",\\n                    40.75\\n                ],\\n                [\\n                    \"2006.0\",\\n                    46.87\\n                ],\\n                [\\n                    \"2007.0\",\\n                    48.06\\n                ],\\n                [\\n                    \"2008.0\",\\n                    51.18\\n                ],\\n                [\\n                    \"2009.0\",\\n                    42.43\\n                ],\\n                [\\n                    \"2010.0\",\\n                    43.3\\n                ],\\n                [\\n                    \"2011.0\",\\n                    55.29\\n                ],\\n                [\\n                    \"2012.0\",\\n                    51.05\\n                ],\\n                [\\n                    \"2013.0\",\\n                    56.48\\n                ],\\n                [\\n                    \"2014.0\",\\n                    58.19\\n                ],\\n                [\\n                    \"2015.0\",\\n                    60.14\\n                ],\\n                [\\n                    \"2016.0\",\\n                    43.73\\n                ],\\n                [\\n                    \"2017.0\",\\n                    46.59\\n                ],\\n                [\\n                    \"2018.0\",\\n                    35.21\\n                ],\\n                [\\n                    \"2019.0\",\\n                    37.29\\n                ],\\n                [\\n                    \"2020.0\",\\n                    40.6\\n                ],\\n                [\\n                    \"2021.0\",\\n                    33.61\\n                ]\\n            ],\\n            \"hoverAnimation\": true,\\n            \"label\": {\\n                \"show\": true,\\n                \"margin\": 8\\n            },\\n            \"logBase\": 10,\\n            \"seriesLayoutBy\": \"column\",\\n            \"lineStyle\": {\\n                \"show\": true,\\n                \"width\": 1,\\n                \"opacity\": 1,\\n                \"curveness\": 0,\\n                \"type\": \"solid\"\\n            },\\n            \"areaStyle\": {\\n                \"opacity\": 0\\n            },\\n            \"zlevel\": 0,\\n            \"z\": 0\\n        }\\n    ],\\n    \"legend\": [\\n        {\\n            \"data\": [\\n                \"\\\\u5e74\\\\u5ea6\\\\u5747\\\\u503c\"\\n            ],\\n            \"selected\": {},\\n            \"show\": true,\\n            \"padding\": 5,\\n            \"itemGap\": 10,\\n            \"itemWidth\": 25,\\n            \"itemHeight\": 14,\\n            \"backgroundColor\": \"transparent\",\\n            \"borderColor\": \"#ccc\",\\n            \"borderRadius\": 0,\\n            \"pageButtonItemGap\": 5,\\n            \"pageButtonPosition\": \"end\",\\n            \"pageFormatter\": \"{current}/{total}\",\\n            \"pageIconColor\": \"#2f4554\",\\n            \"pageIconInactiveColor\": \"#aaa\",\\n            \"pageIconSize\": 15,\\n            \"animationDurationUpdate\": 800,\\n            \"selector\": false,\\n            \"selectorPosition\": \"auto\",\\n            \"selectorItemGap\": 7,\\n            \"selectorButtonGap\": 10\\n        }\\n    ],\\n    \"tooltip\": {\\n        \"show\": true,\\n        \"trigger\": \"item\",\\n        \"triggerOn\": \"mousemove|click\",\\n        \"axisPointer\": {\\n            \"type\": \"line\"\\n        },\\n        \"showContent\": true,\\n        \"alwaysShowContent\": false,\\n        \"showDelay\": 0,\\n        \"hideDelay\": 100,\\n        \"enterable\": false,\\n        \"confine\": false,\\n        \"appendToBody\": false,\\n        \"transitionDuration\": 0.4,\\n        \"textStyle\": {\\n            \"fontSize\": 14\\n        },\\n        \"borderWidth\": 0,\\n        \"padding\": 5,\\n        \"order\": \"seriesAsc\"\\n    },\\n    \"xAxis\": [\\n        {\\n            \"type\": \"category\",\\n            \"show\": true,\\n            \"scale\": false,\\n            \"nameLocation\": \"end\",\\n            \"nameGap\": 15,\\n            \"gridIndex\": 0,\\n            \"inverse\": false,\\n            \"offset\": 0,\\n            \"splitNumber\": 5,\\n            \"minInterval\": 0,\\n            \"splitLine\": {\\n                \"show\": true,\\n                \"lineStyle\": {\\n                    \"show\": true,\\n                    \"width\": 1,\\n                    \"opacity\": 1,\\n                    \"curveness\": 0,\\n                    \"type\": \"solid\"\\n                }\\n            },\\n            \"data\": [\\n                \"1998.0\",\\n                \"1999.0\",\\n                \"2000.0\",\\n                \"2001.0\",\\n                \"2002.0\",\\n                \"2003.0\",\\n                \"2004.0\",\\n                \"2005.0\",\\n                \"2006.0\",\\n                \"2007.0\",\\n                \"2008.0\",\\n                \"2009.0\",\\n                \"2010.0\",\\n                \"2011.0\",\\n                \"2012.0\",\\n                \"2013.0\",\\n                \"2014.0\",\\n                \"2015.0\",\\n                \"2016.0\",\\n                \"2017.0\",\\n                \"2018.0\",\\n                \"2019.0\",\\n                \"2020.0\",\\n                \"2021.0\"\\n            ]\\n        }\\n    ],\\n    \"yAxis\": [\\n        {\\n            \"type\": \"value\",\\n            \"show\": true,\\n            \"scale\": false,\\n            \"nameLocation\": \"end\",\\n            \"nameGap\": 15,\\n            \"gridIndex\": 0,\\n            \"inverse\": false,\\n            \"offset\": 0,\\n            \"splitNumber\": 5,\\n            \"minInterval\": 0,\\n            \"splitLine\": {\\n                \"show\": true,\\n                \"lineStyle\": {\\n                    \"show\": true,\\n                    \"width\": 1,\\n                    \"opacity\": 1,\\n                    \"curveness\": 0,\\n                    \"type\": \"solid\"\\n                }\\n            }\\n        }\\n    ],\\n    \"title\": [\\n        {\\n            \"show\": true,\\n            \"text\": \"\\\\u957f\\\\u6625\\\\u5e02\\\\u5e74\\\\u5ea6\\\\u5747\\\\u503c\",\\n            \"target\": \"blank\",\\n            \"subtarget\": \"blank\",\\n            \"padding\": 5,\\n            \"itemGap\": 10,\\n            \"textAlign\": \"auto\",\\n            \"textVerticalAlign\": \"auto\",\\n            \"triggerEvent\": false\\n        }\\n    ]\\n};\\n        chart_0801780dc56f483ea8f6ca41ecad088e.setOption(option_0801780dc56f483ea8f6ca41ecad088e);\\n    </script>\\n<br/>                <div id=\"48c1205a9a1e487293a57df3a0be5e8b\" class=\"chart-container\" style=\"position: absolute; width: 770.4px; height: 435.4px; top: 29.200000762939453px; left: 686px;\"></div>\\n    <script>\\n        var chart_48c1205a9a1e487293a57df3a0be5e8b = echarts.init(\\n            document.getElementById(\\'48c1205a9a1e487293a57df3a0be5e8b\\'), \\'macarons\\', {renderer: \\'canvas\\'});\\n        var option_48c1205a9a1e487293a57df3a0be5e8b = {\\n    \"animation\": true,\\n    \"animationThreshold\": 2000,\\n    \"animationDuration\": 1000,\\n    \"animationEasing\": \"cubicOut\",\\n    \"animationDelay\": 0,\\n    \"animationDurationUpdate\": 300,\\n    \"animationEasingUpdate\": \"cubicOut\",\\n    \"animationDelayUpdate\": 0,\\n    \"aria\": {\\n        \"enabled\": false\\n    },\\n    \"series\": [\\n        {\\n            \"type\": \"bar\",\\n            \"name\": \"\\\\u5e74\\\\u5ea6\\\\u603b\\\\u548c\",\\n            \"legendHoverLink\": true,\\n            \"data\": [\\n                1057788.7997055028,\\n                877956.2986965154,\\n                1054965.5000572177,\\n                1122915.2001571637,\\n                1158186.5998077367,\\n                1350611.9997787452,\\n                1063902.9999275194,\\n                1126480.6993637066,\\n                1297779.7996711703,\\n                1334780.199726102,\\n                1428491.1998825043,\\n                1154771.2994766207,\\n                1208146.899906155,\\n                1534095.1995315524,\\n                1429538.099689481,\\n                1564783.6998176535,\\n                1604110.7997322064,\\n                1686013.7002525297,\\n                1212537.599590298,\\n                1306932.599643705,\\n                978101.1996517164,\\n                1048804.600032804,\\n                1132607.599761961,\\n                942763.3990097038\\n            ],\\n            \"realtimeSort\": false,\\n            \"showBackground\": false,\\n            \"stackStrategy\": \"samesign\",\\n            \"cursor\": \"pointer\",\\n            \"barMinHeight\": 0,\\n            \"barCategoryGap\": \"20%\",\\n            \"barGap\": \"30%\",\\n            \"large\": false,\\n            \"largeThreshold\": 400,\\n            \"seriesLayoutBy\": \"column\",\\n            \"datasetIndex\": 0,\\n            \"clip\": true,\\n            \"zlevel\": 0,\\n            \"z\": 2,\\n            \"label\": {\\n                \"show\": false,\\n                \"margin\": 8\\n            },\\n            \"markLine\": {\\n                \"silent\": false,\\n                \"precision\": 2,\\n                \"label\": {\\n                    \"show\": true,\\n                    \"position\": \"end\",\\n                    \"margin\": 8,\\n                    \"formatter\": function(params){return params.value.toFixed(2);}\\n                },\\n                \"data\": [\\n                    {\\n                        \"name\": \"\\\\u5e73\\\\u5747\\\\u503c\",\\n                        \"type\": \"average\"\\n                    },\\n                    {\\n                        \"name\": \"\\\\u6700\\\\u5927\\\\u503c\",\\n                        \"type\": \"max\"\\n                    },\\n                    {\\n                        \"name\": \"\\\\u6700\\\\u5c0f\\\\u503c\",\\n                        \"type\": \"min\"\\n                    }\\n                ]\\n            },\\n            \"rippleEffect\": {\\n                \"show\": true,\\n                \"brushType\": \"stroke\",\\n                \"scale\": 2.5,\\n                \"period\": 4\\n            }\\n        }\\n    ],\\n    \"legend\": [\\n        {\\n            \"data\": [\\n                \"\\\\u5e74\\\\u5ea6\\\\u603b\\\\u548c\"\\n            ],\\n            \"selected\": {},\\n            \"show\": true,\\n            \"padding\": 5,\\n            \"itemGap\": 10,\\n            \"itemWidth\": 25,\\n            \"itemHeight\": 14,\\n            \"backgroundColor\": \"transparent\",\\n            \"borderColor\": \"#ccc\",\\n            \"borderRadius\": 0,\\n            \"pageButtonItemGap\": 5,\\n            \"pageButtonPosition\": \"end\",\\n            \"pageFormatter\": \"{current}/{total}\",\\n            \"pageIconColor\": \"#2f4554\",\\n            \"pageIconInactiveColor\": \"#aaa\",\\n            \"pageIconSize\": 15,\\n            \"animationDurationUpdate\": 800,\\n            \"selector\": false,\\n            \"selectorPosition\": \"auto\",\\n            \"selectorItemGap\": 7,\\n            \"selectorButtonGap\": 10\\n        }\\n    ],\\n    \"tooltip\": {\\n        \"show\": true,\\n        \"trigger\": \"item\",\\n        \"triggerOn\": \"mousemove|click\",\\n        \"axisPointer\": {\\n            \"type\": \"line\"\\n        },\\n        \"showContent\": true,\\n        \"alwaysShowContent\": false,\\n        \"showDelay\": 0,\\n        \"hideDelay\": 100,\\n        \"enterable\": false,\\n        \"confine\": false,\\n        \"appendToBody\": false,\\n        \"transitionDuration\": 0.4,\\n        \"textStyle\": {\\n            \"fontSize\": 14\\n        },\\n        \"borderWidth\": 0,\\n        \"padding\": 5,\\n        \"order\": \"seriesAsc\"\\n    },\\n    \"xAxis\": [\\n        {\\n            \"type\": \"category\",\\n            \"show\": true,\\n            \"scale\": false,\\n            \"nameLocation\": \"end\",\\n            \"nameGap\": 15,\\n            \"gridIndex\": 0,\\n            \"inverse\": false,\\n            \"offset\": 0,\\n            \"splitNumber\": 5,\\n            \"minInterval\": 0,\\n            \"splitLine\": {\\n                \"show\": true,\\n                \"lineStyle\": {\\n                    \"show\": true,\\n                    \"width\": 1,\\n                    \"opacity\": 1,\\n                    \"curveness\": 0,\\n                    \"type\": \"solid\"\\n                }\\n            },\\n            \"data\": [\\n                \"1998.0\",\\n                \"1999.0\",\\n                \"2000.0\",\\n                \"2001.0\",\\n                \"2002.0\",\\n                \"2003.0\",\\n                \"2004.0\",\\n                \"2005.0\",\\n                \"2006.0\",\\n                \"2007.0\",\\n                \"2008.0\",\\n                \"2009.0\",\\n                \"2010.0\",\\n                \"2011.0\",\\n                \"2012.0\",\\n                \"2013.0\",\\n                \"2014.0\",\\n                \"2015.0\",\\n                \"2016.0\",\\n                \"2017.0\",\\n                \"2018.0\",\\n                \"2019.0\",\\n                \"2020.0\",\\n                \"2021.0\"\\n            ]\\n        }\\n    ],\\n    \"yAxis\": [\\n        {\\n            \"type\": \"value\",\\n            \"show\": true,\\n            \"scale\": false,\\n            \"nameLocation\": \"end\",\\n            \"nameGap\": 15,\\n            \"gridIndex\": 0,\\n            \"inverse\": false,\\n            \"offset\": 0,\\n            \"splitNumber\": 5,\\n            \"minInterval\": 0,\\n            \"splitLine\": {\\n                \"show\": true,\\n                \"lineStyle\": {\\n                    \"show\": true,\\n                    \"width\": 1,\\n                    \"opacity\": 1,\\n                    \"curveness\": 0,\\n                    \"type\": \"solid\"\\n                }\\n            }\\n        }\\n    ],\\n    \"title\": [\\n        {\\n            \"show\": true,\\n            \"text\": \"\\\\u957f\\\\u6625\\\\u5e02\\\\u5e74\\\\u5ea6\\\\u603b\\\\u548c\",\\n            \"target\": \"blank\",\\n            \"subtarget\": \"blank\",\\n            \"padding\": 5,\\n            \"itemGap\": 10,\\n            \"textAlign\": \"auto\",\\n            \"textVerticalAlign\": \"auto\",\\n            \"triggerEvent\": false\\n        }\\n    ]\\n};\\n        chart_48c1205a9a1e487293a57df3a0be5e8b.setOption(option_48c1205a9a1e487293a57df3a0be5e8b);\\n    </script>\\n<br/>                <div id=\"69c6f9cd4b084419af5c7547e6daaf55\" class=\"chart-container\" style=\"position: absolute; width: 731.4px; height: 500.4px; top: 479px; left: -3px;\"></div>\\n    <script>\\n        var chart_69c6f9cd4b084419af5c7547e6daaf55 = echarts.init(\\n            document.getElementById(\\'69c6f9cd4b084419af5c7547e6daaf55\\'), \\'dark\\', {renderer: \\'canvas\\'});\\n        var option_69c6f9cd4b084419af5c7547e6daaf55 = {\\n    \"animation\": true,\\n    \"animationThreshold\": 2000,\\n    \"animationDuration\": 1000,\\n    \"animationEasing\": \"cubicOut\",\\n    \"animationDelay\": 0,\\n    \"animationDurationUpdate\": 300,\\n    \"animationEasingUpdate\": \"cubicOut\",\\n    \"animationDelayUpdate\": 0,\\n    \"aria\": {\\n        \"enabled\": false\\n    },\\n    \"series\": [\\n        {\\n            \"type\": \"line\",\\n            \"name\": \"\\\\u5e74\\\\u5ea6\\\\u6700\\\\u5927\\\\u503c\",\\n            \"connectNulls\": false,\\n            \"xAxisIndex\": 0,\\n            \"symbolSize\": 4,\\n            \"showSymbol\": true,\\n            \"smooth\": false,\\n            \"clip\": true,\\n            \"step\": false,\\n            \"data\": [\\n                [\\n                    \"1998.0\",\\n                    42.9\\n                ],\\n                [\\n                    \"1999.0\",\\n                    34.6\\n                ],\\n                [\\n                    \"2000.0\",\\n                    42.6\\n                ],\\n                [\\n                    \"2001.0\",\\n                    45.7\\n                ],\\n                [\\n                    \"2002.0\",\\n                    46.8\\n                ],\\n                [\\n                    \"2003.0\",\\n                    53.4\\n                ],\\n                [\\n                    \"2004.0\",\\n                    43.6\\n                ],\\n                [\\n                    \"2005.0\",\\n                    46.1\\n                ],\\n                [\\n                    \"2006.0\",\\n                    52.1\\n                ],\\n                [\\n                    \"2007.0\",\\n                    56.1\\n                ],\\n                [\\n                    \"2008.0\",\\n                    59.0\\n                ],\\n                [\\n                    \"2009.0\",\\n                    47.1\\n                ],\\n                [\\n                    \"2010.0\",\\n                    51.1\\n                ],\\n                [\\n                    \"2011.0\",\\n                    66.1\\n                ],\\n                [\\n                    \"2012.0\",\\n                    63.4\\n                ],\\n                [\\n                    \"2013.0\",\\n                    66.5\\n                ],\\n                [\\n                    \"2014.0\",\\n                    67.6\\n                ],\\n                [\\n                    \"2015.0\",\\n                    71.9\\n                ],\\n                [\\n                    \"2016.0\",\\n                    49.8\\n                ],\\n                [\\n                    \"2017.0\",\\n                    57.5\\n                ],\\n                [\\n                    \"2018.0\",\\n                    41.4\\n                ],\\n                [\\n                    \"2019.0\",\\n                    43.7\\n                ],\\n                [\\n                    \"2020.0\",\\n                    48.2\\n                ],\\n                [\\n                    \"2021.0\",\\n                    41.6\\n                ]\\n            ],\\n            \"hoverAnimation\": true,\\n            \"label\": {\\n                \"show\": true,\\n                \"margin\": 8\\n            },\\n            \"logBase\": 10,\\n            \"seriesLayoutBy\": \"column\",\\n            \"lineStyle\": {\\n                \"show\": true,\\n                \"width\": 1,\\n                \"opacity\": 1,\\n                \"curveness\": 0,\\n                \"type\": \"solid\"\\n            },\\n            \"areaStyle\": {\\n                \"opacity\": 0\\n            },\\n            \"zlevel\": 0,\\n            \"z\": 0\\n        }\\n    ],\\n    \"legend\": [\\n        {\\n            \"data\": [\\n                \"\\\\u5e74\\\\u5ea6\\\\u6700\\\\u5927\\\\u503c\"\\n            ],\\n            \"selected\": {},\\n            \"show\": true,\\n            \"padding\": 5,\\n            \"itemGap\": 10,\\n            \"itemWidth\": 25,\\n            \"itemHeight\": 14,\\n            \"backgroundColor\": \"transparent\",\\n            \"borderColor\": \"#ccc\",\\n            \"borderRadius\": 0,\\n            \"pageButtonItemGap\": 5,\\n            \"pageButtonPosition\": \"end\",\\n            \"pageFormatter\": \"{current}/{total}\",\\n            \"pageIconColor\": \"#2f4554\",\\n            \"pageIconInactiveColor\": \"#aaa\",\\n            \"pageIconSize\": 15,\\n            \"animationDurationUpdate\": 800,\\n            \"selector\": false,\\n            \"selectorPosition\": \"auto\",\\n            \"selectorItemGap\": 7,\\n            \"selectorButtonGap\": 10\\n        }\\n    ],\\n    \"tooltip\": {\\n        \"show\": true,\\n        \"trigger\": \"item\",\\n        \"triggerOn\": \"mousemove|click\",\\n        \"axisPointer\": {\\n            \"type\": \"line\"\\n        },\\n        \"showContent\": true,\\n        \"alwaysShowContent\": false,\\n        \"showDelay\": 0,\\n        \"hideDelay\": 100,\\n        \"enterable\": false,\\n        \"confine\": false,\\n        \"appendToBody\": false,\\n        \"transitionDuration\": 0.4,\\n        \"textStyle\": {\\n            \"fontSize\": 14\\n        },\\n        \"borderWidth\": 0,\\n        \"padding\": 5,\\n        \"order\": \"seriesAsc\"\\n    },\\n    \"xAxis\": [\\n        {\\n            \"type\": \"category\",\\n            \"show\": true,\\n            \"scale\": false,\\n            \"nameLocation\": \"end\",\\n            \"nameGap\": 15,\\n            \"gridIndex\": 0,\\n            \"inverse\": false,\\n            \"offset\": 0,\\n            \"splitNumber\": 5,\\n            \"minInterval\": 0,\\n            \"splitLine\": {\\n                \"show\": true,\\n                \"lineStyle\": {\\n                    \"show\": true,\\n                    \"width\": 1,\\n                    \"opacity\": 1,\\n                    \"curveness\": 0,\\n                    \"type\": \"solid\"\\n                }\\n            },\\n            \"data\": [\\n                \"1998.0\",\\n                \"1999.0\",\\n                \"2000.0\",\\n                \"2001.0\",\\n                \"2002.0\",\\n                \"2003.0\",\\n                \"2004.0\",\\n                \"2005.0\",\\n                \"2006.0\",\\n                \"2007.0\",\\n                \"2008.0\",\\n                \"2009.0\",\\n                \"2010.0\",\\n                \"2011.0\",\\n                \"2012.0\",\\n                \"2013.0\",\\n                \"2014.0\",\\n                \"2015.0\",\\n                \"2016.0\",\\n                \"2017.0\",\\n                \"2018.0\",\\n                \"2019.0\",\\n                \"2020.0\",\\n                \"2021.0\"\\n            ]\\n        }\\n    ],\\n    \"yAxis\": [\\n        {\\n            \"type\": \"value\",\\n            \"show\": true,\\n            \"scale\": false,\\n            \"nameLocation\": \"end\",\\n            \"nameGap\": 15,\\n            \"gridIndex\": 0,\\n            \"inverse\": false,\\n            \"offset\": 0,\\n            \"splitNumber\": 5,\\n            \"minInterval\": 0,\\n            \"splitLine\": {\\n                \"show\": true,\\n                \"lineStyle\": {\\n                    \"show\": true,\\n                    \"width\": 1,\\n                    \"opacity\": 1,\\n                    \"curveness\": 0,\\n                    \"type\": \"solid\"\\n                }\\n            }\\n        }\\n    ],\\n    \"title\": [\\n        {\\n            \"show\": true,\\n            \"text\": \"\\\\u957f\\\\u6625\\\\u5e02\\\\u5e74\\\\u5ea6\\\\u6700\\\\u5927\\\\u503c\",\\n            \"target\": \"blank\",\\n            \"subtarget\": \"blank\",\\n            \"padding\": 5,\\n            \"itemGap\": 10,\\n            \"textAlign\": \"auto\",\\n            \"textVerticalAlign\": \"auto\",\\n            \"triggerEvent\": false\\n        }\\n    ]\\n};\\n        chart_69c6f9cd4b084419af5c7547e6daaf55.setOption(option_69c6f9cd4b084419af5c7547e6daaf55);\\n    </script>\\n<br/>                <div id=\"9c81346de17e4a3284a21d0e234f7045\" class=\"chart-container\" style=\"position: absolute; width: 742.4px; height: 500.4px; top: 483.3999938964844px; left: 736px;\"></div>\\n    <script>\\n        var chart_9c81346de17e4a3284a21d0e234f7045 = echarts.init(\\n            document.getElementById(\\'9c81346de17e4a3284a21d0e234f7045\\'), \\'vintage\\', {renderer: \\'canvas\\'});\\n        var option_9c81346de17e4a3284a21d0e234f7045 = {\\n    \"animation\": true,\\n    \"animationThreshold\": 2000,\\n    \"animationDuration\": 1000,\\n    \"animationEasing\": \"cubicOut\",\\n    \"animationDelay\": 0,\\n    \"animationDurationUpdate\": 300,\\n    \"animationEasingUpdate\": \"cubicOut\",\\n    \"animationDelayUpdate\": 0,\\n    \"aria\": {\\n        \"enabled\": false\\n    },\\n    \"series\": [\\n        {\\n            \"type\": \"line\",\\n            \"name\": \"\\\\u5e74\\\\u5ea6\\\\u6700\\\\u5c0f\\\\u503c\",\\n            \"connectNulls\": false,\\n            \"xAxisIndex\": 0,\\n            \"symbolSize\": 4,\\n            \"showSymbol\": true,\\n            \"smooth\": false,\\n            \"clip\": true,\\n            \"step\": false,\\n            \"data\": [\\n                [\\n                    \"1998.0\",\\n                    32.5\\n                ],\\n                [\\n                    \"1999.0\",\\n                    28.7\\n                ],\\n                [\\n                    \"2000.0\",\\n                    32.7\\n                ],\\n                [\\n                    \"2001.0\",\\n                    32.4\\n                ],\\n                [\\n                    \"2002.0\",\\n                    37.5\\n                ],\\n                [\\n                    \"2003.0\",\\n                    42.9\\n                ],\\n                [\\n                    \"2004.0\",\\n                    32.8\\n                ],\\n                [\\n                    \"2005.0\",\\n                    33.9\\n                ],\\n                [\\n                    \"2006.0\",\\n                    39.8\\n                ],\\n                [\\n                    \"2007.0\",\\n                    40.7\\n                ],\\n                [\\n                    \"2008.0\",\\n                    44.0\\n                ],\\n                [\\n                    \"2009.0\",\\n                    34.1\\n                ],\\n                [\\n                    \"2010.0\",\\n                    34.6\\n                ],\\n                [\\n                    \"2011.0\",\\n                    42.9\\n                ],\\n                [\\n                    \"2012.0\",\\n                    40.1\\n                ],\\n                [\\n                    \"2013.0\",\\n                    45.1\\n                ],\\n                [\\n                    \"2014.0\",\\n                    46.4\\n                ],\\n                [\\n                    \"2015.0\",\\n                    49.9\\n                ],\\n                [\\n                    \"2016.0\",\\n                    35.7\\n                ],\\n                [\\n                    \"2017.0\",\\n                    34.9\\n                ],\\n                [\\n                    \"2018.0\",\\n                    28.8\\n                ],\\n                [\\n                    \"2019.0\",\\n                    30.0\\n                ],\\n                [\\n                    \"2020.0\",\\n                    32.5\\n                ],\\n                [\\n                    \"2021.0\",\\n                    26.7\\n                ]\\n            ],\\n            \"hoverAnimation\": true,\\n            \"label\": {\\n                \"show\": true,\\n                \"margin\": 8\\n            },\\n            \"logBase\": 10,\\n            \"seriesLayoutBy\": \"column\",\\n            \"lineStyle\": {\\n                \"show\": true,\\n                \"width\": 1,\\n                \"opacity\": 1,\\n                \"curveness\": 0,\\n                \"type\": \"solid\"\\n            },\\n            \"areaStyle\": {\\n                \"opacity\": 0\\n            },\\n            \"zlevel\": 0,\\n            \"z\": 0\\n        }\\n    ],\\n    \"legend\": [\\n        {\\n            \"data\": [\\n                \"\\\\u5e74\\\\u5ea6\\\\u6700\\\\u5c0f\\\\u503c\"\\n            ],\\n            \"selected\": {},\\n            \"show\": true,\\n            \"padding\": 5,\\n            \"itemGap\": 10,\\n            \"itemWidth\": 25,\\n            \"itemHeight\": 14,\\n            \"backgroundColor\": \"transparent\",\\n            \"borderColor\": \"#ccc\",\\n            \"borderRadius\": 0,\\n            \"pageButtonItemGap\": 5,\\n            \"pageButtonPosition\": \"end\",\\n            \"pageFormatter\": \"{current}/{total}\",\\n            \"pageIconColor\": \"#2f4554\",\\n            \"pageIconInactiveColor\": \"#aaa\",\\n            \"pageIconSize\": 15,\\n            \"animationDurationUpdate\": 800,\\n            \"selector\": false,\\n            \"selectorPosition\": \"auto\",\\n            \"selectorItemGap\": 7,\\n            \"selectorButtonGap\": 10\\n        }\\n    ],\\n    \"tooltip\": {\\n        \"show\": true,\\n        \"trigger\": \"item\",\\n        \"triggerOn\": \"mousemove|click\",\\n        \"axisPointer\": {\\n            \"type\": \"line\"\\n        },\\n        \"showContent\": true,\\n        \"alwaysShowContent\": false,\\n        \"showDelay\": 0,\\n        \"hideDelay\": 100,\\n        \"enterable\": false,\\n        \"confine\": false,\\n        \"appendToBody\": false,\\n        \"transitionDuration\": 0.4,\\n        \"textStyle\": {\\n            \"fontSize\": 14\\n        },\\n        \"borderWidth\": 0,\\n        \"padding\": 5,\\n        \"order\": \"seriesAsc\"\\n    },\\n    \"xAxis\": [\\n        {\\n            \"type\": \"category\",\\n            \"show\": true,\\n            \"scale\": false,\\n            \"nameLocation\": \"end\",\\n            \"nameGap\": 15,\\n            \"gridIndex\": 0,\\n            \"inverse\": false,\\n            \"offset\": 0,\\n            \"splitNumber\": 5,\\n            \"minInterval\": 0,\\n            \"splitLine\": {\\n                \"show\": true,\\n                \"lineStyle\": {\\n                    \"show\": true,\\n                    \"width\": 1,\\n                    \"opacity\": 1,\\n                    \"curveness\": 0,\\n                    \"type\": \"solid\"\\n                }\\n            },\\n            \"data\": [\\n                \"1998.0\",\\n                \"1999.0\",\\n                \"2000.0\",\\n                \"2001.0\",\\n                \"2002.0\",\\n                \"2003.0\",\\n                \"2004.0\",\\n                \"2005.0\",\\n                \"2006.0\",\\n                \"2007.0\",\\n                \"2008.0\",\\n                \"2009.0\",\\n                \"2010.0\",\\n                \"2011.0\",\\n                \"2012.0\",\\n                \"2013.0\",\\n                \"2014.0\",\\n                \"2015.0\",\\n                \"2016.0\",\\n                \"2017.0\",\\n                \"2018.0\",\\n                \"2019.0\",\\n                \"2020.0\",\\n                \"2021.0\"\\n            ]\\n        }\\n    ],\\n    \"yAxis\": [\\n        {\\n            \"type\": \"value\",\\n            \"show\": true,\\n            \"scale\": false,\\n            \"nameLocation\": \"end\",\\n            \"nameGap\": 15,\\n            \"gridIndex\": 0,\\n            \"inverse\": false,\\n            \"offset\": 0,\\n            \"splitNumber\": 5,\\n            \"minInterval\": 0,\\n            \"splitLine\": {\\n                \"show\": true,\\n                \"lineStyle\": {\\n                    \"show\": true,\\n                    \"width\": 1,\\n                    \"opacity\": 1,\\n                    \"curveness\": 0,\\n                    \"type\": \"solid\"\\n                }\\n            }\\n        }\\n    ],\\n    \"title\": [\\n        {\\n            \"show\": true,\\n            \"text\": \"\\\\u957f\\\\u6625\\\\u5e02\\\\u5e74\\\\u5ea6\\\\u6700\\\\u5c0f\\\\u503c\",\\n            \"target\": \"blank\",\\n            \"subtarget\": \"blank\",\\n            \"padding\": 5,\\n            \"itemGap\": 10,\\n            \"textAlign\": \"auto\",\\n            \"textVerticalAlign\": \"auto\",\\n            \"triggerEvent\": false\\n        }\\n    ]\\n};\\n        chart_9c81346de17e4a3284a21d0e234f7045.setOption(option_9c81346de17e4a3284a21d0e234f7045);\\n    </script>\\n<br/>                <div id=\"335a7af6e6974615bdc11be2e3e512d7\" class=\"chart-container\" style=\"position: absolute; width: 1489.4px; height: 500.4px; top: 985.7999877929688px; left: 4px;\"></div>\\n    <script>\\n        var chart_335a7af6e6974615bdc11be2e3e512d7 = echarts.init(\\n            document.getElementById(\\'335a7af6e6974615bdc11be2e3e512d7\\'), \\'chalk\\', {renderer: \\'canvas\\'});\\n        var option_335a7af6e6974615bdc11be2e3e512d7 = {\\n    \"animation\": true,\\n    \"animationThreshold\": 2000,\\n    \"animationDuration\": 1000,\\n    \"animationEasing\": \"cubicOut\",\\n    \"animationDelay\": 0,\\n    \"animationDurationUpdate\": 300,\\n    \"animationEasingUpdate\": \"cubicOut\",\\n    \"animationDelayUpdate\": 0,\\n    \"aria\": {\\n        \"enabled\": false\\n    },\\n    \"series\": [\\n        {\\n            \"type\": \"bar\",\\n            \"name\": \"\\\\u5e74\\\\u5ea6\\\\u6807\\\\u51c6\\\\u5dee\",\\n            \"legendHoverLink\": true,\\n            \"data\": [\\n                1.34,\\n                0.64,\\n                1.43,\\n                1.61,\\n                0.69,\\n                1.11,\\n                1.04,\\n                1.25,\\n                1.41,\\n                1.44,\\n                1.52,\\n                1.82,\\n                2.04,\\n                2.52,\\n                2.57,\\n                2.74,\\n                2.57,\\n                2.56,\\n                1.57,\\n                2.82,\\n                1.54,\\n                1.51,\\n                2.16,\\n                1.72\\n            ],\\n            \"realtimeSort\": false,\\n            \"showBackground\": false,\\n            \"stackStrategy\": \"samesign\",\\n            \"cursor\": \"pointer\",\\n            \"barMinHeight\": 0,\\n            \"barCategoryGap\": \"20%\",\\n            \"barGap\": \"30%\",\\n            \"large\": false,\\n            \"largeThreshold\": 400,\\n            \"seriesLayoutBy\": \"column\",\\n            \"datasetIndex\": 0,\\n            \"clip\": true,\\n            \"zlevel\": 0,\\n            \"z\": 2,\\n            \"label\": {\\n                \"show\": true,\\n                \"margin\": 8\\n            }\\n        }\\n    ],\\n    \"legend\": [\\n        {\\n            \"data\": [\\n                \"\\\\u5e74\\\\u5ea6\\\\u6807\\\\u51c6\\\\u5dee\"\\n            ],\\n            \"selected\": {},\\n            \"show\": true,\\n            \"padding\": 5,\\n            \"itemGap\": 10,\\n            \"itemWidth\": 25,\\n            \"itemHeight\": 14,\\n            \"backgroundColor\": \"transparent\",\\n            \"borderColor\": \"#ccc\",\\n            \"borderRadius\": 0,\\n            \"pageButtonItemGap\": 5,\\n            \"pageButtonPosition\": \"end\",\\n            \"pageFormatter\": \"{current}/{total}\",\\n            \"pageIconColor\": \"#2f4554\",\\n            \"pageIconInactiveColor\": \"#aaa\",\\n            \"pageIconSize\": 15,\\n            \"animationDurationUpdate\": 800,\\n            \"selector\": false,\\n            \"selectorPosition\": \"auto\",\\n            \"selectorItemGap\": 7,\\n            \"selectorButtonGap\": 10\\n        }\\n    ],\\n    \"tooltip\": {\\n        \"show\": true,\\n        \"trigger\": \"item\",\\n        \"triggerOn\": \"mousemove|click\",\\n        \"axisPointer\": {\\n            \"type\": \"line\"\\n        },\\n        \"showContent\": true,\\n        \"alwaysShowContent\": false,\\n        \"showDelay\": 0,\\n        \"hideDelay\": 100,\\n        \"enterable\": false,\\n        \"confine\": false,\\n        \"appendToBody\": false,\\n        \"transitionDuration\": 0.4,\\n        \"textStyle\": {\\n            \"fontSize\": 14\\n        },\\n        \"borderWidth\": 0,\\n        \"padding\": 5,\\n        \"order\": \"seriesAsc\"\\n    },\\n    \"xAxis\": [\\n        {\\n            \"type\": \"category\",\\n            \"show\": true,\\n            \"scale\": false,\\n            \"nameLocation\": \"end\",\\n            \"nameGap\": 15,\\n            \"gridIndex\": 0,\\n            \"inverse\": false,\\n            \"offset\": 0,\\n            \"splitNumber\": 5,\\n            \"minInterval\": 0,\\n            \"splitLine\": {\\n                \"show\": true,\\n                \"lineStyle\": {\\n                    \"show\": true,\\n                    \"width\": 1,\\n                    \"opacity\": 1,\\n                    \"curveness\": 0,\\n                    \"type\": \"solid\"\\n                }\\n            },\\n            \"data\": [\\n                \"1998.0\",\\n                \"1999.0\",\\n                \"2000.0\",\\n                \"2001.0\",\\n                \"2002.0\",\\n                \"2003.0\",\\n                \"2004.0\",\\n                \"2005.0\",\\n                \"2006.0\",\\n                \"2007.0\",\\n                \"2008.0\",\\n                \"2009.0\",\\n                \"2010.0\",\\n                \"2011.0\",\\n                \"2012.0\",\\n                \"2013.0\",\\n                \"2014.0\",\\n                \"2015.0\",\\n                \"2016.0\",\\n                \"2017.0\",\\n                \"2018.0\",\\n                \"2019.0\",\\n                \"2020.0\",\\n                \"2021.0\"\\n            ]\\n        }\\n    ],\\n    \"yAxis\": [\\n        {\\n            \"type\": \"value\",\\n            \"show\": true,\\n            \"scale\": false,\\n            \"nameLocation\": \"end\",\\n            \"nameGap\": 15,\\n            \"gridIndex\": 0,\\n            \"inverse\": false,\\n            \"offset\": 0,\\n            \"splitNumber\": 5,\\n            \"minInterval\": 0,\\n            \"splitLine\": {\\n                \"show\": true,\\n                \"lineStyle\": {\\n                    \"show\": true,\\n                    \"width\": 1,\\n                    \"opacity\": 1,\\n                    \"curveness\": 0,\\n                    \"type\": \"solid\"\\n                }\\n            }\\n        }\\n    ],\\n    \"title\": [\\n        {\\n            \"show\": true,\\n            \"text\": \"\\\\u957f\\\\u6625\\\\u5e02\\\\u5e74\\\\u5ea6\\\\u6807\\\\u51c6\\\\u5dee\",\\n            \"target\": \"blank\",\\n            \"subtarget\": \"blank\",\\n            \"padding\": 5,\\n            \"itemGap\": 10,\\n            \"textAlign\": \"auto\",\\n            \"textVerticalAlign\": \"auto\",\\n            \"triggerEvent\": false\\n        }\\n    ]\\n};\\n        chart_335a7af6e6974615bdc11be2e3e512d7.setOption(option_335a7af6e6974615bdc11be2e3e512d7);\\n    </script>\\n<br/>    </div>\\n    <script>\\n            $(\\'#0801780dc56f483ea8f6ca41ecad088e\\').css(\\'border-style\\', \\'dashed\\').css(\\'border-width\\', \\'0px\\');$(\"#0801780dc56f483ea8f6ca41ecad088e>div:nth-child(1)\").width(\"100%\").height(\"100%\");\\n            new ResizeSensor(jQuery(\\'#0801780dc56f483ea8f6ca41ecad088e\\'), function() { chart_0801780dc56f483ea8f6ca41ecad088e.resize()});\\n            $(\\'#48c1205a9a1e487293a57df3a0be5e8b\\').css(\\'border-style\\', \\'dashed\\').css(\\'border-width\\', \\'0px\\');$(\"#48c1205a9a1e487293a57df3a0be5e8b>div:nth-child(1)\").width(\"100%\").height(\"100%\");\\n            new ResizeSensor(jQuery(\\'#48c1205a9a1e487293a57df3a0be5e8b\\'), function() { chart_48c1205a9a1e487293a57df3a0be5e8b.resize()});\\n            $(\\'#69c6f9cd4b084419af5c7547e6daaf55\\').css(\\'border-style\\', \\'dashed\\').css(\\'border-width\\', \\'0px\\');$(\"#69c6f9cd4b084419af5c7547e6daaf55>div:nth-child(1)\").width(\"100%\").height(\"100%\");\\n            new ResizeSensor(jQuery(\\'#69c6f9cd4b084419af5c7547e6daaf55\\'), function() { chart_69c6f9cd4b084419af5c7547e6daaf55.resize()});\\n            $(\\'#9c81346de17e4a3284a21d0e234f7045\\').css(\\'border-style\\', \\'dashed\\').css(\\'border-width\\', \\'0px\\');$(\"#9c81346de17e4a3284a21d0e234f7045>div:nth-child(1)\").width(\"100%\").height(\"100%\");\\n            new ResizeSensor(jQuery(\\'#9c81346de17e4a3284a21d0e234f7045\\'), function() { chart_9c81346de17e4a3284a21d0e234f7045.resize()});\\n            $(\\'#335a7af6e6974615bdc11be2e3e512d7\\').css(\\'border-style\\', \\'dashed\\').css(\\'border-width\\', \\'0px\\');$(\"#335a7af6e6974615bdc11be2e3e512d7>div:nth-child(1)\").width(\"100%\").height(\"100%\");\\n            new ResizeSensor(jQuery(\\'#335a7af6e6974615bdc11be2e3e512d7\\'), function() { chart_335a7af6e6974615bdc11be2e3e512d7.resize()});\\n            var charts_id = [\\'0801780dc56f483ea8f6ca41ecad088e\\',\\'48c1205a9a1e487293a57df3a0be5e8b\\',\\'69c6f9cd4b084419af5c7547e6daaf55\\',\\'9c81346de17e4a3284a21d0e234f7045\\',\\'335a7af6e6974615bdc11be2e3e512d7\\'];\\nfunction downloadCfg () {\\n    const fileName = \\'chart_config.json\\'\\n    let downLink = document.createElement(\\'a\\')\\n    downLink.download = fileName\\n\\n    let result = []\\n    for(let i=0; i<charts_id.length; i++) {\\n        chart = $(\\'#\\'+charts_id[i])\\n        result.push({\\n            cid: charts_id[i],\\n            width: chart.css(\"width\"),\\n            height: chart.css(\"height\"),\\n            top: chart.offset().top + \"px\",\\n            left: chart.offset().left + \"px\"\\n        })\\n    }\\n\\n    let blob = new Blob([JSON.stringify(result)])\\n    downLink.href = URL.createObjectURL(blob)\\n    document.body.appendChild(downLink)\\n    downLink.click()\\n    document.body.removeChild(downLink)\\n}\\n    </script>\\n</body>\\n</html>\\n'"
      ]
     },
     "execution_count": 42,
     "metadata": {},
     "output_type": "execute_result"
    }
   ],
   "source": [
    "# 使用刚才生成的布局配置文件chart_config.json，来重新生成一个新的Page页面(html文档)\n",
    "Page.save_resize_html(\"../../文件/page/film/大屏可视化/④可视化大屏.html\", cfg_file=\"../../文件/page/film/大屏可视化/chart_config4.json\", dest=\"../../文件/page/film/大屏可视化/④可视化大屏④.html\")"
   ]
  },
  {
   "cell_type": "code",
   "execution_count": 49,
   "id": "fa277ae8",
   "metadata": {},
   "outputs": [
    {
     "data": {
      "text/plain": [
       "'E:\\\\个人文件\\\\Python\\\\进阶项目\\\\①数据分析项目大全\\\\2024年上半年项目合集\\\\基于Hadoop的PM2.5分布可视化系统设计\\\\文件\\\\page\\\\film\\\\大屏可视化\\\\⑤可视化大屏.html'"
      ]
     },
     "execution_count": 49,
     "metadata": {},
     "output_type": "execute_result"
    }
   ],
   "source": [
    "from pyecharts.charts import Bar,Pie,Page\n",
    "page = Page(page_title='⑤可视化大屏',layout=Page.DraggablePageLayout)  # 生成可拖拽的页面布局\n",
    "page.add(\n",
    "    a21(),\n",
    "    a22(),\n",
    "    a23(),\n",
    "    a24(),\n",
    "    a25(),\n",
    ")   \n",
    "page.render(\"../../文件/page/film/大屏可视化/⑤可视化大屏.html\")  # 生成一个HTML页面"
   ]
  },
  {
   "cell_type": "code",
   "execution_count": 50,
   "id": "cbc943fe",
   "metadata": {},
   "outputs": [
    {
     "data": {
      "text/plain": [
       "'<!DOCTYPE html>\\n<html>\\n<head>\\n    <meta charset=\"UTF-8\">\\n    <title>⑤可视化大屏</title>\\n                <script type=\"text/javascript\" src=\"https://assets.pyecharts.org/assets/v5/echarts.min.js\"></script>\\n            <script type=\"text/javascript\" src=\"https://assets.pyecharts.org/assets/v5/maps/china.js\"></script>\\n            <script type=\"text/javascript\" src=\"https://assets.pyecharts.org/assets/v5/jquery.min.js\"></script>\\n            <script type=\"text/javascript\" src=\"https://assets.pyecharts.org/assets/v5/jquery-ui.min.js\"></script>\\n            <script type=\"text/javascript\" src=\"https://assets.pyecharts.org/assets/v5/ResizeSensor.js\"></script>\\n\\n            <link rel=\"stylesheet\"  href=\"https://assets.pyecharts.org/assets/v5/jquery-ui.css\">\\n\\n</head>\\n<body >\\n    <style>.box {  } </style>\\n        \\n    <div class=\"box\">\\n                <div id=\"a5b9a2ab0bbb4a6589135cd0c39c84c3\" class=\"chart-container\" style=\"position: absolute; width: 900.4px; height: 500.4px; top: 39.400001525878906px; left: 17px;\"></div>\\n    <script>\\n        var chart_a5b9a2ab0bbb4a6589135cd0c39c84c3 = echarts.init(\\n            document.getElementById(\\'a5b9a2ab0bbb4a6589135cd0c39c84c3\\'), \\'white\\', {renderer: \\'canvas\\'});\\n        var option_a5b9a2ab0bbb4a6589135cd0c39c84c3 = {\\n    \"animation\": true,\\n    \"animationThreshold\": 2000,\\n    \"animationDuration\": 1000,\\n    \"animationEasing\": \"cubicOut\",\\n    \"animationDelay\": 0,\\n    \"animationDurationUpdate\": 300,\\n    \"animationEasingUpdate\": \"cubicOut\",\\n    \"animationDelayUpdate\": 0,\\n    \"aria\": {\\n        \"enabled\": false\\n    },\\n    \"color\": [\\n        \"#5470c6\",\\n        \"#91cc75\",\\n        \"#fac858\",\\n        \"#ee6666\",\\n        \"#73c0de\",\\n        \"#3ba272\",\\n        \"#fc8452\",\\n        \"#9a60b4\",\\n        \"#ea7ccc\"\\n    ],\\n    \"series\": [\\n        {\\n            \"type\": \"map\",\\n            \"name\": \"PM2.5\\\\u5e74\\\\u5ea6\\\\u5168\\\\u56fd\\\\u5747\\\\u503c\",\\n            \"label\": {\\n                \"show\": true,\\n                \"margin\": 8\\n            },\\n            \"map\": \"china\",\\n            \"data\": [\\n                {\\n                    \"name\": \"\\\\u4e0a\\\\u6d77\\\\u5e02\",\\n                    \"value\": \"45.3544489306232\"\\n                },\\n                {\\n                    \"name\": \"\\\\u4e91\\\\u5357\\\\u7701\",\\n                    \"value\": \"27.49283981258707\"\\n                },\\n                {\\n                    \"name\": \"\\\\u5185\\\\u8499\\\\u53e4\\\\u81ea\\\\u6cbb\\\\u533a\",\\n                    \"value\": \"28.458443781522337\"\\n                },\\n                {\\n                    \"name\": \"\\\\u5317\\\\u4eac\\\\u5e02\",\\n                    \"value\": \"61.4495303340976\"\\n                },\\n                {\\n                    \"name\": \"\\\\u53f0\\\\u6e7e\\\\u7701\",\\n                    \"value\": \"20.161882488497515\"\\n                },\\n                {\\n                    \"name\": \"\\\\u5409\\\\u6797\\\\u7701\",\\n                    \"value\": \"36.96775546446182\"\\n                },\\n                {\\n                    \"name\": \"\\\\u56db\\\\u5ddd\\\\u7701\",\\n                    \"value\": \"39.32689174842362\"\\n                },\\n                {\\n                    \"name\": \"\\\\u5929\\\\u6d25\\\\u5e02\",\\n                    \"value\": \"67.00595172820432\"\\n                },\\n                {\\n                    \"name\": \"\\\\u5b81\\\\u590f\\\\u56de\\\\u65cf\\\\u81ea\\\\u6cbb\\\\u533a\",\\n                    \"value\": \"39.61941747098251\"\\n                },\\n                {\\n                    \"name\": \"\\\\u5b89\\\\u5fbd\\\\u7701\",\\n                    \"value\": \"50.21247839968751\"\\n                },\\n                {\\n                    \"name\": \"\\\\u5c71\\\\u4e1c\\\\u7701\",\\n                    \"value\": \"59.35745874300161\"\\n                },\\n                {\\n                    \"name\": \"\\\\u5c71\\\\u897f\\\\u7701\",\\n                    \"value\": \"48.601813591482745\"\\n                },\\n                {\\n                    \"name\": \"\\\\u5e7f\\\\u4e1c\\\\u7701\",\\n                    \"value\": \"33.71490216956198\"\\n                },\\n                {\\n                    \"name\": \"\\\\u5e7f\\\\u897f\\\\u58ee\\\\u65cf\\\\u81ea\\\\u6cbb\\\\u533a\",\\n                    \"value\": \"37.07762889047155\"\\n                },\\n                {\\n                    \"name\": \"\\\\u65b0\\\\u7586\\\\u7ef4\\\\u543e\\\\u5c14\\\\u81ea\\\\u6cbb\\\\u533a\",\\n                    \"value\": \"45.86298719900401\"\\n                },\\n                {\\n                    \"name\": \"\\\\u6c5f\\\\u82cf\\\\u7701\",\\n                    \"value\": \"52.98770894016233\"\\n                },\\n                {\\n                    \"name\": \"\\\\u6c5f\\\\u897f\\\\u7701\",\\n                    \"value\": \"37.77556076030071\"\\n                },\\n                {\\n                    \"name\": \"\\\\u6cb3\\\\u5317\\\\u7701\",\\n                    \"value\": \"68.68502517030258\"\\n                },\\n                {\\n                    \"name\": \"\\\\u6cb3\\\\u5357\\\\u7701\",\\n                    \"value\": \"64.42269690875074\"\\n                },\\n                {\\n                    \"name\": \"\\\\u6d59\\\\u6c5f\\\\u7701\",\\n                    \"value\": \"39.653757625960566\"\\n                },\\n                {\\n                    \"name\": \"\\\\u6d77\\\\u5357\\\\u7701\",\\n                    \"value\": \"19.565332465858077\"\\n                },\\n                {\\n                    \"name\": \"\\\\u6e56\\\\u5317\\\\u7701\",\\n                    \"value\": \"50.19960355985127\"\\n                },\\n                {\\n                    \"name\": \"\\\\u6e56\\\\u5357\\\\u7701\",\\n                    \"value\": \"44.7522444479914\"\\n                },\\n                {\\n                    \"name\": \"\\\\u6fb3\\\\u95e8\\\\u7279\\\\u522b\\\\u884c\\\\u653f\\\\u533a\",\\n                    \"value\": \"31.91301025987479\"\\n                },\\n                {\\n                    \"name\": \"\\\\u7518\\\\u8083\\\\u7701\",\\n                    \"value\": \"34.094603667915685\"\\n                },\\n                {\\n                    \"name\": \"\\\\u798f\\\\u5efa\\\\u7701\",\\n                    \"value\": \"29.062188189601645\"\\n                },\\n                {\\n                    \"name\": \"\\\\u897f\\\\u85cf\\\\u81ea\\\\u6cbb\\\\u533a\",\\n                    \"value\": \"7.195834420697711\"\\n                },\\n                {\\n                    \"name\": \"\\\\u8d35\\\\u5dde\\\\u7701\",\\n                    \"value\": \"33.79770439873585\"\\n                },\\n                {\\n                    \"name\": \"\\\\u8fbd\\\\u5b81\\\\u7701\",\\n                    \"value\": \"43.35256716065359\"\\n                },\\n                {\\n                    \"name\": \"\\\\u91cd\\\\u5e86\\\\u5e02\",\\n                    \"value\": \"46.5354380713038\"\\n                },\\n                {\\n                    \"name\": \"\\\\u9655\\\\u897f\\\\u7701\",\\n                    \"value\": \"42.224799530827624\"\\n                },\\n                {\\n                    \"name\": \"\\\\u9752\\\\u6d77\\\\u7701\",\\n                    \"value\": \"21.661510223350344\"\\n                },\\n                {\\n                    \"name\": \"\\\\u9999\\\\u6e2f\\\\u7279\\\\u522b\\\\u884c\\\\u653f\\\\u533a\",\\n                    \"value\": \"26.952950707300896\"\\n                },\\n                {\\n                    \"name\": \"\\\\u9ed1\\\\u9f99\\\\u6c5f\\\\u7701\",\\n                    \"value\": \"29.790728974316252\"\\n                }\\n            ],\\n            \"roam\": true,\\n            \"aspectScale\": 0.75,\\n            \"nameProperty\": \"name\",\\n            \"selectedMode\": false,\\n            \"zoom\": 1,\\n            \"zlevel\": 0,\\n            \"z\": 2,\\n            \"seriesLayoutBy\": \"column\",\\n            \"datasetIndex\": 0,\\n            \"mapValueCalculation\": \"sum\",\\n            \"showLegendSymbol\": true,\\n            \"emphasis\": {}\\n        }\\n    ],\\n    \"legend\": [\\n        {\\n            \"data\": [\\n                \"PM2.5\\\\u5e74\\\\u5ea6\\\\u5168\\\\u56fd\\\\u5747\\\\u503c\"\\n            ],\\n            \"selected\": {},\\n            \"show\": true,\\n            \"padding\": 5,\\n            \"itemGap\": 10,\\n            \"itemWidth\": 25,\\n            \"itemHeight\": 14,\\n            \"backgroundColor\": \"transparent\",\\n            \"borderColor\": \"#ccc\",\\n            \"borderRadius\": 0,\\n            \"pageButtonItemGap\": 5,\\n            \"pageButtonPosition\": \"end\",\\n            \"pageFormatter\": \"{current}/{total}\",\\n            \"pageIconColor\": \"#2f4554\",\\n            \"pageIconInactiveColor\": \"#aaa\",\\n            \"pageIconSize\": 15,\\n            \"animationDurationUpdate\": 800,\\n            \"selector\": false,\\n            \"selectorPosition\": \"auto\",\\n            \"selectorItemGap\": 7,\\n            \"selectorButtonGap\": 10\\n        }\\n    ],\\n    \"tooltip\": {\\n        \"show\": true,\\n        \"trigger\": \"item\",\\n        \"triggerOn\": \"mousemove|click\",\\n        \"axisPointer\": {\\n            \"type\": \"line\"\\n        },\\n        \"showContent\": true,\\n        \"alwaysShowContent\": false,\\n        \"showDelay\": 0,\\n        \"hideDelay\": 100,\\n        \"enterable\": false,\\n        \"confine\": false,\\n        \"appendToBody\": false,\\n        \"transitionDuration\": 0.4,\\n        \"textStyle\": {\\n            \"fontSize\": 14\\n        },\\n        \"borderWidth\": 0,\\n        \"padding\": 5,\\n        \"order\": \"seriesAsc\"\\n    },\\n    \"title\": [\\n        {\\n            \"show\": true,\\n            \"text\": \"PM2.5\\\\u5e74\\\\u5ea6\\\\u5168\\\\u56fd\\\\u5747\\\\u503c\",\\n            \"target\": \"blank\",\\n            \"subtarget\": \"blank\",\\n            \"padding\": 5,\\n            \"itemGap\": 10,\\n            \"textAlign\": \"auto\",\\n            \"textVerticalAlign\": \"auto\",\\n            \"triggerEvent\": false\\n        }\\n    ],\\n    \"visualMap\": {\\n        \"show\": true,\\n        \"type\": \"continuous\",\\n        \"min\": 0,\\n        \"max\": 100,\\n        \"inRange\": {\\n            \"color\": [\\n                \"#50a3ba\",\\n                \"#eac763\",\\n                \"#d94e5d\"\\n            ]\\n        },\\n        \"calculable\": true,\\n        \"inverse\": false,\\n        \"splitNumber\": 5,\\n        \"hoverLink\": true,\\n        \"orient\": \"vertical\",\\n        \"padding\": 5,\\n        \"showLabel\": true,\\n        \"itemWidth\": 20,\\n        \"itemHeight\": 140,\\n        \"borderWidth\": 0\\n    }\\n};\\n        chart_a5b9a2ab0bbb4a6589135cd0c39c84c3.setOption(option_a5b9a2ab0bbb4a6589135cd0c39c84c3);\\n    </script>\\n<br/>                <div id=\"0a7f01ed27994d67b9e64b2d6837e5e9\" class=\"chart-container\" style=\"position: absolute; width: 900.4px; height: 500.4px; top: 37.79999923706055px; left: 606px;\"></div>\\n    <script>\\n        var chart_0a7f01ed27994d67b9e64b2d6837e5e9 = echarts.init(\\n            document.getElementById(\\'0a7f01ed27994d67b9e64b2d6837e5e9\\'), \\'white\\', {renderer: \\'canvas\\'});\\n        var option_0a7f01ed27994d67b9e64b2d6837e5e9 = {\\n    \"animation\": true,\\n    \"animationThreshold\": 2000,\\n    \"animationDuration\": 1000,\\n    \"animationEasing\": \"cubicOut\",\\n    \"animationDelay\": 0,\\n    \"animationDurationUpdate\": 300,\\n    \"animationEasingUpdate\": \"cubicOut\",\\n    \"animationDelayUpdate\": 0,\\n    \"aria\": {\\n        \"enabled\": false\\n    },\\n    \"color\": [\\n        \"#5470c6\",\\n        \"#91cc75\",\\n        \"#fac858\",\\n        \"#ee6666\",\\n        \"#73c0de\",\\n        \"#3ba272\",\\n        \"#fc8452\",\\n        \"#9a60b4\",\\n        \"#ea7ccc\"\\n    ],\\n    \"series\": [\\n        {\\n            \"type\": \"map\",\\n            \"name\": \"\\\\u5404\\\\u7701\\\\u603b\\\\u548c\",\\n            \"label\": {\\n                \"show\": true,\\n                \"margin\": 8\\n            },\\n            \"map\": \"china\",\\n            \"data\": [\\n                {\\n                    \"name\": \"\\\\u4e0a\\\\u6d77\\\\u5e02\",\\n                    \"value\": 7199946.598611829\\n                },\\n                {\\n                    \"name\": \"\\\\u4e91\\\\u5357\\\\u7701\",\\n                    \"value\": 216088125.90918416\\n                },\\n                {\\n                    \"name\": \"\\\\u5185\\\\u8499\\\\u53e4\\\\u81ea\\\\u6cbb\\\\u533a\",\\n                    \"value\": 815725426.4841214\\n                },\\n                {\\n                    \"name\": \"\\\\u5317\\\\u4eac\\\\u5e02\",\\n                    \"value\": 22168071.598655675\\n                },\\n                {\\n                    \"name\": \"\\\\u53f0\\\\u6e7e\\\\u7701\",\\n                    \"value\": 15430614.496216765\\n                },\\n                {\\n                    \"name\": \"\\\\u5409\\\\u6797\\\\u7701\",\\n                    \"value\": 176453645.23522848\\n                },\\n                {\\n                    \"name\": \"\\\\u56db\\\\u5ddd\\\\u7701\",\\n                    \"value\": 274976766.0395785\\n                },\\n                {\\n                    \"name\": \"\\\\u5929\\\\u6d25\\\\u5e02\",\\n                    \"value\": 19103970.501953084\\n                },\\n                {\\n                    \"name\": \"\\\\u5b81\\\\u590f\\\\u56de\\\\u65cf\\\\u81ea\\\\u6cbb\\\\u533a\",\\n                    \"value\": 48401714.18477817\\n                },\\n                {\\n                    \"name\": \"\\\\u5b89\\\\u5fbd\\\\u7701\",\\n                    \"value\": 155322045.17210385\\n                },\\n                {\\n                    \"name\": \"\\\\u5c71\\\\u4e1c\\\\u7701\",\\n                    \"value\": 218059116.91101456\\n                },\\n                {\\n                    \"name\": \"\\\\u5c71\\\\u897f\\\\u7701\",\\n                    \"value\": 176157751.56734848\\n                },\\n                {\\n                    \"name\": \"\\\\u5e7f\\\\u4e1c\\\\u7701\",\\n                    \"value\": 125090267.45368668\\n                },\\n                {\\n                    \"name\": \"\\\\u5e7f\\\\u897f\\\\u58ee\\\\u65cf\\\\u81ea\\\\u6cbb\\\\u533a\",\\n                    \"value\": 182461297.04171368\\n                },\\n                {\\n                    \"name\": \"\\\\u65b0\\\\u7586\\\\u7ef4\\\\u543e\\\\u5c14\\\\u81ea\\\\u6cbb\\\\u533a\",\\n                    \"value\": 1814602885.9805183\\n                },\\n                {\\n                    \"name\": \"\\\\u6c5f\\\\u82cf\\\\u7701\",\\n                    \"value\": 118718767.58273122\\n                },\\n                {\\n                    \"name\": \"\\\\u6c5f\\\\u897f\\\\u7701\",\\n                    \"value\": 133431214.8540916\\n                },\\n                {\\n                    \"name\": \"\\\\u6cb3\\\\u5317\\\\u7701\",\\n                    \"value\": 251910128.01593396\\n                },\\n                {\\n                    \"name\": \"\\\\u6cb3\\\\u5357\\\\u7701\",\\n                    \"value\": 228698289.9137115\\n                },\\n                {\\n                    \"name\": \"\\\\u6d59\\\\u6c5f\\\\u7701\",\\n                    \"value\": 85908786.27178954\\n                },\\n                {\\n                    \"name\": \"\\\\u6d77\\\\u5357\\\\u7701\",\\n                    \"value\": 14170206.996140474\\n                },\\n                {\\n                    \"name\": \"\\\\u6e56\\\\u5317\\\\u7701\",\\n                    \"value\": 192807926.37254137\\n                },\\n                {\\n                    \"name\": \"\\\\u6e56\\\\u5357\\\\u7701\",\\n                    \"value\": 196856693.7524376\\n                },\\n                {\\n                    \"name\": \"\\\\u6fb3\\\\u95e8\\\\u7279\\\\u522b\\\\u884c\\\\u653f\\\\u533a\",\\n                    \"value\": 22043.10004615779\\n                },\\n                {\\n                    \"name\": \"\\\\u7518\\\\u8083\\\\u7701\",\\n                    \"value\": 341705512.7629507\\n                },\\n                {\\n                    \"name\": \"\\\\u798f\\\\u5efa\\\\u7701\",\\n                    \"value\": 74933190.76043606\\n                },\\n                {\\n                    \"name\": \"\\\\u897f\\\\u85cf\\\\u81ea\\\\u6cbb\\\\u533a\",\\n                    \"value\": 151850920.08286542\\n                },\\n                {\\n                    \"name\": \"\\\\u8d35\\\\u5dde\\\\u7701\",\\n                    \"value\": 128889586.85083865\\n                },\\n                {\\n                    \"name\": \"\\\\u8fbd\\\\u5b81\\\\u7701\",\\n                    \"value\": 152302045.3579101\\n                },\\n                {\\n                    \"name\": \"\\\\u91cd\\\\u5e86\\\\u5e02\",\\n                    \"value\": 77846327.18037981\\n                },\\n                {\\n                    \"name\": \"\\\\u9655\\\\u897f\\\\u7701\",\\n                    \"value\": 180043643.74407575\\n                },\\n                {\\n                    \"name\": \"\\\\u9752\\\\u6d77\\\\u7701\",\\n                    \"value\": 194236940.2556095\\n                },\\n                {\\n                    \"name\": \"\\\\u9999\\\\u6e2f\\\\u7279\\\\u522b\\\\u884c\\\\u653f\\\\u533a\",\\n                    \"value\": 635310.7998237605\\n                },\\n                {\\n                    \"name\": \"\\\\u9ed1\\\\u9f99\\\\u6c5f\\\\u7701\",\\n                    \"value\": 335172847.2771739\\n                }\\n            ],\\n            \"roam\": true,\\n            \"aspectScale\": 0.75,\\n            \"nameProperty\": \"name\",\\n            \"selectedMode\": false,\\n            \"zoom\": 1,\\n            \"zlevel\": 0,\\n            \"z\": 2,\\n            \"seriesLayoutBy\": \"column\",\\n            \"datasetIndex\": 0,\\n            \"mapValueCalculation\": \"sum\",\\n            \"showLegendSymbol\": true,\\n            \"emphasis\": {}\\n        }\\n    ],\\n    \"legend\": [\\n        {\\n            \"data\": [\\n                \"\\\\u5404\\\\u7701\\\\u603b\\\\u548c\"\\n            ],\\n            \"selected\": {},\\n            \"show\": true,\\n            \"padding\": 5,\\n            \"itemGap\": 10,\\n            \"itemWidth\": 25,\\n            \"itemHeight\": 14,\\n            \"backgroundColor\": \"transparent\",\\n            \"borderColor\": \"#ccc\",\\n            \"borderRadius\": 0,\\n            \"pageButtonItemGap\": 5,\\n            \"pageButtonPosition\": \"end\",\\n            \"pageFormatter\": \"{current}/{total}\",\\n            \"pageIconColor\": \"#2f4554\",\\n            \"pageIconInactiveColor\": \"#aaa\",\\n            \"pageIconSize\": 15,\\n            \"animationDurationUpdate\": 800,\\n            \"selector\": false,\\n            \"selectorPosition\": \"auto\",\\n            \"selectorItemGap\": 7,\\n            \"selectorButtonGap\": 10\\n        }\\n    ],\\n    \"tooltip\": {\\n        \"show\": true,\\n        \"trigger\": \"item\",\\n        \"triggerOn\": \"mousemove|click\",\\n        \"axisPointer\": {\\n            \"type\": \"line\"\\n        },\\n        \"showContent\": true,\\n        \"alwaysShowContent\": false,\\n        \"showDelay\": 0,\\n        \"hideDelay\": 100,\\n        \"enterable\": false,\\n        \"confine\": false,\\n        \"appendToBody\": false,\\n        \"transitionDuration\": 0.4,\\n        \"textStyle\": {\\n            \"fontSize\": 14\\n        },\\n        \"borderWidth\": 0,\\n        \"padding\": 5,\\n        \"order\": \"seriesAsc\"\\n    },\\n    \"title\": [\\n        {\\n            \"show\": true,\\n            \"text\": \"\\\\u5404\\\\u7701\\\\u603b\\\\u548c\",\\n            \"target\": \"blank\",\\n            \"subtarget\": \"blank\",\\n            \"padding\": 5,\\n            \"itemGap\": 10,\\n            \"textAlign\": \"auto\",\\n            \"textVerticalAlign\": \"auto\",\\n            \"triggerEvent\": false\\n        }\\n    ],\\n    \"visualMap\": {\\n        \"show\": true,\\n        \"type\": \"continuous\",\\n        \"min\": 0,\\n        \"max\": \"8.590878627178954E7\",\\n        \"inRange\": {\\n            \"color\": [\\n                \"#50a3ba\",\\n                \"#eac763\",\\n                \"#d94e5d\"\\n            ]\\n        },\\n        \"calculable\": true,\\n        \"inverse\": false,\\n        \"splitNumber\": 5,\\n        \"hoverLink\": true,\\n        \"orient\": \"vertical\",\\n        \"padding\": 5,\\n        \"showLabel\": true,\\n        \"itemWidth\": 20,\\n        \"itemHeight\": 140,\\n        \"borderWidth\": 0\\n    }\\n};\\n        chart_0a7f01ed27994d67b9e64b2d6837e5e9.setOption(option_0a7f01ed27994d67b9e64b2d6837e5e9);\\n    </script>\\n<br/>                <div id=\"a0e22d6fb8824c90a1fa31c0a08fcf92\" class=\"chart-container\" style=\"position: absolute; width: 900.4px; height: 500.4px; top: 541.2000122070312px; left: 15px;\"></div>\\n    <script>\\n        var chart_a0e22d6fb8824c90a1fa31c0a08fcf92 = echarts.init(\\n            document.getElementById(\\'a0e22d6fb8824c90a1fa31c0a08fcf92\\'), \\'white\\', {renderer: \\'canvas\\'});\\n        var option_a0e22d6fb8824c90a1fa31c0a08fcf92 = {\\n    \"animation\": true,\\n    \"animationThreshold\": 2000,\\n    \"animationDuration\": 1000,\\n    \"animationEasing\": \"cubicOut\",\\n    \"animationDelay\": 0,\\n    \"animationDurationUpdate\": 300,\\n    \"animationEasingUpdate\": \"cubicOut\",\\n    \"animationDelayUpdate\": 0,\\n    \"aria\": {\\n        \"enabled\": false\\n    },\\n    \"color\": [\\n        \"#5470c6\",\\n        \"#91cc75\",\\n        \"#fac858\",\\n        \"#ee6666\",\\n        \"#73c0de\",\\n        \"#3ba272\",\\n        \"#fc8452\",\\n        \"#9a60b4\",\\n        \"#ea7ccc\"\\n    ],\\n    \"series\": [\\n        {\\n            \"type\": \"map\",\\n            \"name\": \"\\\\u5404\\\\u7701\\\\u6700\\\\u5927\\\\u503c\",\\n            \"label\": {\\n                \"show\": true,\\n                \"margin\": 8\\n            },\\n            \"map\": \"china\",\\n            \"data\": [\\n                {\\n                    \"name\": \"\\\\u4e0a\\\\u6d77\\\\u5e02\",\\n                    \"value\": 65.0\\n                },\\n                {\\n                    \"name\": \"\\\\u4e91\\\\u5357\\\\u7701\",\\n                    \"value\": 69.0\\n                },\\n                {\\n                    \"name\": \"\\\\u5185\\\\u8499\\\\u53e4\\\\u81ea\\\\u6cbb\\\\u533a\",\\n                    \"value\": 85.6999969482421\\n                },\\n                {\\n                    \"name\": \"\\\\u5317\\\\u4eac\\\\u5e02\",\\n                    \"value\": 105.900001525878\\n                },\\n                {\\n                    \"name\": \"\\\\u53f0\\\\u6e7e\\\\u7701\",\\n                    \"value\": 40.2000007629394\\n                },\\n                {\\n                    \"name\": \"\\\\u5409\\\\u6797\\\\u7701\",\\n                    \"value\": 71.9000015258789\\n                },\\n                {\\n                    \"name\": \"\\\\u56db\\\\u5ddd\\\\u7701\",\\n                    \"value\": 94.3000030517578\\n                },\\n                {\\n                    \"name\": \"\\\\u5929\\\\u6d25\\\\u5e02\",\\n                    \"value\": 104.400001525878\\n                },\\n                {\\n                    \"name\": \"\\\\u5b81\\\\u590f\\\\u56de\\\\u65cf\\\\u81ea\\\\u6cbb\\\\u533a\",\\n                    \"value\": 66.0\\n                },\\n                {\\n                    \"name\": \"\\\\u5b89\\\\u5fbd\\\\u7701\",\\n                    \"value\": 81.5\\n                },\\n                {\\n                    \"name\": \"\\\\u5c71\\\\u4e1c\\\\u7701\",\\n                    \"value\": 104.699996948242\\n                },\\n                {\\n                    \"name\": \"\\\\u5c71\\\\u897f\\\\u7701\",\\n                    \"value\": 99.1999969482421\\n                },\\n                {\\n                    \"name\": \"\\\\u5e7f\\\\u4e1c\\\\u7701\",\\n                    \"value\": 62.599998474121\\n                },\\n                {\\n                    \"name\": \"\\\\u5e7f\\\\u897f\\\\u58ee\\\\u65cf\\\\u81ea\\\\u6cbb\\\\u533a\",\\n                    \"value\": 64.4000015258789\\n                },\\n                {\\n                    \"name\": \"\\\\u65b0\\\\u7586\\\\u7ef4\\\\u543e\\\\u5c14\\\\u81ea\\\\u6cbb\\\\u533a\",\\n                    \"value\": 152.699996948242\\n                },\\n                {\\n                    \"name\": \"\\\\u6c5f\\\\u82cf\\\\u7701\",\\n                    \"value\": 92.5999984741211\\n                },\\n                {\\n                    \"name\": \"\\\\u6c5f\\\\u897f\\\\u7701\",\\n                    \"value\": 71.1999969482421\\n                },\\n                {\\n                    \"name\": \"\\\\u6cb3\\\\u5317\\\\u7701\",\\n                    \"value\": 140.899993896484\\n                },\\n                {\\n                    \"name\": \"\\\\u6cb3\\\\u5357\\\\u7701\",\\n                    \"value\": 113.599998474121\\n                },\\n                {\\n                    \"name\": \"\\\\u6d59\\\\u6c5f\\\\u7701\",\\n                    \"value\": 85.1999969482421\\n                },\\n                {\\n                    \"name\": \"\\\\u6d77\\\\u5357\\\\u7701\",\\n                    \"value\": 40.7999992370605\\n                },\\n                {\\n                    \"name\": \"\\\\u6e56\\\\u5317\\\\u7701\",\\n                    \"value\": 94.3000030517578\\n                },\\n                {\\n                    \"name\": \"\\\\u6e56\\\\u5357\\\\u7701\",\\n                    \"value\": 83.6999969482421\\n                },\\n                {\\n                    \"name\": \"\\\\u6fb3\\\\u95e8\\\\u7279\\\\u522b\\\\u884c\\\\u653f\\\\u533a\",\\n                    \"value\": 42.9000015258789\\n                },\\n                {\\n                    \"name\": \"\\\\u7518\\\\u8083\\\\u7701\",\\n                    \"value\": 74.4000015258789\\n                },\\n                {\\n                    \"name\": \"\\\\u798f\\\\u5efa\\\\u7701\",\\n                    \"value\": 68.4000015258789\\n                },\\n                {\\n                    \"name\": \"\\\\u897f\\\\u85cf\\\\u81ea\\\\u6cbb\\\\u533a\",\\n                    \"value\": 40.7000007629394\\n                },\\n                {\\n                    \"name\": \"\\\\u8d35\\\\u5dde\\\\u7701\",\\n                    \"value\": 68.0999984741211\\n                },\\n                {\\n                    \"name\": \"\\\\u8fbd\\\\u5b81\\\\u7701\",\\n                    \"value\": 80.9000015258789\\n                },\\n                {\\n                    \"name\": \"\\\\u91cd\\\\u5e86\\\\u5e02\",\\n                    \"value\": 77.6999969482421\\n                },\\n                {\\n                    \"name\": \"\\\\u9655\\\\u897f\\\\u7701\",\\n                    \"value\": 88.6999969482421\\n                },\\n                {\\n                    \"name\": \"\\\\u9752\\\\u6d77\\\\u7701\",\\n                    \"value\": 62.4000015258789\\n                },\\n                {\\n                    \"name\": \"\\\\u9999\\\\u6e2f\\\\u7279\\\\u522b\\\\u884c\\\\u653f\\\\u533a\",\\n                    \"value\": 39.5\\n                },\\n                {\\n                    \"name\": \"\\\\u9ed1\\\\u9f99\\\\u6c5f\\\\u7701\",\\n                    \"value\": 72.6999969482421\\n                }\\n            ],\\n            \"roam\": true,\\n            \"aspectScale\": 0.75,\\n            \"nameProperty\": \"name\",\\n            \"selectedMode\": false,\\n            \"zoom\": 1,\\n            \"zlevel\": 0,\\n            \"z\": 2,\\n            \"seriesLayoutBy\": \"column\",\\n            \"datasetIndex\": 0,\\n            \"mapValueCalculation\": \"sum\",\\n            \"showLegendSymbol\": true,\\n            \"emphasis\": {}\\n        }\\n    ],\\n    \"legend\": [\\n        {\\n            \"data\": [\\n                \"\\\\u5404\\\\u7701\\\\u6700\\\\u5927\\\\u503c\"\\n            ],\\n            \"selected\": {},\\n            \"show\": true,\\n            \"padding\": 5,\\n            \"itemGap\": 10,\\n            \"itemWidth\": 25,\\n            \"itemHeight\": 14,\\n            \"backgroundColor\": \"transparent\",\\n            \"borderColor\": \"#ccc\",\\n            \"borderRadius\": 0,\\n            \"pageButtonItemGap\": 5,\\n            \"pageButtonPosition\": \"end\",\\n            \"pageFormatter\": \"{current}/{total}\",\\n            \"pageIconColor\": \"#2f4554\",\\n            \"pageIconInactiveColor\": \"#aaa\",\\n            \"pageIconSize\": 15,\\n            \"animationDurationUpdate\": 800,\\n            \"selector\": false,\\n            \"selectorPosition\": \"auto\",\\n            \"selectorItemGap\": 7,\\n            \"selectorButtonGap\": 10\\n        }\\n    ],\\n    \"tooltip\": {\\n        \"show\": true,\\n        \"trigger\": \"item\",\\n        \"triggerOn\": \"mousemove|click\",\\n        \"axisPointer\": {\\n            \"type\": \"line\"\\n        },\\n        \"showContent\": true,\\n        \"alwaysShowContent\": false,\\n        \"showDelay\": 0,\\n        \"hideDelay\": 100,\\n        \"enterable\": false,\\n        \"confine\": false,\\n        \"appendToBody\": false,\\n        \"transitionDuration\": 0.4,\\n        \"textStyle\": {\\n            \"fontSize\": 14\\n        },\\n        \"borderWidth\": 0,\\n        \"padding\": 5,\\n        \"order\": \"seriesAsc\"\\n    },\\n    \"title\": [\\n        {\\n            \"show\": true,\\n            \"text\": \"\\\\u5404\\\\u7701\\\\u6700\\\\u5927\\\\u503c\",\\n            \"target\": \"blank\",\\n            \"subtarget\": \"blank\",\\n            \"padding\": 5,\\n            \"itemGap\": 10,\\n            \"textAlign\": \"auto\",\\n            \"textVerticalAlign\": \"auto\",\\n            \"triggerEvent\": false\\n        }\\n    ],\\n    \"visualMap\": {\\n        \"show\": true,\\n        \"type\": \"continuous\",\\n        \"min\": 0,\\n        \"max\": \"99.1999969482421\",\\n        \"inRange\": {\\n            \"color\": [\\n                \"#50a3ba\",\\n                \"#eac763\",\\n                \"#d94e5d\"\\n            ]\\n        },\\n        \"calculable\": true,\\n        \"inverse\": false,\\n        \"splitNumber\": 5,\\n        \"hoverLink\": true,\\n        \"orient\": \"vertical\",\\n        \"padding\": 5,\\n        \"showLabel\": true,\\n        \"itemWidth\": 20,\\n        \"itemHeight\": 140,\\n        \"borderWidth\": 0\\n    }\\n};\\n        chart_a0e22d6fb8824c90a1fa31c0a08fcf92.setOption(option_a0e22d6fb8824c90a1fa31c0a08fcf92);\\n    </script>\\n<br/>                <div id=\"a3dd26ffc8b849e398906153893ec6c1\" class=\"chart-container\" style=\"position: absolute; width: 900.4px; height: 500.4px; top: 539.6000366210938px; left: 602px;\"></div>\\n    <script>\\n        var chart_a3dd26ffc8b849e398906153893ec6c1 = echarts.init(\\n            document.getElementById(\\'a3dd26ffc8b849e398906153893ec6c1\\'), \\'white\\', {renderer: \\'canvas\\'});\\n        var option_a3dd26ffc8b849e398906153893ec6c1 = {\\n    \"animation\": true,\\n    \"animationThreshold\": 2000,\\n    \"animationDuration\": 1000,\\n    \"animationEasing\": \"cubicOut\",\\n    \"animationDelay\": 0,\\n    \"animationDurationUpdate\": 300,\\n    \"animationEasingUpdate\": \"cubicOut\",\\n    \"animationDelayUpdate\": 0,\\n    \"aria\": {\\n        \"enabled\": false\\n    },\\n    \"color\": [\\n        \"#5470c6\",\\n        \"#91cc75\",\\n        \"#fac858\",\\n        \"#ee6666\",\\n        \"#73c0de\",\\n        \"#3ba272\",\\n        \"#fc8452\",\\n        \"#9a60b4\",\\n        \"#ea7ccc\"\\n    ],\\n    \"series\": [\\n        {\\n            \"type\": \"map\",\\n            \"name\": \"\\\\u5404\\\\u7701\\\\u6700\\\\u5c0f\\\\u503c\",\\n            \"label\": {\\n                \"show\": true,\\n                \"margin\": 8\\n            },\\n            \"map\": \"china\",\\n            \"data\": [\\n                {\\n                    \"name\": \"\\\\u4e0a\\\\u6d77\\\\u5e02\",\\n                    \"value\": 22.2000007629394\\n                },\\n                {\\n                    \"name\": \"\\\\u4e91\\\\u5357\\\\u7701\",\\n                    \"value\": 3.79999995231628\\n                },\\n                {\\n                    \"name\": \"\\\\u5185\\\\u8499\\\\u53e4\\\\u81ea\\\\u6cbb\\\\u533a\",\\n                    \"value\": 7.59999990463256\\n                },\\n                {\\n                    \"name\": \"\\\\u5317\\\\u4eac\\\\u5e02\",\\n                    \"value\": 18.5\\n                },\\n                {\\n                    \"name\": \"\\\\u53f0\\\\u6e7e\\\\u7701\",\\n                    \"value\": 8.69999980926513\\n                },\\n                {\\n                    \"name\": \"\\\\u5409\\\\u6797\\\\u7701\",\\n                    \"value\": 12.5\\n                },\\n                {\\n                    \"name\": \"\\\\u56db\\\\u5ddd\\\\u7701\",\\n                    \"value\": 0.899999976158142\\n                },\\n                {\\n                    \"name\": \"\\\\u5929\\\\u6d25\\\\u5e02\",\\n                    \"value\": 28.3999996185302\\n                },\\n                {\\n                    \"name\": \"\\\\u5b81\\\\u590f\\\\u56de\\\\u65cf\\\\u81ea\\\\u6cbb\\\\u533a\",\\n                    \"value\": 18.8999996185302\\n                },\\n                {\\n                    \"name\": \"\\\\u5b89\\\\u5fbd\\\\u7701\",\\n                    \"value\": 14.0\\n                },\\n                {\\n                    \"name\": \"\\\\u5c71\\\\u4e1c\\\\u7701\",\\n                    \"value\": 19.8999996185302\\n                },\\n                {\\n                    \"name\": \"\\\\u5c71\\\\u897f\\\\u7701\",\\n                    \"value\": 17.1000003814697\\n                },\\n                {\\n                    \"name\": \"\\\\u5e7f\\\\u4e1c\\\\u7701\",\\n                    \"value\": 10.6999998092651\\n                },\\n                {\\n                    \"name\": \"\\\\u5e7f\\\\u897f\\\\u58ee\\\\u65cf\\\\u81ea\\\\u6cbb\\\\u533a\",\\n                    \"value\": 18.3999996185302\\n                },\\n                {\\n                    \"name\": \"\\\\u65b0\\\\u7586\\\\u7ef4\\\\u543e\\\\u5c14\\\\u81ea\\\\u6cbb\\\\u533a\",\\n                    \"value\": 2.20000004768371\\n                },\\n                {\\n                    \"name\": \"\\\\u6c5f\\\\u82cf\\\\u7701\",\\n                    \"value\": 21.5\\n                },\\n                {\\n                    \"name\": \"\\\\u6c5f\\\\u897f\\\\u7701\",\\n                    \"value\": 14.0\\n                },\\n                {\\n                    \"name\": \"\\\\u6cb3\\\\u5317\\\\u7701\",\\n                    \"value\": 12.8999996185302\\n                },\\n                {\\n                    \"name\": \"\\\\u6cb3\\\\u5357\\\\u7701\",\\n                    \"value\": 13.5\\n                },\\n                {\\n                    \"name\": \"\\\\u6d59\\\\u6c5f\\\\u7701\",\\n                    \"value\": 13.3000001907348\\n                },\\n                {\\n                    \"name\": \"\\\\u6d77\\\\u5357\\\\u7701\",\\n                    \"value\": 6.80000019073486\\n                },\\n                {\\n                    \"name\": \"\\\\u6e56\\\\u5317\\\\u7701\",\\n                    \"value\": 14.3000001907348\\n                },\\n                {\\n                    \"name\": \"\\\\u6e56\\\\u5357\\\\u7701\",\\n                    \"value\": 16.2999992370605\\n                },\\n                {\\n                    \"name\": \"\\\\u6fb3\\\\u95e8\\\\u7279\\\\u522b\\\\u884c\\\\u653f\\\\u533a\",\\n                    \"value\": 17.3999996185302\\n                },\\n                {\\n                    \"name\": \"\\\\u7518\\\\u8083\\\\u7701\",\\n                    \"value\": 3.90000009536743\\n                },\\n                {\\n                    \"name\": \"\\\\u798f\\\\u5efa\\\\u7701\",\\n                    \"value\": 11.8000001907348\\n                },\\n                {\\n                    \"name\": \"\\\\u897f\\\\u85cf\\\\u81ea\\\\u6cbb\\\\u533a\",\\n                    \"value\": 0.899999976158142\\n                },\\n                {\\n                    \"name\": \"\\\\u8d35\\\\u5dde\\\\u7701\",\\n                    \"value\": 14.6000003814697\\n                },\\n                {\\n                    \"name\": \"\\\\u8fbd\\\\u5b81\\\\u7701\",\\n                    \"value\": 17.5\\n                },\\n                {\\n                    \"name\": \"\\\\u91cd\\\\u5e86\\\\u5e02\",\\n                    \"value\": 14.8999996185302\\n                },\\n                {\\n                    \"name\": \"\\\\u9655\\\\u897f\\\\u7701\",\\n                    \"value\": 14.5\\n                },\\n                {\\n                    \"name\": \"\\\\u9752\\\\u6d77\\\\u7701\",\\n                    \"value\": 0.800000011920929\\n                },\\n                {\\n                    \"name\": \"\\\\u9999\\\\u6e2f\\\\u7279\\\\u522b\\\\u884c\\\\u653f\\\\u533a\",\\n                    \"value\": 11.5\\n                },\\n                {\\n                    \"name\": \"\\\\u9ed1\\\\u9f99\\\\u6c5f\\\\u7701\",\\n                    \"value\": 8.5\\n                }\\n            ],\\n            \"roam\": true,\\n            \"aspectScale\": 0.75,\\n            \"nameProperty\": \"name\",\\n            \"selectedMode\": false,\\n            \"zoom\": 1,\\n            \"zlevel\": 0,\\n            \"z\": 2,\\n            \"seriesLayoutBy\": \"column\",\\n            \"datasetIndex\": 0,\\n            \"mapValueCalculation\": \"sum\",\\n            \"showLegendSymbol\": true,\\n            \"emphasis\": {}\\n        }\\n    ],\\n    \"legend\": [\\n        {\\n            \"data\": [\\n                \"\\\\u5404\\\\u7701\\\\u6700\\\\u5c0f\\\\u503c\"\\n            ],\\n            \"selected\": {},\\n            \"show\": true,\\n            \"padding\": 5,\\n            \"itemGap\": 10,\\n            \"itemWidth\": 25,\\n            \"itemHeight\": 14,\\n            \"backgroundColor\": \"transparent\",\\n            \"borderColor\": \"#ccc\",\\n            \"borderRadius\": 0,\\n            \"pageButtonItemGap\": 5,\\n            \"pageButtonPosition\": \"end\",\\n            \"pageFormatter\": \"{current}/{total}\",\\n            \"pageIconColor\": \"#2f4554\",\\n            \"pageIconInactiveColor\": \"#aaa\",\\n            \"pageIconSize\": 15,\\n            \"animationDurationUpdate\": 800,\\n            \"selector\": false,\\n            \"selectorPosition\": \"auto\",\\n            \"selectorItemGap\": 7,\\n            \"selectorButtonGap\": 10\\n        }\\n    ],\\n    \"tooltip\": {\\n        \"show\": true,\\n        \"trigger\": \"item\",\\n        \"triggerOn\": \"mousemove|click\",\\n        \"axisPointer\": {\\n            \"type\": \"line\"\\n        },\\n        \"showContent\": true,\\n        \"alwaysShowContent\": false,\\n        \"showDelay\": 0,\\n        \"hideDelay\": 100,\\n        \"enterable\": false,\\n        \"confine\": false,\\n        \"appendToBody\": false,\\n        \"transitionDuration\": 0.4,\\n        \"textStyle\": {\\n            \"fontSize\": 14\\n        },\\n        \"borderWidth\": 0,\\n        \"padding\": 5,\\n        \"order\": \"seriesAsc\"\\n    },\\n    \"title\": [\\n        {\\n            \"show\": true,\\n            \"text\": \"\\\\u5404\\\\u7701\\\\u6700\\\\u5c0f\\\\u503c\",\\n            \"target\": \"blank\",\\n            \"subtarget\": \"blank\",\\n            \"padding\": 5,\\n            \"itemGap\": 10,\\n            \"textAlign\": \"auto\",\\n            \"textVerticalAlign\": \"auto\",\\n            \"triggerEvent\": false\\n        }\\n    ],\\n    \"visualMap\": {\\n        \"show\": true,\\n        \"type\": \"continuous\",\\n        \"min\": 0,\\n        \"max\": \"8.69999980926513\",\\n        \"inRange\": {\\n            \"color\": [\\n                \"#50a3ba\",\\n                \"#eac763\",\\n                \"#d94e5d\"\\n            ]\\n        },\\n        \"calculable\": true,\\n        \"inverse\": false,\\n        \"splitNumber\": 5,\\n        \"hoverLink\": true,\\n        \"orient\": \"vertical\",\\n        \"padding\": 5,\\n        \"showLabel\": true,\\n        \"itemWidth\": 20,\\n        \"itemHeight\": 140,\\n        \"borderWidth\": 0\\n    }\\n};\\n        chart_a3dd26ffc8b849e398906153893ec6c1.setOption(option_a3dd26ffc8b849e398906153893ec6c1);\\n    </script>\\n<br/>                <div id=\"9085fa55046e462c83babd2133481f0f\" class=\"chart-container\" style=\"position: absolute; width: 900.4px; height: 500.4px; top: 1048px; left: 295px;\"></div>\\n    <script>\\n        var chart_9085fa55046e462c83babd2133481f0f = echarts.init(\\n            document.getElementById(\\'9085fa55046e462c83babd2133481f0f\\'), \\'white\\', {renderer: \\'canvas\\'});\\n        var option_9085fa55046e462c83babd2133481f0f = {\\n    \"animation\": true,\\n    \"animationThreshold\": 2000,\\n    \"animationDuration\": 1000,\\n    \"animationEasing\": \"cubicOut\",\\n    \"animationDelay\": 0,\\n    \"animationDurationUpdate\": 300,\\n    \"animationEasingUpdate\": \"cubicOut\",\\n    \"animationDelayUpdate\": 0,\\n    \"aria\": {\\n        \"enabled\": false\\n    },\\n    \"color\": [\\n        \"#5470c6\",\\n        \"#91cc75\",\\n        \"#fac858\",\\n        \"#ee6666\",\\n        \"#73c0de\",\\n        \"#3ba272\",\\n        \"#fc8452\",\\n        \"#9a60b4\",\\n        \"#ea7ccc\"\\n    ],\\n    \"series\": [\\n        {\\n            \"type\": \"map\",\\n            \"name\": \"\\\\u5404\\\\u7701\\\\u6807\\\\u51c6\\\\u5dee\",\\n            \"label\": {\\n                \"show\": true,\\n                \"margin\": 8\\n            },\\n            \"map\": \"china\",\\n            \"data\": [\\n                {\\n                    \"name\": \"\\\\u4e0a\\\\u6d77\\\\u5e02\",\\n                    \"value\": 8.034378838192223\\n                },\\n                {\\n                    \"name\": \"\\\\u4e91\\\\u5357\\\\u7701\",\\n                    \"value\": 7.300787450118773\\n                },\\n                {\\n                    \"name\": \"\\\\u5185\\\\u8499\\\\u53e4\\\\u81ea\\\\u6cbb\\\\u533a\",\\n                    \"value\": 9.958417234746063\\n                },\\n                {\\n                    \"name\": \"\\\\u5317\\\\u4eac\\\\u5e02\",\\n                    \"value\": 18.12985680350389\\n                },\\n                {\\n                    \"name\": \"\\\\u53f0\\\\u6e7e\\\\u7701\",\\n                    \"value\": 2.2245192998949723\\n                },\\n                {\\n                    \"name\": \"\\\\u5409\\\\u6797\\\\u7701\",\\n                    \"value\": 8.988203296833564\\n                },\\n                {\\n                    \"name\": \"\\\\u56db\\\\u5ddd\\\\u7701\",\\n                    \"value\": 18.508053532800837\\n                },\\n                {\\n                    \"name\": \"\\\\u5929\\\\u6d25\\\\u5e02\",\\n                    \"value\": 12.57159891049951\\n                },\\n                {\\n                    \"name\": \"\\\\u5b81\\\\u590f\\\\u56de\\\\u65cf\\\\u81ea\\\\u6cbb\\\\u533a\",\\n                    \"value\": 6.831031089827911\\n                },\\n                {\\n                    \"name\": \"\\\\u5b89\\\\u5fbd\\\\u7701\",\\n                    \"value\": 11.145536403015557\\n                },\\n                {\\n                    \"name\": \"\\\\u5c71\\\\u4e1c\\\\u7701\",\\n                    \"value\": 15.59200514551796\\n                },\\n                {\\n                    \"name\": \"\\\\u5c71\\\\u897f\\\\u7701\",\\n                    \"value\": 12.192387212150951\\n                },\\n                {\\n                    \"name\": \"\\\\u5e7f\\\\u4e1c\\\\u7701\",\\n                    \"value\": 7.331560216318079\\n                },\\n                {\\n                    \"name\": \"\\\\u5e7f\\\\u897f\\\\u58ee\\\\u65cf\\\\u81ea\\\\u6cbb\\\\u533a\",\\n                    \"value\": 8.213099683669855\\n                },\\n                {\\n                    \"name\": \"\\\\u65b0\\\\u7586\\\\u7ef4\\\\u543e\\\\u5c14\\\\u81ea\\\\u6cbb\\\\u533a\",\\n                    \"value\": 23.79180420298204\\n                },\\n                {\\n                    \"name\": \"\\\\u6c5f\\\\u82cf\\\\u7701\",\\n                    \"value\": 9.668821903509247\\n                },\\n                {\\n                    \"name\": \"\\\\u6c5f\\\\u897f\\\\u7701\",\\n                    \"value\": 7.823092789006986\\n                },\\n                {\\n                    \"name\": \"\\\\u6cb3\\\\u5317\\\\u7701\",\\n                    \"value\": 24.58155283061881\\n                },\\n                {\\n                    \"name\": \"\\\\u6cb3\\\\u5357\\\\u7701\",\\n                    \"value\": 15.292931934678192\\n                },\\n                {\\n                    \"name\": \"\\\\u6d59\\\\u6c5f\\\\u7701\",\\n                    \"value\": 10.310869202103428\\n                },\\n                {\\n                    \"name\": \"\\\\u6d77\\\\u5357\\\\u7701\",\\n                    \"value\": 4.2907887893887295\\n                },\\n                {\\n                    \"name\": \"\\\\u6e56\\\\u5317\\\\u7701\",\\n                    \"value\": 14.5441114793708\\n                },\\n                {\\n                    \"name\": \"\\\\u6e56\\\\u5357\\\\u7701\",\\n                    \"value\": 11.186167676176147\\n                },\\n                {\\n                    \"name\": \"\\\\u6fb3\\\\u95e8\\\\u7279\\\\u522b\\\\u884c\\\\u653f\\\\u533a\",\\n                    \"value\": 5.852193032606268\\n                },\\n                {\\n                    \"name\": \"\\\\u7518\\\\u8083\\\\u7701\",\\n                    \"value\": 8.54654353297965\\n                },\\n                {\\n                    \"name\": \"\\\\u798f\\\\u5efa\\\\u7701\",\\n                    \"value\": 5.617090722611963\\n                },\\n                {\\n                    \"name\": \"\\\\u897f\\\\u85cf\\\\u81ea\\\\u6cbb\\\\u533a\",\\n                    \"value\": 5.54983065212984\\n                },\\n                {\\n                    \"name\": \"\\\\u8d35\\\\u5dde\\\\u7701\",\\n                    \"value\": 6.929307235739134\\n                },\\n                {\\n                    \"name\": \"\\\\u8fbd\\\\u5b81\\\\u7701\",\\n                    \"value\": 8.565488707560995\\n                },\\n                {\\n                    \"name\": \"\\\\u91cd\\\\u5e86\\\\u5e02\",\\n                    \"value\": 13.108382527118616\\n                },\\n                {\\n                    \"name\": \"\\\\u9655\\\\u897f\\\\u7701\",\\n                    \"value\": 13.54630820190572\\n                },\\n                {\\n                    \"name\": \"\\\\u9752\\\\u6d77\\\\u7701\",\\n                    \"value\": 15.684980627618728\\n                },\\n                {\\n                    \"name\": \"\\\\u9999\\\\u6e2f\\\\u7279\\\\u522b\\\\u884c\\\\u653f\\\\u533a\",\\n                    \"value\": 5.229091734098311\\n                },\\n                {\\n                    \"name\": \"\\\\u9ed1\\\\u9f99\\\\u6c5f\\\\u7701\",\\n                    \"value\": 8.936786740647454\\n                }\\n            ],\\n            \"roam\": true,\\n            \"aspectScale\": 0.75,\\n            \"nameProperty\": \"name\",\\n            \"selectedMode\": false,\\n            \"zoom\": 1,\\n            \"zlevel\": 0,\\n            \"z\": 2,\\n            \"seriesLayoutBy\": \"column\",\\n            \"datasetIndex\": 0,\\n            \"mapValueCalculation\": \"sum\",\\n            \"showLegendSymbol\": true,\\n            \"emphasis\": {}\\n        }\\n    ],\\n    \"legend\": [\\n        {\\n            \"data\": [\\n                \"\\\\u5404\\\\u7701\\\\u6807\\\\u51c6\\\\u5dee\"\\n            ],\\n            \"selected\": {},\\n            \"show\": true,\\n            \"padding\": 5,\\n            \"itemGap\": 10,\\n            \"itemWidth\": 25,\\n            \"itemHeight\": 14,\\n            \"backgroundColor\": \"transparent\",\\n            \"borderColor\": \"#ccc\",\\n            \"borderRadius\": 0,\\n            \"pageButtonItemGap\": 5,\\n            \"pageButtonPosition\": \"end\",\\n            \"pageFormatter\": \"{current}/{total}\",\\n            \"pageIconColor\": \"#2f4554\",\\n            \"pageIconInactiveColor\": \"#aaa\",\\n            \"pageIconSize\": 15,\\n            \"animationDurationUpdate\": 800,\\n            \"selector\": false,\\n            \"selectorPosition\": \"auto\",\\n            \"selectorItemGap\": 7,\\n            \"selectorButtonGap\": 10\\n        }\\n    ],\\n    \"tooltip\": {\\n        \"show\": true,\\n        \"trigger\": \"item\",\\n        \"triggerOn\": \"mousemove|click\",\\n        \"axisPointer\": {\\n            \"type\": \"line\"\\n        },\\n        \"showContent\": true,\\n        \"alwaysShowContent\": false,\\n        \"showDelay\": 0,\\n        \"hideDelay\": 100,\\n        \"enterable\": false,\\n        \"confine\": false,\\n        \"appendToBody\": false,\\n        \"transitionDuration\": 0.4,\\n        \"textStyle\": {\\n            \"fontSize\": 14\\n        },\\n        \"borderWidth\": 0,\\n        \"padding\": 5,\\n        \"order\": \"seriesAsc\"\\n    },\\n    \"title\": [\\n        {\\n            \"show\": true,\\n            \"text\": \"\\\\u5404\\\\u7701\\\\u6807\\\\u51c6\\\\u5dee\",\\n            \"target\": \"blank\",\\n            \"subtarget\": \"blank\",\\n            \"padding\": 5,\\n            \"itemGap\": 10,\\n            \"textAlign\": \"auto\",\\n            \"textVerticalAlign\": \"auto\",\\n            \"triggerEvent\": false\\n        }\\n    ],\\n    \"visualMap\": {\\n        \"show\": true,\\n        \"type\": \"continuous\",\\n        \"min\": 0,\\n        \"max\": \"9.958417234746063\",\\n        \"inRange\": {\\n            \"color\": [\\n                \"#50a3ba\",\\n                \"#eac763\",\\n                \"#d94e5d\"\\n            ]\\n        },\\n        \"calculable\": true,\\n        \"inverse\": false,\\n        \"splitNumber\": 5,\\n        \"hoverLink\": true,\\n        \"orient\": \"vertical\",\\n        \"padding\": 5,\\n        \"showLabel\": true,\\n        \"itemWidth\": 20,\\n        \"itemHeight\": 140,\\n        \"borderWidth\": 0\\n    }\\n};\\n        chart_9085fa55046e462c83babd2133481f0f.setOption(option_9085fa55046e462c83babd2133481f0f);\\n    </script>\\n<br/>    </div>\\n    <script>\\n            $(\\'#a5b9a2ab0bbb4a6589135cd0c39c84c3\\').css(\\'border-style\\', \\'dashed\\').css(\\'border-width\\', \\'0px\\');$(\"#a5b9a2ab0bbb4a6589135cd0c39c84c3>div:nth-child(1)\").width(\"100%\").height(\"100%\");\\n            new ResizeSensor(jQuery(\\'#a5b9a2ab0bbb4a6589135cd0c39c84c3\\'), function() { chart_a5b9a2ab0bbb4a6589135cd0c39c84c3.resize()});\\n            $(\\'#0a7f01ed27994d67b9e64b2d6837e5e9\\').css(\\'border-style\\', \\'dashed\\').css(\\'border-width\\', \\'0px\\');$(\"#0a7f01ed27994d67b9e64b2d6837e5e9>div:nth-child(1)\").width(\"100%\").height(\"100%\");\\n            new ResizeSensor(jQuery(\\'#0a7f01ed27994d67b9e64b2d6837e5e9\\'), function() { chart_0a7f01ed27994d67b9e64b2d6837e5e9.resize()});\\n            $(\\'#a0e22d6fb8824c90a1fa31c0a08fcf92\\').css(\\'border-style\\', \\'dashed\\').css(\\'border-width\\', \\'0px\\');$(\"#a0e22d6fb8824c90a1fa31c0a08fcf92>div:nth-child(1)\").width(\"100%\").height(\"100%\");\\n            new ResizeSensor(jQuery(\\'#a0e22d6fb8824c90a1fa31c0a08fcf92\\'), function() { chart_a0e22d6fb8824c90a1fa31c0a08fcf92.resize()});\\n            $(\\'#a3dd26ffc8b849e398906153893ec6c1\\').css(\\'border-style\\', \\'dashed\\').css(\\'border-width\\', \\'0px\\');$(\"#a3dd26ffc8b849e398906153893ec6c1>div:nth-child(1)\").width(\"100%\").height(\"100%\");\\n            new ResizeSensor(jQuery(\\'#a3dd26ffc8b849e398906153893ec6c1\\'), function() { chart_a3dd26ffc8b849e398906153893ec6c1.resize()});\\n            $(\\'#9085fa55046e462c83babd2133481f0f\\').css(\\'border-style\\', \\'dashed\\').css(\\'border-width\\', \\'0px\\');$(\"#9085fa55046e462c83babd2133481f0f>div:nth-child(1)\").width(\"100%\").height(\"100%\");\\n            new ResizeSensor(jQuery(\\'#9085fa55046e462c83babd2133481f0f\\'), function() { chart_9085fa55046e462c83babd2133481f0f.resize()});\\n            var charts_id = [\\'a5b9a2ab0bbb4a6589135cd0c39c84c3\\',\\'0a7f01ed27994d67b9e64b2d6837e5e9\\',\\'a0e22d6fb8824c90a1fa31c0a08fcf92\\',\\'a3dd26ffc8b849e398906153893ec6c1\\',\\'9085fa55046e462c83babd2133481f0f\\'];\\nfunction downloadCfg () {\\n    const fileName = \\'chart_config.json\\'\\n    let downLink = document.createElement(\\'a\\')\\n    downLink.download = fileName\\n\\n    let result = []\\n    for(let i=0; i<charts_id.length; i++) {\\n        chart = $(\\'#\\'+charts_id[i])\\n        result.push({\\n            cid: charts_id[i],\\n            width: chart.css(\"width\"),\\n            height: chart.css(\"height\"),\\n            top: chart.offset().top + \"px\",\\n            left: chart.offset().left + \"px\"\\n        })\\n    }\\n\\n    let blob = new Blob([JSON.stringify(result)])\\n    downLink.href = URL.createObjectURL(blob)\\n    document.body.appendChild(downLink)\\n    downLink.click()\\n    document.body.removeChild(downLink)\\n}\\n    </script>\\n</body>\\n</html>\\n'"
      ]
     },
     "execution_count": 50,
     "metadata": {},
     "output_type": "execute_result"
    }
   ],
   "source": [
    "# 使用刚才生成的布局配置文件chart_config.json，来重新生成一个新的Page页面(html文档)\n",
    "Page.save_resize_html(\"../../文件/page/film/大屏可视化/⑤可视化大屏.html\", cfg_file=\"../../文件/page/film/大屏可视化/chart_config5.json\", dest=\"../../文件/page/film/大屏可视化/⑤可视化大屏⑤.html\")"
   ]
  },
  {
   "cell_type": "code",
   "execution_count": null,
   "id": "838ac96d",
   "metadata": {},
   "outputs": [],
   "source": []
  },
  {
   "cell_type": "code",
   "execution_count": null,
   "id": "a6ed2054",
   "metadata": {},
   "outputs": [],
   "source": []
  }
 ],
 "metadata": {
  "kernelspec": {
   "display_name": "Python 3 (ipykernel)",
   "language": "python",
   "name": "python3"
  },
  "language_info": {
   "codemirror_mode": {
    "name": "ipython",
    "version": 3
   },
   "file_extension": ".py",
   "mimetype": "text/x-python",
   "name": "python",
   "nbconvert_exporter": "python",
   "pygments_lexer": "ipython3",
   "version": "3.7.4"
  },
  "toc": {
   "base_numbering": 1,
   "nav_menu": {},
   "number_sections": true,
   "sideBar": true,
   "skip_h1_title": false,
   "title_cell": "Table of Contents",
   "title_sidebar": "Contents",
   "toc_cell": false,
   "toc_position": {},
   "toc_section_display": true,
   "toc_window_display": false
  }
 },
 "nbformat": 4,
 "nbformat_minor": 5
}
